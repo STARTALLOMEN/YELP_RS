{
 "cells": [
  {
   "cell_type": "code",
   "execution_count": 1,
   "metadata": {},
   "outputs": [],
   "source": [
    "from pyspark.sql import SparkSession\n",
    "from pyspark.sql.functions import *\n",
    "from pyspark.sql.types import *\n",
    "from pyspark.ml.feature import Imputer\n",
    "import pyspark.sql.functions as F\n",
    "from pyspark.sql.window import Window\n",
    "from delta import *\n"
   ]
  },
  {
   "cell_type": "code",
   "execution_count": 2,
   "metadata": {},
   "outputs": [],
   "source": [
    "builder = SparkSession.builder \\\n",
    "    .appName(\"Dim Process\") \\\n",
    "    .config(\"spark.jars.packages\", \"io.delta:delta-core_2.12:3.1.0\") \\\n",
    "    .config(\"spark.sql.extensions\", \"io.delta.sql.DeltaSparkSessionExtension\") \\\n",
    "    .config(\"spark.driver.memory\", \"6g\") \\\n",
    "    .config(\"spark.sql.catalog.spark_catalog\", \"org.apache.spark.sql.delta.catalog.DeltaCatalog\")\n",
    "\n",
    "spark = configure_spark_with_delta_pip(builder).getOrCreate()"
   ]
  },
  {
   "cell_type": "code",
   "execution_count": 4,
   "metadata": {},
   "outputs": [
    {
     "name": "stdout",
     "output_type": "stream",
     "text": [
      "+--------------------+------------+------------+-------------------+------+-----+----+-----+--------------------+----+-------------+--------------+---------------+------------------+---------------+---------------+---------------+----------------+---------------+----------------+-----------------+-----------------+--------------------+--------------+-------------+------------+------------+---------------------+----------------------+-----------------------+--------------------------+-----------------------+-----------------------+-----------------------+------------------------+-----------------------+------------------------+-------------------------+-------------------------+----------------+-----------+-----------------+--------------------+-------------+-----------------+--------------------+-----------+---------------+\n",
      "|             user_id|        name|review_count|      yelping_since|useful|funny|cool|elite|             friends|fans|average_stars|compliment_hot|compliment_more|compliment_profile|compliment_cute|compliment_list|compliment_note|compliment_plain|compliment_cool|compliment_funny|compliment_writer|compliment_photos|review_count_imputed|useful_imputed|funny_imputed|cool_imputed|fans_imputed|average_stars_imputed|compliment_hot_imputed|compliment_more_imputed|compliment_profile_imputed|compliment_cute_imputed|compliment_list_imputed|compliment_note_imputed|compliment_plain_imputed|compliment_cool_imputed|compliment_funny_imputed|compliment_writer_imputed|compliment_photos_imputed|account_age_days|elite_years|elite_years_count|       friends_array|friends_count|total_compliments|    engagement_score|user_status|rating_behavior|\n",
      "+--------------------+------------+------------+-------------------+------+-----+----+-----+--------------------+----+-------------+--------------+---------------+------------------+---------------+---------------+---------------+----------------+---------------+----------------+-----------------+-----------------+--------------------+--------------+-------------+------------+------------+---------------------+----------------------+-----------------------+--------------------------+-----------------------+-----------------------+-----------------------+------------------------+-----------------------+------------------------+-------------------------+-------------------------+----------------+-----------+-----------------+--------------------+-------------+-----------------+--------------------+-----------+---------------+\n",
      "|FfG-p4qvEWeiLguqg...|         Kim|           6|2012-01-04 14:13:25|     5|    1|   0|     |yze4tgPcnzfAn6Xq_...|   0|         1.33|             0|              0|                 0|              0|              0|              0|               0|              0|               0|                0|                0|                   6|             5|            1|           0|           0|                 1.33|                     0|                      0|                         0|                      0|                      0|                      0|                       0|                      0|                       0|                        0|                        0|            4789|         []|                1|[yze4tgPcnzfAn6Xq...|            5|                0|0.002296930465650...|      Elite|       Critical|\n",
      "|S68C4CzZxV2R_mF7N...|        Lisa|           2|2019-01-16 06:14:40|     0|    0|   0|     |                None|   0|          2.0|             0|              0|                 0|              0|              0|              0|               0|              0|               0|                0|                0|                   2|             0|            0|           0|           0|                  2.0|                     0|                      0|                         0|                      0|                      0|                      0|                       0|                      0|                       0|                        0|                        0|            2220|         []|                1|              [None]|            1|                0|0.001351351351351...|      Elite|       Critical|\n",
      "|7zNS9S_6Urtg7aj0Z...|        John|           1|2018-03-28 16:20:10|     0|    0|   0|     |                None|   0|          1.0|             0|              0|                 0|              0|              0|              0|               0|              0|               0|                0|                0|                   1|             0|            0|           0|           0|                  1.0|                     0|                      0|                         0|                      0|                      0|                      0|                       0|                      0|                       0|                        0|                        0|            2514|         []|                1|              [None]|            1|                0|7.955449482895784E-4|      Elite|       Critical|\n",
      "|3myIRAWBKxv5CLVsL...|    Victoria|           8|2012-08-31 17:34:44|     9|    0|   0|     |Lh8qhVQa5QikFS7M7...|   0|          2.0|             0|              0|                 0|              0|              0|              1|               0|              0|               0|                0|                0|                   8|             9|            0|           0|           0|                  2.0|                     0|                      0|                         0|                      0|                      0|                      1|                       0|                      0|                       0|                        0|                        0|            4549|         []|                1|[Lh8qhVQa5QikFS7M...|          100|                2| 0.02374148164431743|      Elite|       Critical|\n",
      "|Q7UiNcl722TX01QOx...|       Maria|           4|2014-07-11 11:11:56|     3|    0|   0|     |SX6_lsykaU_96eOMD...|   0|          1.6|             0|              0|                 0|              0|              0|              0|               0|              0|               0|                0|                0|                   4|             3|            0|           0|           0|                  1.6|                     0|                      0|                         0|                      0|                      0|                      0|                       0|                      0|                       0|                        0|                        0|            3870|         []|                1|[SX6_lsykaU_96eOM...|           72|                0|0.019638242894056846|      Elite|       Critical|\n",
      "|vIsYkHV5bnzBHCieQ...|      Timber|           1|2013-08-01 06:26:46|    12|    0|   0|     |                None|   0|          1.0|             0|              0|                 0|              0|              0|              1|               0|              1|               1|                0|                0|                   1|            12|            0|           0|           0|                  1.0|                     0|                      0|                         0|                      0|                      0|                      1|                       0|                      1|                       1|                        0|                        0|            4214|         []|                1|              [None]|            1|                6|4.746084480303749...|      Elite|       Critical|\n",
      "|kovhifOQETCZXEVsR...|    Danielle|           1|2013-01-05 20:18:18|    17|    0|   0|     |                None|   0|          1.0|             0|              0|                 0|              0|              0|              0|               0|              0|               0|                0|                0|                   1|            17|            0|           0|           0|                  1.0|                     0|                      0|                         0|                      0|                      0|                      0|                       0|                      0|                       0|                        0|                        0|            4422|         []|                1|              [None]|            1|                0|4.522840343735866E-4|      Elite|       Critical|\n",
      "|vanI1u0MpiAH2QdkB...|       Gabby|           9|2017-07-21 07:19:09|    19|    1|   0|     |mtLH8Z6U-rU2Fbu0j...|   0|         1.89|             0|              0|                 0|              0|              0|              0|               0|              0|               0|                0|                0|                   9|            19|            1|           0|           0|                 1.89|                     0|                      0|                         0|                      0|                      0|                      0|                       0|                      0|                       0|                        0|                        0|            2764|         []|                1|[mtLH8Z6U-rU2Fbu0...|          739|                0|  0.2706222865412446|      Elite|       Critical|\n",
      "|VBgprS0uBf9EnkHTG...|       Maria|           4|2016-09-20 22:15:29|     1|    0|   1|     |                None|   0|          1.0|             0|              0|                 0|              0|              0|              0|               0|              0|               0|                0|                0|                   4|             1|            0|           1|           0|                  1.0|                     0|                      0|                         0|                      0|                      0|                      0|                       0|                      0|                       0|                        0|                        0|            3068|         []|                1|              [None]|            1|                0|0.001629726205997...|      Elite|       Critical|\n",
      "|2-fV-Sv_RjE9mmyS0...|         Pat|           1|2018-02-19 23:27:36|     0|    0|   0|     |lpuX3VSOL8i1CtQi4...|   1|          1.0|             0|              0|                 0|              0|              0|              0|               0|              0|               0|                0|                0|                   1|             0|            0|           0|           1|                  1.0|                     0|                      0|                         0|                      0|                      0|                      0|                       0|                      0|                       0|                        0|                        0|            2551|         []|                1|[lpuX3VSOL8i1CtQi...|           59|                0| 0.02391219129753038|      Elite|       Critical|\n",
      "|8YA3IIy-2XhFU9-36...|Shawn Ismail|           2|2015-09-09 19:02:25|     5|    0|   0|     |                None|   0|          2.0|             0|              0|                 0|              0|              0|              0|               1|              0|               0|                0|                0|                   2|             5|            0|           0|           0|                  2.0|                     0|                      0|                         0|                      0|                      0|                      0|                       1|                      0|                       0|                        0|                        0|            3445|         []|                1|              [None]|            1|                2|8.708272859216256E-4|      Elite|       Critical|\n",
      "|7uc8fgqtVS2bBFZRa...|      Ashley|           1|2017-12-30 14:20:39|     0|    0|   0|     |yuoO_pFbLaX0YZviS...|   0|          2.0|             0|              0|                 0|              0|              0|              0|               0|              0|               0|                0|                0|                   1|             0|            0|           0|           0|                  2.0|                     0|                      0|                         0|                      0|                      0|                      0|                       0|                      0|                       0|                        0|                        0|            2602|         []|                1|[yuoO_pFbLaX0YZvi...|           81|                0| 0.03151421983089931|      Elite|       Critical|\n",
      "|ioNJFqwmYNCxibfSy...|      Joanna|           1|2011-03-22 21:45:07|     5|    0|   0|     |                None|   0|          1.0|             0|              0|                 0|              0|              0|              0|               0|              0|               0|                0|                0|                   1|             5|            0|           0|           0|                  1.0|                     0|                      0|                         0|                      0|                      0|                      0|                       0|                      0|                       0|                        0|                        0|            5077|         []|                1|              [None]|            1|                0|3.939334252511325...|      Elite|       Critical|\n",
      "|0PLy-N_sLWSHwvnKX...|        Cody|           4|2017-09-07 19:17:49|     4|    1|   0|     |JpuHpKGE8M7bQkayM...|   0|          1.8|             0|              0|                 0|              0|              0|              0|               0|              0|               0|                0|                0|                   4|             4|            1|           0|           0|                  1.8|                     0|                      0|                         0|                      0|                      0|                      0|                       0|                      0|                       0|                        0|                        0|            2716|         []|                1|[JpuHpKGE8M7bQkay...|          123|                0|   0.046759941089838|      Elite|       Critical|\n",
      "|TW5WkG6fWWAcjGOZM...|         Naz|           2|2015-09-22 16:33:42|     1|    0|   0|     |                None|   0|          1.5|             0|              0|                 0|              0|              0|              0|               0|              0|               0|                0|                0|                   2|             1|            0|           0|           0|                  1.5|                     0|                      0|                         0|                      0|                      0|                      0|                       0|                      0|                       0|                        0|                        0|            3432|         []|                1|              [None]|            1|                0|8.741258741258741E-4|      Elite|       Critical|\n",
      "|nXC_weLyl4Ej8lhvJ...|       Suzie|           9|2013-10-31 19:57:26|     4|    1|   0|     |                None|   0|          1.4|             0|              0|                 0|              0|              0|              0|               0|              0|               0|                0|                0|                   9|             4|            1|           0|           0|                  1.4|                     0|                      0|                         0|                      0|                      0|                      0|                       0|                      0|                       0|                        0|                        0|            4123|         []|                1|              [None]|            1|                0|0.002425418384671356|      Elite|       Critical|\n",
      "|LVIjnofnmX8hD3AeR...|     Jeffrey|           1|2015-12-15 22:29:10|     0|    0|   0|     |4wZIPkiHJvUYKTLNN...|   0|          1.0|             0|              0|                 0|              0|              0|              0|               0|              0|               0|                0|                0|                   1|             0|            0|           0|           0|                  1.0|                     0|                      0|                         0|                      0|                      0|                      0|                       0|                      0|                       0|                        0|                        0|            3348|         []|                1|[4wZIPkiHJvUYKTLN...|           11|                0|0.003584229390681...|      Elite|       Critical|\n",
      "|dB49TXwhppCspAl_E...|           Z|          74|2011-06-27 07:53:19|   150|   75|  17|     |am4k5XjbKhhIIJEf0...|  10|         1.64|             0|              0|                 0|              0|              0|              2|               0|              0|               0|                1|                0|                  74|           150|           75|          17|          10|                 1.64|                     0|                      0|                         0|                      0|                      0|                      2|                       0|                      0|                       0|                        1|                        0|            4980|         []|                1|[am4k5XjbKhhIIJEf...|            3|                6| 0.01746987951807229|      Elite|       Critical|\n",
      "|yR8sbsSysGjp9p5mB...|     Forrest|           3|2018-08-25 22:58:18|    14|    1|   0|     |LryXlujWso-HqpZn4...|   0|          2.0|             0|              0|                 0|              0|              0|              0|               0|              0|               0|                0|                0|                   3|            14|            1|           0|           0|                  2.0|                     0|                      0|                         0|                      0|                      0|                      0|                       0|                      0|                       0|                        0|                        0|            2364|         []|                1|[LryXlujWso-HqpZn...|           17|                0|0.008460236886632826|      Elite|       Critical|\n",
      "|Wg9IZ18lRZuXIKGO8...|     Aleries|           3|2016-04-30 03:05:09|     3|    2|   0|     |Mt1c4rYAYUNtYa-__...|   0|         1.33|             0|              0|                 0|              0|              0|              0|               0|              0|               0|                0|                0|                   3|             3|            2|           0|           0|                 1.33|                     0|                      0|                         0|                      0|                      0|                      0|                       0|                      0|                       0|                        0|                        0|            3211|         []|                1|[Mt1c4rYAYUNtYa-_...|           24|                0|0.008408595453129867|      Elite|       Critical|\n",
      "+--------------------+------------+------------+-------------------+------+-----+----+-----+--------------------+----+-------------+--------------+---------------+------------------+---------------+---------------+---------------+----------------+---------------+----------------+-----------------+-----------------+--------------------+--------------+-------------+------------+------------+---------------------+----------------------+-----------------------+--------------------------+-----------------------+-----------------------+-----------------------+------------------------+-----------------------+------------------------+-------------------------+-------------------------+----------------+-----------+-----------------+--------------------+-------------+-----------------+--------------------+-----------+---------------+\n",
      "only showing top 20 rows\n",
      "\n"
     ]
    }
   ],
   "source": [
    "# Read from Delta Lake table\n",
    "dfu = spark.read.format(\"delta\") \\\n",
    "    .option(\"mergeSchema\", \"true\") \\\n",
    "    .load(\"D:/Project/delta_lake/silver/users\")\n",
    "\n",
    "# Display the data\n",
    "dfu.show()\n"
   ]
  },
  {
   "cell_type": "code",
   "execution_count": 0,
   "metadata": {
    "application/vnd.databricks.v1+cell": {
     "cellMetadata": {
      "byteLimit": 2048000,
      "rowLimit": 10000
     },
     "inputWidgets": {},
     "nuid": "9cb2a3ef-5410-4c9d-9979-e0f8e6eb97d5",
     "showTitle": false,
     "tableResultSettingsMap": {},
     "title": ""
    }
   },
   "outputs": [],
   "source": [
    "# Tạo bảng dim_user\n",
    "dim_user = dfu.select(\"user_id\", \"name\", \"yelping_since\", \"elite_years_count\", \"friend_count\", \"review_count\", \"average_stars\") \\\n",
    "    .withColumnRenamed(\"name\", \"user_name\")\n",
    "\n",
    "# Lưu bảng dim_user vào Gold Layer (lưu tạm)\n",
    "dim_user.write.mode(\"overwrite\").parquet(\"dbfs:/mnt/gold/dim_user\")\n"
   ]
  },
  {
   "cell_type": "code",
   "execution_count": 0,
   "metadata": {
    "application/vnd.databricks.v1+cell": {
     "cellMetadata": {
      "byteLimit": 2048000,
      "rowLimit": 10000
     },
     "inputWidgets": {},
     "nuid": "4e19326f-ef5f-4bc5-8735-2be4ffc06e35",
     "showTitle": false,
     "tableResultSettingsMap": {},
     "title": ""
    }
   },
   "outputs": [
    {
     "name": "stdout",
     "output_type": "stream",
     "text": [
      "+--------------------+--------------------+--------------------+--------------------+------------+--------------------+-------+-------------+---------------+--------------------+-----------+------------+-----+-----+---------------------+----------------+------------+--------------------+---------+----------------+--------------------+----------------+---------------------------+-------------------------------+--------------------+----------------------+-----------+--------------+------------+------------------------+----------------+--------------+-------------------+----------------+--------------------+----------------------+--------------+----------+--------------------+---------------+----------------+-------------------+----------------------+------------------------------+------------------------+-----------------------------+---------------------------+----------------------------+----------------------------+-----------------------+------------+-------------------------+---------+------------+-------------+---------------+--------------+------------+--------------+------------+\n",
      "|             address|          attributes|         business_id|          categories|        city|               hours|is_open|     latitude|      longitude|                name|postal_code|review_count|stars|state|attr_AcceptsInsurance|attr_AgesAllowed|attr_Alcohol|       attr_Ambience|attr_BYOB|attr_BYOBCorkage|     attr_BestNights|attr_BikeParking|attr_BusinessAcceptsBitcoin|attr_BusinessAcceptsCreditCards|attr_BusinessParking|attr_ByAppointmentOnly|attr_Caters|attr_CoatCheck|attr_Corkage|attr_DietaryRestrictions|attr_DogsAllowed|attr_DriveThru|attr_GoodForDancing|attr_GoodForKids|    attr_GoodForMeal|attr_HairSpecializesIn|attr_HappyHour|attr_HasTV|          attr_Music|attr_NoiseLevel|attr_Open24Hours|attr_OutdoorSeating|attr_RestaurantsAttire|attr_RestaurantsCounterService|attr_RestaurantsDelivery|attr_RestaurantsGoodForGroups|attr_RestaurantsPriceRange2|attr_RestaurantsReservations|attr_RestaurantsTableService|attr_RestaurantsTakeOut|attr_Smoking|attr_WheelchairAccessible|attr_WiFi|hours_Monday|hours_Tuesday|hours_Wednesday|hours_Thursday|hours_Friday|hours_Saturday|hours_Sunday|\n",
      "+--------------------+--------------------+--------------------+--------------------+------------+--------------------+-------+-------------+---------------+--------------------+-----------+------------+-----+-----+---------------------+----------------+------------+--------------------+---------+----------------+--------------------+----------------+---------------------------+-------------------------------+--------------------+----------------------+-----------+--------------+------------+------------------------+----------------+--------------+-------------------+----------------+--------------------+----------------------+--------------+----------+--------------------+---------------+----------------+-------------------+----------------------+------------------------------+------------------------+-----------------------------+---------------------------+----------------------------+----------------------------+-----------------------+------------+-------------------------+---------+------------+-------------+---------------+--------------+------------+--------------+------------+\n",
      "|       120 W Main St|{NULL, NULL, NULL...|xKoz9eM8hUELf5qix...|Home & Garden, Ho...|  Plainfield|{10:0-18:0, NULL,...|      1|    39.703082|    -86.4027716|African Plum Home...|      46168|           5|  4.5|   IN|                 NULL|            NULL|        NULL|                NULL|     NULL|            NULL|                NULL|            NULL|                       NULL|                           NULL|{'garage': False,...|                  NULL|       NULL|          NULL|        NULL|                    NULL|            NULL|          NULL|               NULL|            NULL|                NULL|                  NULL|          NULL|      NULL|                NULL|           NULL|            NULL|               NULL|                  NULL|                          NULL|                    NULL|                         NULL|                       NULL|                        NULL|                        NULL|                   NULL|        NULL|                     NULL|     NULL|      Closed|     9:0-15:0|       9:0-15:0|        Closed|   10:0-18:0|     10:0-18:0|   12:0-17:0|\n",
      "| 2224 E Fletcher Ave|{NULL, NULL, u'no...|yiE_Iym7A9wa6tyJH...|Cheesesteaks, Bub...|       Tampa|{11:0-23:0, NULL,...|      1|   28.0696227|    -82.4330778|      Craft Fry Wing|      33612|          43|  4.5|   FL|                 NULL|            NULL|     u'none'|{'touristy': Fals...|     NULL|            NULL|                NULL|            True|                      False|                           True|{'garage': False,...|                 False|       True|          NULL|        NULL|                    NULL|           False|          NULL|               NULL|            True|{'dessert': False...|                  NULL|          NULL|      True|                NULL|     u'average'|            NULL|               None|              'casual'|                          NULL|                    True|                         True|                          2|                       False|                       False|                   True|        NULL|                     True|     'no'|      Closed|    11:0-22:0|      11:0-22:0|     11:0-22:0|   11:0-23:0|     12:0-23:0|   12:0-22:0|\n",
      "|        7811 US 31 S|{NULL, NULL, u'no...|7d9X9wnm_35UcdJRJ...|Restaurants, Chinese|Indianapolis|{10:30-23:0, 10:3...|      1|    39.652946|     -86.136276|          China King|      46227|          22|  4.0|   IN|                 NULL|            NULL|     u'none'|                None|     NULL|            NULL|                NULL|            True|                       NULL|                           True|                None|                  NULL|       NULL|          NULL|        NULL|                    NULL|            NULL|          NULL|               NULL|            True|                NULL|                  NULL|          NULL|      True|                NULL|     u'average'|            NULL|              False|              'casual'|                          NULL|                    True|                        False|                          1|                       False|                        NULL|                   True|        NULL|                     NULL|     'no'|  10:30-22:0|       Closed|     10:30-22:0|    10:30-22:0|  10:30-23:0|    10:30-23:0|  11:30-22:0|\n",
      "|         924 Arch St|{NULL, NULL, NULL...|CFPWVAFSP3Ktfe-cE...|Home Services, Re...|Philadelphia|                NULL|      1|   39.9531343|    -75.1557466|Liberty Real Esta...|      19107|          15|  1.5|   PA|                 NULL|            NULL|        NULL|                NULL|     NULL|            NULL|                NULL|            NULL|                       NULL|                          False|                NULL|                  NULL|       NULL|          NULL|        NULL|                    NULL|            NULL|          NULL|               NULL|            NULL|                NULL|                  NULL|          NULL|      NULL|                NULL|           NULL|            NULL|               NULL|                  NULL|                          NULL|                    NULL|                         NULL|                       NULL|                        NULL|                        NULL|                   NULL|        NULL|                     NULL|     NULL|      Closed|       Closed|         Closed|        Closed|      Closed|        Closed|      Closed|\n",
      "|   4317 Harding Pike|{NULL, NULL, NULL...|EgZH_qXEQH_WJyNFg...|Shopping, Accesso...|   Nashville|{10:0-17:30, 10:0...|      0|    36.126026|     -86.845443|               Jamie|      37205|           6|  3.0|   TN|                 NULL|            NULL|        NULL|                NULL|     NULL|            NULL|                NULL|           False|                       NULL|                           True|{'garage': False,...|                  NULL|       NULL|          NULL|        NULL|                    NULL|            NULL|          NULL|               NULL|            NULL|                NULL|                  NULL|          NULL|      NULL|                NULL|           NULL|            NULL|               NULL|                  NULL|                          NULL|                    NULL|                         NULL|                          4|                        NULL|                        NULL|                   NULL|        NULL|                     NULL|     NULL|  10:0-17:30|    10:0-19:0|     10:0-17:30|    10:0-17:30|  10:0-17:30|     10:0-17:0|      Closed|\n",
      "|  12320 105th Ave NW|{NULL, NULL, NULL...|b3KxHgc7le1Mc2Q3O...|Flowers & Gifts, ...|    Edmonton|{9:0-18:0, 9:0-18...|      1|   53.5479541|   -113.5352377|    Flowers By Merle|    T5N 0Y4|          16|  3.5|   AB|                 NULL|            NULL|        NULL|                NULL|     NULL|            NULL|                NULL|            True|                       NULL|                           NULL|{'garage': False,...|                  NULL|       NULL|          NULL|        NULL|                    NULL|            NULL|          NULL|               NULL|            NULL|                NULL|                  NULL|          NULL|      NULL|                NULL|           NULL|            NULL|               NULL|                  NULL|                          NULL|                    None|                         NULL|                          3|                        NULL|                        NULL|                   NULL|        NULL|                     NULL|     NULL|    9:0-18:0|     9:0-18:0|       9:0-18:0|      9:0-18:0|    9:0-18:0|      9:0-17:0|      Closed|\n",
      "|8581 N Silverbell Rd|{NULL, NULL, u'no...|2tAi411srrpmMofeA...|Coffee & Tea, Bre...|      Tucson|{6:30-12:0, 0:0-0...|      1|    32.362689|    -111.120753|Just Breakfast on...|      85743|         113|  3.5|   AZ|                 NULL|            NULL|     u'none'|{'touristy': Fals...|    False|            NULL|                NULL|            True|                       NULL|                           True|{'garage': False,...|                  NULL|      False|          NULL|        NULL|                    NULL|           False|          NULL|               NULL|            True|{'dessert': False...|                  NULL|          NULL|      True|                NULL|     u'average'|            NULL|              False|                  NULL|                          NULL|                    True|                         True|                          1|                        True|                        True|                   True|        NULL|                     True|   'free'|     0:0-0:0|    6:30-12:0|      6:30-12:0|     6:30-12:0|   6:30-12:0|    6:30-12:30|  6:30-12:30|\n",
      "|  4532 Baltimore Ave|                NULL|dN2whsRNU90vPfocj...|    Pet Stores, Pets|Philadelphia|{10:0-19:0, 10:0-...|      1|   39.9487666|    -75.2138752|Baltimore Pet Shoppe|      19143|          60|  4.5|   PA|                 NULL|            NULL|        NULL|                NULL|     NULL|            NULL|                NULL|            NULL|                       NULL|                           NULL|                NULL|                  NULL|       NULL|          NULL|        NULL|                    NULL|            NULL|          NULL|               NULL|            NULL|                NULL|                  NULL|          NULL|      NULL|                NULL|           NULL|            NULL|               NULL|                  NULL|                          NULL|                    NULL|                         NULL|                       NULL|                        NULL|                        NULL|                   NULL|        NULL|                     NULL|     NULL|   10:0-19:0|    10:0-19:0|      10:0-19:0|     10:0-19:0|   10:0-19:0|     10:0-18:0|   11:0-18:0|\n",
      "|Crestwood Centre,...|{NULL, NULL, NULL...|exWa73g8bG0p3pI7N...|Restaurants, Deli...|    Edmonton|{9:0-19:0, 9:0-19...|      1|53.5345643629|-113.5657212037|   Careit Urban Deli|    T5N 4B2|          18|  4.0|   AB|                 NULL|            NULL|        NULL|                NULL|     NULL|            NULL|                NULL|            NULL|                       NULL|                           NULL|{'garage': False,...|                  NULL|       NULL|          NULL|        NULL|                    NULL|            NULL|          NULL|               NULL|            True|                NULL|                  NULL|          NULL|      True|                NULL|       u'quiet'|            NULL|              False|             u'casual'|                          NULL|                    True|                        False|                          2|                       False|                        NULL|                   True|        NULL|                     NULL|     NULL|    9:0-19:0|     9:0-19:0|       9:0-19:0|      9:0-19:0|    9:0-19:0|     10:0-18:0|   10:0-17:0|\n",
      "|3655 N Oracle Rd,...|{NULL, NULL, NULL...|kdZr-IdMNOUNZxbZD...|Public Services &...|      Tucson|{10:0-17:0, 10:0-...|      1|    32.273139|   -110.9790247|      US Post Office|      85705|          11|  1.5|   AZ|                 NULL|            NULL|        NULL|                NULL|     NULL|            NULL|                NULL|            NULL|                       NULL|                           True|                NULL|                  NULL|       NULL|          NULL|        NULL|                    NULL|            NULL|          NULL|               NULL|            NULL|                NULL|                  NULL|          NULL|      NULL|                NULL|           NULL|            NULL|               NULL|                  NULL|                          NULL|                    NULL|                         NULL|                       NULL|                        NULL|                        NULL|                   NULL|        NULL|                     NULL|     NULL|   10:0-17:0|    10:0-17:0|      10:0-17:0|     10:0-17:0|   10:0-17:0|        Closed|      Closed|\n",
      "|1201 Jefferson Hw...|{NULL, NULL, u'no...|asNmnXz9rT7JpJuvu...|Restaurants, Sand...|   Jefferson|{10:0-20:0, 10:0-...|      1|   29.9628202|    -90.1423646|              Subway|      70121|           6|  4.0|   LA|                 NULL|            NULL|     u'none'|{'romantic': Fals...|     NULL|            NULL|                NULL|           False|                       NULL|                           True|{'garage': False,...|                  NULL|       True|          NULL|        NULL|                    NULL|            NULL|          NULL|               NULL|            True|                NULL|                  NULL|          NULL|      True|                NULL|   u'very_loud'|            NULL|              False|              'casual'|                          NULL|                    None|                         True|                          1|                       False|                        NULL|                   True|        NULL|                     NULL|     'no'|   10:0-20:0|    10:0-20:0|      10:0-20:0|     10:0-20:0|   10:0-20:0|     10:0-20:0|   10:0-20:0|\n",
      "|2416 Music Valley Dr|{NULL, NULL, NULL...|vhe1SzsLE2rG6a9_O...|Home Decor, Home ...|   Nashville|{10:0-16:0, NULL,...|      1|   36.2199531|    -86.6970639|Dashwood Vintage ...|      37214|          11|  5.0|   TN|                 NULL|            NULL|        NULL|                NULL|     NULL|            NULL|                NULL|            NULL|                       NULL|                           NULL|{'garage': False,...|                  NULL|       NULL|          NULL|        NULL|                    NULL|            NULL|          NULL|               NULL|            NULL|                NULL|                  NULL|          NULL|      NULL|                NULL|           NULL|            NULL|               NULL|                  NULL|                          NULL|                    NULL|                         NULL|                       NULL|                        NULL|                        NULL|                   NULL|        NULL|                     NULL|     NULL|      Closed|       Closed|      10:0-16:0|     10:0-16:0|   10:0-16:0|     10:0-16:0|   10:0-15:0|\n",
      "|        1461 Main St|{NULL, NULL, NULL...|92qmBM9q0Tozdou9Y...|Ice Cream & Froze...|     Dunedin|                NULL|      1|     28.01887|     -82.764819|      Baskin-Robbins|      34698|           5|  1.5|   FL|                 NULL|            NULL|        NULL|                NULL|     NULL|            NULL|                NULL|            NULL|                       NULL|                           NULL|                NULL|                  NULL|       NULL|          NULL|        NULL|                    NULL|            NULL|          NULL|               NULL|            NULL|                NULL|                  NULL|          NULL|      NULL|                NULL|           NULL|            NULL|               NULL|                  NULL|                          NULL|                    True|                         NULL|                       NULL|                        NULL|                        NULL|                   NULL|        NULL|                     NULL|     NULL|      Closed|       Closed|         Closed|        Closed|      Closed|        Closed|      Closed|\n",
      "|     3336 Bristol Rd|{NULL, NULL, NULL...|DfW0q_DJeBj5h4DM5...|Beauty & Spas, Na...|    Bensalem|                NULL|      0|   40.1357818|    -74.9420431|Everlasting Nails...|      19020|           5|  3.5|   PA|                 NULL|            NULL|        NULL|                NULL|     NULL|            NULL|                NULL|           False|                       NULL|                          False|{'garage': False,...|                 False|       NULL|          NULL|        NULL|                    NULL|            NULL|          NULL|               NULL|            NULL|                NULL|                  NULL|          NULL|      NULL|                NULL|           NULL|            NULL|               NULL|                  NULL|                          NULL|                    NULL|                         NULL|                          1|                        NULL|                        NULL|                   NULL|        NULL|                     NULL|     NULL|      Closed|       Closed|         Closed|        Closed|      Closed|        Closed|      Closed|\n",
      "|7630 Hwy 70 S, St...|{NULL, NULL, NULL...|w9PtHabNSKd2z40rn...|Beauty & Spas, Na...|   Nashville|{9:0-19:30, 9:0-1...|      0|   36.0800339|    -86.9491094|     Hollywood Nails|      37221|           5|  3.0|   TN|                 NULL|            NULL|        NULL|                NULL|     NULL|            NULL|                NULL|            NULL|                      False|                           True|{'garage': False,...|                 False|       NULL|          NULL|        NULL|                    NULL|            NULL|          NULL|               NULL|            NULL|                NULL|                  NULL|          NULL|      NULL|                NULL|           NULL|            NULL|               NULL|                  NULL|                          NULL|                    NULL|                         NULL|                          3|                        NULL|                        NULL|                   NULL|        NULL|                     True|     NULL|   9:0-19:30|    9:0-19:30|      9:0-19:30|     9:0-19:30|   9:0-19:30|     9:0-19:30|   12:0-17:0|\n",
      "|   2110 W Brichta Dr|{NULL, NULL, NULL...|qE6PBhgB7AFtUHTp0...|Local Services, P...|      Tucson|{6:0-18:0, 6:0-18...|      1|     32.24167|    -111.012518|Brichta Infant an...|      85745|          17|  4.5|   AZ|                 NULL|            NULL|        NULL|                NULL|     NULL|            NULL|                NULL|            NULL|                       NULL|                           True|                NULL|                  NULL|       NULL|          NULL|        NULL|                    NULL|            NULL|          NULL|               NULL|            NULL|                NULL|                  NULL|          NULL|      NULL|                NULL|           NULL|            NULL|               NULL|                  NULL|                          NULL|                    NULL|                         NULL|                       NULL|                        NULL|                        NULL|                   NULL|        NULL|                     NULL|     NULL|    6:0-18:0|     6:0-18:0|       6:0-18:0|      6:0-18:0|    6:0-18:0|        Closed|      Closed|\n",
      "|       119 S 39th St|{NULL, NULL, 'ful...|BnffoBFNuGmNAksel...|Burgers, Caterers...|Philadelphia|{11:0-23:30, 11:0...|      1|   39.9544307|    -75.1999069|Cavanaugh's Resta...|      19104|         119|  3.0|   PA|                 NULL|            NULL|  'full_bar'|{'touristy': Fals...|     NULL|            NULL|{'monday': False,...|            True|                       NULL|                           True|{'garage': False,...|                  NULL|      False|          NULL|        NULL|                    NULL|            NULL|          NULL|               NULL|           False|{'dessert': False...|                  NULL|          True|      True|{'dj': True, 'bac...|        u'loud'|            NULL|              False|             u'casual'|                          NULL|                    True|                         True|                          2|                       False|                        NULL|                   True|        NULL|                     NULL|    u'no'|  11:0-23:30|   11:0-23:30|     11:0-23:30|    11:0-23:30|  11:0-23:30|     12:0-16:0|      Closed|\n",
      "|    701 Papworth Ave|{False, NULL, NUL...|nKcxdo0ELwBj99vPt...|Boot Camps, Nutri...|    Metairie|{5:30-21:0, 5:30-...|      1|29.9991143436| -90.1264936974|        Pure Fitness|      70005|           5|  5.0|   LA|                False|            NULL|        NULL|                NULL|     NULL|            NULL|                NULL|            True|                       NULL|                           True|{'garage': False,...|                  True|       NULL|          NULL|        NULL|                    NULL|            NULL|          NULL|               NULL|            True|                NULL|                  NULL|          NULL|      NULL|                NULL|           NULL|            NULL|               NULL|                  NULL|                          NULL|                    NULL|                         NULL|                       NULL|                        NULL|                        NULL|                   NULL|        NULL|                    False|     NULL|   5:30-21:0|    5:30-21:0|      5:30-21:0|     5:30-21:0|   5:30-21:0|     5:30-21:0|   5:30-21:0|\n",
      "|  3940 Baltimore Ave|{NULL, NULL, u'fu...|bbWRELNpKXXnFgQMk...|Restaurants, Amer...|Philadelphia|{8:0-22:0, 8:0-21...|      0|   39.9496602|    -75.2026672| Trolley Car Station|      19104|          49|  3.0|   PA|                 NULL|            NULL| u'full_bar'|{'touristy': Fals...|     NULL|            NULL|                NULL|            NULL|                       NULL|                           True|{'garage': False,...|                  NULL|       NULL|          NULL|        NULL|                    NULL|            NULL|          NULL|               NULL|            NULL|{'dessert': False...|                  NULL|          True|      True|                NULL|           NULL|            NULL|               True|             u'casual'|                          NULL|                   False|                         True|                       NULL|                        True|                        NULL|                   True|        NULL|                     NULL|  u'free'|    8:0-21:0|     8:0-21:0|       8:0-21:0|      8:0-21:0|    8:0-22:0|      8:0-22:0|    8:0-21:0|\n",
      "|   245 E Congress St|{NULL, NULL, NULL...|JkQz12i_Eubd_xQdL...|Restaurants, Food...|      Tucson|{12:0-22:0, 12:0-...|      1|   32.2221884|   -110.9673208|HUB Ice Cream Fac...|      85701|         181|  4.0|   AZ|                 NULL|            NULL|        NULL|                NULL|     NULL|            NULL|                NULL|            True|                      False|                           True|{'garage': True, ...|                  NULL|       True|          NULL|        NULL|                    NULL|            True|         False|               NULL|            True|                NULL|                  NULL|          NULL|      NULL|                NULL|     u'average'|            NULL|               NULL|                  NULL|                          NULL|                    None|                         NULL|                          1|                        NULL|                        NULL|                   True|        NULL|                     True|     'no'|   12:0-21:0|    12:0-21:0|      12:0-21:0|     12:0-21:0|   12:0-22:0|     12:0-22:0|   12:0-21:0|\n",
      "+--------------------+--------------------+--------------------+--------------------+------------+--------------------+-------+-------------+---------------+--------------------+-----------+------------+-----+-----+---------------------+----------------+------------+--------------------+---------+----------------+--------------------+----------------+---------------------------+-------------------------------+--------------------+----------------------+-----------+--------------+------------+------------------------+----------------+--------------+-------------------+----------------+--------------------+----------------------+--------------+----------+--------------------+---------------+----------------+-------------------+----------------------+------------------------------+------------------------+-----------------------------+---------------------------+----------------------------+----------------------------+-----------------------+------------+-------------------------+---------+------------+-------------+---------------+--------------+------------+--------------+------------+\n",
      "only showing top 20 rows\n",
      "\n"
     ]
    }
   ],
   "source": [
    "# Ví dụ đọc file parquet\n",
    "dfb  = spark.read.parquet(\"dbfs:/mnt/silver/business\")\n",
    "dfb.show()\n"
   ]
  },
  {
   "cell_type": "code",
   "execution_count": 0,
   "metadata": {
    "application/vnd.databricks.v1+cell": {
     "cellMetadata": {
      "byteLimit": 2048000,
      "rowLimit": 10000
     },
     "inputWidgets": {},
     "nuid": "b809c387-9bc5-471a-a0dd-689816326992",
     "showTitle": false,
     "tableResultSettingsMap": {},
     "title": ""
    }
   },
   "outputs": [],
   "source": [
    "dim_business = dfb.select(\n",
    "    \"business_id\",\n",
    "    \"name\",\n",
    "    \"stars\",\n",
    "    \"review_count\",\n",
    "    \"is_open\",\n",
    "    \"categories\"\n",
    ").withColumnRenamed(\"name\", \"business_name\")\n",
    "dim_business.write.mode(\"overwrite\").parquet(\"dbfs:/mnt/gold/dim_business\")\n"
   ]
  },
  {
   "cell_type": "code",
   "execution_count": 0,
   "metadata": {
    "application/vnd.databricks.v1+cell": {
     "cellMetadata": {
      "byteLimit": 2048000,
      "rowLimit": 10000
     },
     "inputWidgets": {},
     "nuid": "b71e9a8f-9048-4f7b-8fd6-19dab09fbf28",
     "showTitle": false,
     "tableResultSettingsMap": {},
     "title": ""
    }
   },
   "outputs": [
    {
     "name": "stdout",
     "output_type": "stream",
     "text": [
      "+--------------------+----+-------------------+-----+--------------------+-----+--------------------+------+--------------------+-----------+\n",
      "|         business_id|cool|               date|funny|           review_id|stars|                text|useful|             user_id|text_length|\n",
      "+--------------------+----+-------------------+-----+--------------------+-----+--------------------+------+--------------------+-----------+\n",
      "|grpNey31cTGKrhmQQ...|   0|2020-06-28 19:45:32|    0|6fObpwIggOQR1oDap...|  5.0|Had a wonderful, ...|     0|lN-1uUHeV_QyFbczw...|        179|\n",
      "|Fay6yoOC6iitEt3QL...|   0|2020-06-07 18:13:33|    0|UgtrUhfuEgUdPay75...|  4.0|Yeah it was defin...|     0|TJ8Hawan8jDIZHS7A...|        364|\n",
      "|wQq0QBaYXa1KLNw_J...|   0|2018-08-17 18:51:47|    0|MmLxg9oLQmPpcPNqI...|  4.0|One of the last s...|     1|ML10yeoSaW60TwVaI...|        327|\n",
      "|xgJMQq0uVY4KB9Efn...|   0|2020-06-15 14:31:14|    0|awQEOCuJ9fL12h7iq...|  5.0|Great experience ...|     0|w3z001eXLTQrYAIFe...|        118|\n",
      "|ps1Dduk_Oqrr_O2no...|   2|2020-02-03 14:10:57|    0|R-Jgku-ExdyGh5qOk...|  5.0|Our family recent...|     2|dzSit2MTSrr9s-FVC...|       1424|\n",
      "|tEHgpkQT50Z-M0Xaf...|   0|2020-02-27 19:40:08|    1|QUzo-EaJleFtHZSQ0...|  5.0|Walt did it again...|     0|GUah7lCrViZPDLIr8...|        230|\n",
      "|IseIeMynoNek71PA2...|   1|2020-04-04 16:51:48|    0|Ien4H7dLESaqTHkM5...|  3.0|In light of the r...|     5|bdsGVaLCUNxA5g9pt...|        786|\n",
      "|CgOJ8LZUZ7Qckmudg...|   0|2018-07-15 17:51:39|    0|NVlr5chKWO-RJ_vZm...|  1.0|Let's start with ...|     4|mJdxsy4cvrAF_xrqm...|        270|\n",
      "|AuHZcvq8iIaUWeMbx...|   0|2015-08-30 18:08:25|    0|-6tmyRgMVlwANGCn2...|  1.0|The worst experie...|     2|euiKOZxjbwR0oy42l...|        495|\n",
      "|i9n3DzCkmWDfiJ7yz...|   0|2020-04-16 18:53:59|    0|139IFjGXxomsI0Gb3...|  5.0|Having Rachel Sha...|     0|ThrbbVj_TZ8V6I24D...|        532|\n",
      "|Wt3NAVSLT5KXFR7uQ...|   1|2017-04-04 03:17:45|    0|Un-YCXEqtRgfZ0j9R...|  5.0|This place is pre...|     1|sRLstPbD90Yq-1N9J...|        291|\n",
      "|FwTIsJdOV8JVBO_ep...|   0|2014-04-09 22:22:06|    3|7hSQsu_6zOZsMEbZJ...|  1.0|A little disappoi...|     2|hJV0NGkjXwjrPC9tm...|        276|\n",
      "|Xd2Sr1OwAzoa8O2D7...|   0|2020-04-22 15:04:03|    0|Oa-gXgXm18nEQttiN...|  5.0|I have been bring...|     0|Oy-DG7OuuxjZ5Lohj...|        754|\n",
      "|KQgCflC8eqJU5kvJk...|   1|2019-07-07 02:04:22|    0|nvYUnJMxQVLzUsgaK...|  5.0|The food was awes...|     1|Un6ekMvML77TUUZ4Z...|        173|\n",
      "|w8Imup3Dy0-v377-i...|   0|2011-08-05 16:59:48|    0|MfXbBQM1hAuVzMf-C...|  1.0|Service sucks, ma...|     2|gFvxQbg3vh7Nn_kyH...|         96|\n",
      "|vpg7BwhGHjsAHm-bC...|   1|2020-01-07 01:52:40|    0|qJoNEQ-ath0fVjNy0...|  5.0|A hole-in-the-wal...|     0|xiGkjoswtFXCVZqQa...|        168|\n",
      "|ZCj5o6j6_0JjGOe04...|   0|2020-03-04 23:32:32|    0|OjxuPLzptq3ZfPxNA...|  5.0|Love this neighbo...|     0|qifgGoyS3Fnt7KogF...|        518|\n",
      "|qIJKm8JYh9XOSaqm-...|   0|2016-12-21 18:14:31|    0|Nh5ahFVxqe3ATFiYb...|  2.0|TERRIBLE CUSTOMER...|     3|MUYddE8kVntOM3iHl...|        958|\n",
      "|17MK8qagV374AuUA4...|   1|2010-07-02 19:26:33|    3|KD1p8TEDpgFI88-hp...|  3.0|this is a review ...|     3|HwCWwx4PXIYJIksZN...|       2180|\n",
      "|pc8D9b_rnL_I8ak91...|   0|2018-03-20 19:06:25|    0|_8W05sLycmoKwfIXx...|  2.0|The restaurant de...|     0|yHzRQg6yHW_fIP3nL...|        198|\n",
      "+--------------------+----+-------------------+-----+--------------------+-----+--------------------+------+--------------------+-----------+\n",
      "only showing top 20 rows\n",
      "\n"
     ]
    }
   ],
   "source": [
    "# Ví dụ đọc file parquet\n",
    "dfr  = spark.read.parquet(\"dbfs:/mnt/silver/review\")\n",
    "dfr.show()"
   ]
  },
  {
   "cell_type": "code",
   "execution_count": 0,
   "metadata": {
    "application/vnd.databricks.v1+cell": {
     "cellMetadata": {
      "byteLimit": 2048000,
      "rowLimit": 10000
     },
     "inputWidgets": {},
     "nuid": "1e1fd3be-3497-458f-a8e3-e281ede35756",
     "showTitle": false,
     "tableResultSettingsMap": {},
     "title": ""
    }
   },
   "outputs": [],
   "source": [
    "from pyspark.sql.functions import to_date, year, month, dayofweek, col,dayofmonth\n",
    "\n",
    "dim_date = dfr.select(to_date(\"date\").alias(\"date\")) \\\n",
    "    .distinct() \\\n",
    "    .withColumn(\"year\", year(col(\"date\"))) \\\n",
    "    .withColumn(\"month\", month(col(\"date\"))) \\\n",
    "    .withColumn(\"day\", dayofmonth(\"date\")) \\\n",
    "    .withColumn(\"day_of_week\", dayofweek(col(\"date\")))\n",
    "\n",
    "dim_date.write.mode(\"overwrite\").parquet(\"dbfs:/mnt/gold/dim_date\")"
   ]
  },
  {
   "cell_type": "code",
   "execution_count": 0,
   "metadata": {
    "application/vnd.databricks.v1+cell": {
     "cellMetadata": {
      "byteLimit": 2048000,
      "rowLimit": 10000
     },
     "inputWidgets": {},
     "nuid": "fcf4476f-5041-4b1f-9584-489c37d9f2b5",
     "showTitle": false,
     "tableResultSettingsMap": {},
     "title": ""
    }
   },
   "outputs": [],
   "source": [
    "dim_location = dfb.select(\n",
    "    \"business_id\",\n",
    "    \"address\",\n",
    "    \"city\",\n",
    "    \"state\",\n",
    "    \"postal_code\",\n",
    "    \"latitude\",\n",
    "    \"longitude\"\n",
    ")\n",
    "dim_location.write.mode(\"overwrite\").parquet(\"dbfs:/mnt/gold/dim_location\")\n"
   ]
  },
  {
   "cell_type": "code",
   "execution_count": 0,
   "metadata": {
    "application/vnd.databricks.v1+cell": {
     "cellMetadata": {
      "byteLimit": 2048000,
      "rowLimit": 10000
     },
     "inputWidgets": {},
     "nuid": "163ec0a7-0313-4450-805c-7b415e6d2e92",
     "showTitle": false,
     "tableResultSettingsMap": {},
     "title": ""
    }
   },
   "outputs": [],
   "source": [
    "from pyspark.sql.functions import split\n",
    "\n",
    "dim_category = dfb.select(\n",
    "    \"business_id\",\n",
    "    \"categories\"\n",
    ").withColumn(\"category_list\", split(col(\"categories\"), \",\"))\n",
    "dim_category.write.mode(\"overwrite\").parquet(\"dbfs:/mnt/gold/dim_category\")\n"
   ]
  },
  {
   "cell_type": "code",
   "execution_count": 0,
   "metadata": {
    "application/vnd.databricks.v1+cell": {
     "cellMetadata": {
      "byteLimit": 2048000,
      "rowLimit": 10000
     },
     "inputWidgets": {},
     "nuid": "5e088380-1004-44dc-a3a8-240171c89613",
     "showTitle": false,
     "tableResultSettingsMap": {},
     "title": ""
    }
   },
   "outputs": [],
   "source": [
    "dim_review_status = dfr.select(\n",
    "    \"review_id\",\n",
    "    \"useful\",\n",
    "    \"funny\",\n",
    "    \"cool\"\n",
    ")\n",
    "dim_review_status.write.mode(\"overwrite\").parquet(\"dbfs:/mnt/gold/dim_review_status\")\n"
   ]
  },
  {
   "cell_type": "code",
   "execution_count": 0,
   "metadata": {
    "application/vnd.databricks.v1+cell": {
     "cellMetadata": {
      "byteLimit": 2048000,
      "rowLimit": 10000
     },
     "inputWidgets": {},
     "nuid": "a9464ffb-a6cf-4625-a6aa-6ac2330af86c",
     "showTitle": false,
     "tableResultSettingsMap": {},
     "title": ""
    }
   },
   "outputs": [
    {
     "name": "stdout",
     "output_type": "stream",
     "text": [
      "+--------------------+--------------------+-------------+\n",
      "|         business_id|                date|checkin_count|\n",
      "+--------------------+--------------------+-------------+\n",
      "|---kPU91CF4Lq2-Wl...|2020-03-13 21:10:...|           11|\n",
      "|--0iUa4sNDFiZFrAd...|2010-09-13 21:43:...|           10|\n",
      "|--30_8IhuyMHbSOcN...|2013-06-14 23:29:...|            2|\n",
      "|--7PUidqRWpRSpXeb...|2011-02-15 17:12:...|           10|\n",
      "|--7jw19RH9JKXgFoh...|2014-04-21 20:42:...|           26|\n",
      "|--8IbOsAAxjKRoYsB...|2015-06-06 01:03:...|           32|\n",
      "|--9osgUCSDUWUkoTL...|2015-06-13 02:00:...|           24|\n",
      "|--ARBQr1WMsTWiwOK...|2014-12-12 00:44:...|           34|\n",
      "|--FWWsIwxRwuw9vIM...|2010-09-11 16:28:...|            7|\n",
      "|--FcbSxK1AoEtEAxO...|2017-08-18 19:43:...|           82|\n",
      "|--LC8cIrALInl2vyo...|2017-01-12 19:10:...|            7|\n",
      "|--MbOh2O1pATkXa7x...|2013-04-21 01:52:...|          103|\n",
      "|--N9yp3ZWqQIm7DqK...|2012-10-06 20:46:...|            7|\n",
      "|--O3ip9NpXTKD4oBS...|2010-04-17 21:07:...|          456|\n",
      "|--OS_I7dnABrXvRCC...| 2018-05-11 18:23:36|            1|\n",
      "|--S43ruInmIsGrnnk...|2010-08-29 01:17:...|          309|\n",
      "|--SJXpAa0E-GCp2sm...|2014-04-06 22:23:...|           45|\n",
      "|--Sd93OFWITqDHifM...|2013-01-09 17:42:...|           48|\n",
      "|--ZVrH2X2QXBFdCil...|2010-08-12 18:21:...|           67|\n",
      "|--ZWv8kGlM2YL58uK...|2010-10-13 18:41:...|           13|\n",
      "+--------------------+--------------------+-------------+\n",
      "only showing top 20 rows\n",
      "\n"
     ]
    }
   ],
   "source": [
    "# Ví dụ đọc file parquet\n",
    "dfc  = spark.read.parquet(\"dbfs:/mnt/silver/checkin\")\n",
    "dfc.show()"
   ]
  },
  {
   "cell_type": "code",
   "execution_count": 0,
   "metadata": {
    "application/vnd.databricks.v1+cell": {
     "cellMetadata": {
      "byteLimit": 2048000,
      "rowLimit": 10000
     },
     "inputWidgets": {},
     "nuid": "3912466e-07e0-4c2d-ac56-2b9fafe7d51a",
     "showTitle": false,
     "tableResultSettingsMap": {},
     "title": ""
    }
   },
   "outputs": [],
   "source": [
    "from pyspark.sql.functions import col, explode, split, count, lit, monotonically_increasing_id\n",
    "dim_checkin = dfc.select(\n",
    "    col(\"business_id\"),\n",
    "    explode(split(col(\"date\"), \",\")).alias(\"date\")  # Tách ngày thành từng dòng\n",
    ").groupBy(\"business_id\", \"date\").agg(\n",
    "    count(lit(1)).alias(\"checkin_count\")  # Tính tổng số lần check-in\n",
    ").withColumn(\n",
    "    \"checkin_id\", monotonically_increasing_id()  # Tạo ID duy nhất\n",
    ")\n",
    "dim_checkin.write.mode(\"overwrite\").parquet(\"dbfs:/mnt/gold/dim_checkin\")"
   ]
  },
  {
   "cell_type": "code",
   "execution_count": 0,
   "metadata": {
    "application/vnd.databricks.v1+cell": {
     "cellMetadata": {
      "byteLimit": 2048000,
      "rowLimit": 10000
     },
     "inputWidgets": {},
     "nuid": "d0b0962d-0c75-4253-8136-cd947754f9d4",
     "showTitle": false,
     "tableResultSettingsMap": {},
     "title": ""
    }
   },
   "outputs": [
    {
     "name": "stdout",
     "output_type": "stream",
     "text": [
      "+--------------------+----------------+-------------------+--------------------+--------------------+\n",
      "|         business_id|compliment_count|               date|                text|             user_id|\n",
      "+--------------------+----------------+-------------------+--------------------+--------------------+\n",
      "|Tdri3C3E2A93twBL3...|               0|2018-07-08 01:19:27|The sushi was pre...|BnoprwbCO9b-nBDqi...|\n",
      "|yaEC_LAfaoY4yZyub...|               0|2016-11-17 04:52:28|Call ahead for yo...|KlI_NEqRNmw6LVFf4...|\n",
      "|uXKygoHoGly8OqINL...|               0|2015-05-09 01:41:14|Doesn't take rese...|HpXm_E_MRQdN_Rv4c...|\n",
      "|az4WbjTUNkMS0XCSA...|               0|2017-08-28 15:14:24|Very old and out ...|IFM9VzljyIE-z8WNs...|\n",
      "|wEksWwS7a0leoaZkV...|               0|2016-07-12 17:53:25|Love this place. ...|IFM9VzljyIE-z8WNs...|\n",
      "|RL-d1aD1BMGQoouah...|               0|2018-09-02 16:18:43|30 min wait Satur...|UVO0vrdc8Jfm00p7i...|\n",
      "|tNnVxOC_9p8UK3N_2...|               0|2013-11-27 01:04:03|No you are not se...|RqkZW5nVd5ESE-szZ...|\n",
      "|hI7m7riS39CrgGOhH...|               0|2018-09-10 21:37:53|Food is always good!|0oUCv2jy3Vgk_H62J...|\n",
      "|mNMa-2uQpZwVEbLeL...|               0|2018-09-19 18:00:46|Love love love ev...|xy2JT2Ti8UwB_3nK2...|\n",
      "|WfPmZ9hp50ttugTVg...|               0|2011-03-23 02:09:35|     Pizza was yummy|-n-0B_-55U2TffXKn...|\n",
      "|Bdv0prxgkPZSSsQnn...|               0|2018-10-09 06:07:58|        Scrumptious.|XmiDqOdb0Q7PJiFMc...|\n",
      "|mll4kf6HUHOu5AThf...|               0|2014-04-26 17:16:48|Excellent service...|UlEsSHLXuP7gY7KDJ...|\n",
      "|I79keuDOkqf1CFjYD...|               0|2014-10-22 22:19:44|This is place is ...|2gBLCmVTr1c8Fuc3n...|\n",
      "|pFzcy84OCWx1_x2Td...|               0|2013-05-25 01:19:07|We had the Fried ...|Znw0YbrA7hXFDQ0ri...|\n",
      "|BoaNuuHZixlSCMfiZ...|               0|2018-03-17 23:40:03|Staff is horrible...|ZcJQm9wfRbkMX_Oi8...|\n",
      "|XjbCcl1kELyzlW-xp...|               0|2012-06-25 16:29:37|Wonderful gel man...|6K5wCAYi4CB5dGH0Q...|\n",
      "|_X4t5U6oI6yXE9WBA...|               0|2014-12-18 19:34:18|          Great food|LcDMTC7Zcv1pkbyvy...|\n",
      "|4hdSKMhViv3knwCF9...|               0|2015-10-30 18:36:07|There's a lot of ...|4cFGvTyX6DIpR-M78...|\n",
      "|dfW2A34T_yheVBecc...|               0|2018-03-03 04:47:24|Super chill and e...|xwupwPXG0NcAjz2KP...|\n",
      "|kTLHh3e_59XZduNwy...|               0|2017-08-25 22:27:47|Worse than the DM...|JHsrx8y-Syq-SgSYZ...|\n",
      "+--------------------+----------------+-------------------+--------------------+--------------------+\n",
      "only showing top 20 rows\n",
      "\n"
     ]
    }
   ],
   "source": [
    "# Ví dụ đọc file parquet\n",
    "dft  = spark.read.parquet(\"dbfs:/mnt/silver/tip\")\n",
    "dft.show()"
   ]
  },
  {
   "cell_type": "code",
   "execution_count": 0,
   "metadata": {
    "application/vnd.databricks.v1+cell": {
     "cellMetadata": {
      "byteLimit": 2048000,
      "rowLimit": 10000
     },
     "inputWidgets": {},
     "nuid": "6ded473d-3af9-474d-b908-cc65641b0417",
     "showTitle": false,
     "tableResultSettingsMap": {},
     "title": ""
    }
   },
   "outputs": [],
   "source": [
    "dim_tip = dft.select(\n",
    "    \"business_id\",\"date\",\"compliment_count\",\"text\",\"user_id\"\n",
    ")\n",
    "dim_tip.write.mode(\"overwrite\").parquet(\"dbfs:/mnt/gold/dim_tip\")"
   ]
  },
  {
   "cell_type": "code",
   "execution_count": 0,
   "metadata": {
    "application/vnd.databricks.v1+cell": {
     "cellMetadata": {
      "byteLimit": 2048000,
      "rowLimit": 10000
     },
     "inputWidgets": {},
     "nuid": "94dd2dff-d493-4e73-a6d5-fca88ab367c8",
     "showTitle": false,
     "tableResultSettingsMap": {},
     "title": ""
    }
   },
   "outputs": [],
   "source": [
    "%python\n",
    "from pyspark.sql.functions import when, col\n",
    "\n",
    "dfr = spark.read.parquet(\"dbfs:/mnt/silver/review\")\n",
    "fact_review = dfr.join(dim_business, \"business_id\") \\\n",
    "    .join(dim_user, \"user_id\") \\\n",
    "    .join(dim_date, dfr[\"date\"] == dim_date[\"date\"]) \\\n",
    "    .select(\n",
    "        \"review_id\", \"business_id\", \"user_id\", dfr[\"date\"], \n",
    "        \"text\", dfr[\"stars\"],  # Specify dfr for stars column\n",
    "        when(dfr[\"stars\"] >= 4, \"positive\").otherwise(\"negative\").alias(\"sentiment\")\n",
    "    )\n",
    "fact_review.write.mode(\"overwrite\").parquet(\"dbfs:/mnt/gold/fact_review\")"
   ]
  }
 ],
 "metadata": {
  "application/vnd.databricks.v1+notebook": {
   "dashboards": [],
   "environmentMetadata": {
    "base_environment": "",
    "client": "1"
   },
   "language": "python",
   "notebookMetadata": {
    "pythonIndentUnit": 4
   },
   "notebookName": "BaseNotebook",
   "widgets": {}
  },
  "kernelspec": {
   "display_name": "venv",
   "language": "python",
   "name": "python3"
  },
  "language_info": {
   "codemirror_mode": {
    "name": "ipython",
    "version": 3
   },
   "file_extension": ".py",
   "mimetype": "text/x-python",
   "name": "python",
   "nbconvert_exporter": "python",
   "pygments_lexer": "ipython3",
   "version": "3.11.9"
  }
 },
 "nbformat": 4,
 "nbformat_minor": 0
}
