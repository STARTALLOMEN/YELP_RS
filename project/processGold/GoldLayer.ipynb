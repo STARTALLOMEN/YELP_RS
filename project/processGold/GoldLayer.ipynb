{
 "cells": [
  {
   "cell_type": "code",
   "execution_count": null,
   "metadata": {},
   "outputs": [],
   "source": [
    "from pyspark.sql import SparkSession\n",
    "from pyspark.sql.functions import *\n",
    "\n",
    "def load_bronze_layer():\n",
    "    spark = SparkSession.builder \\\n",
    "        .appName(\"YelpBronzeLayer\") \\\n",
    "        .config(\"spark.sql.shuffle.partitions\", \"200\") \\\n",
    "        .getOrCreate()\n",
    "\n",
    "    # Load raw data từ Yelp Dataset\n",
    "    business_df = spark.read.json(\"/raw/yelp_business.json\")\n",
    "    review_df = spark.read.json(\"/raw/yelp_review.json\")\n",
    "    user_df = spark.read.json(\"/raw/yelp_user.json\")\n",
    "\n",
    "    # Save vào Delta Lake bronze layer\n",
    "    business_df.write \\\n",
    "        .format(\"delta\") \\\n",
    "        .mode(\"overwrite\") \\\n",
    "        .save(\"/delta/bronze/business\")\n",
    "\n",
    "    review_df.write \\\n",
    "        .format(\"delta\") \\\n",
    "        .mode(\"overwrite\") \\\n",
    "        .save(\"/delta/bronze/reviews\")\n",
    "\n",
    "    user_df.write \\\n",
    "        .format(\"delta\") \\\n",
    "        .mode(\"overwrite\") \\\n",
    "        .save(\"/delta/bronze/users\")"
   ]
  }
 ],
 "metadata": {
  "kernelspec": {
   "display_name": "Python 3",
   "language": "python",
   "name": "python3"
  },
  "language_info": {
   "name": "python",
   "version": "3.11.9"
  }
 },
 "nbformat": 4,
 "nbformat_minor": 2
}
