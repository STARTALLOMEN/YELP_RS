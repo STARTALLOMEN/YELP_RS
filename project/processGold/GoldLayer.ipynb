{
 "cells": [
  {
   "cell_type": "code",
   "execution_count": null,
   "metadata": {},
   "outputs": [],
   "source": [
    "from pyspark.sql import SparkSession\n",
    "from pyspark.sql.functions import *\n",
    "from pyspark.sql.types import *\n",
    "from pyspark.ml.feature import HashingTF, IDF, StringIndexer, VectorAssembler\n",
    "from pyspark.ml.recommendation import ALS\n",
    "from pyspark.ml.evaluation import RegressionEvaluator\n",
    "from delta import *\n"
   ]
  },
  {
   "cell_type": "code",
   "execution_count": null,
   "metadata": {},
   "outputs": [],
   "source": [
    "builder = SparkSession.builder \\\n",
    "    .appName(\"Gold Layer Processing\") \\\n",
    "    .config(\"spark.jars.packages\", \"io.delta:delta-core_2.12:3.1.0\") \\\n",
    "    .config(\"spark.sql.extensions\", \"io.delta.sql.DeltaSparkSessionExtension\") \\\n",
    "    .config(\"spark.sql.catalog.spark_catalog\", \"org.apache.spark.sql.delta.catalog.DeltaCatalog\")\n",
    "\n",
    "spark = configure_spark_with_delta_pip(builder).getOrCreate()\n"
   ]
  },
  {
   "cell_type": "code",
   "execution_count": null,
   "metadata": {},
   "outputs": [],
   "source": [
    "# Load required silver tables\n",
    "businesses_silver = spark.read.format(\"delta\").load(\"D:/Project/delta_lake/silver/business\")\n",
    "reviews_silver = spark.read.format(\"delta\").load(\"D:/Project/delta_lake/silver/reviews\")\n",
    "users_silver = spark.read.format(\"delta\").load(\"D:/Project/delta_lake/silver/users\")\n",
    "checkins_silver = spark.read.format(\"delta\").load(\"D:/Project/delta_lake/silver/checkins_metrics\")\n"
   ]
  },
  {
   "cell_type": "code",
   "execution_count": null,
   "metadata": {},
   "outputs": [],
   "source": [
    "def create_business_features(df):\n",
    "    # Select and create relevant business features\n",
    "    return df.select(\n",
    "        \"business_id\",\n",
    "        \"stars\",\n",
    "        \"review_count\",\n",
    "        \"categories_array\",\n",
    "        \"price_range\",\n",
    "        \"business_status\",\n",
    "        \"rating_category\"\n",
    "    )\n",
    "\n",
    "def create_user_features(df):\n",
    "    # Select and create relevant user features\n",
    "    return df.select(\n",
    "        \"user_id\",\n",
    "        \"review_count\",\n",
    "        \"average_stars\",\n",
    "        \"fans\",\n",
    "        \"engagement_score\",\n",
    "        \"user_status\",\n",
    "        \"rating_behavior\"\n",
    "    )\n",
    "\n",
    "def create_review_features(df):\n",
    "    # Select and create relevant review features\n",
    "    return df.select(\n",
    "        \"review_id\",\n",
    "        \"user_id\",\n",
    "        \"business_id\",\n",
    "        \"stars\",\n",
    "        \"text_length\",\n",
    "        \"total_votes\",\n",
    "        \"rating_category\"\n",
    "    )\n",
    "\n",
    "# Apply feature creation\n",
    "business_features = create_business_features(businesses_silver)\n",
    "user_features = create_user_features(users_silver)\n",
    "review_features = create_review_features(reviews_silver)\n"
   ]
  },
  {
   "cell_type": "code",
   "execution_count": null,
   "metadata": {},
   "outputs": [],
   "source": [
    "def process_tfidf_features(business_df):\n",
    "    # Process categories with TF-IDF\n",
    "    hashing_tf = HashingTF(inputCol=\"categories_array\", outputCol=\"tf_features\", numFeatures=100)\n",
    "    tf_df = hashing_tf.transform(business_df)\n",
    "    \n",
    "    idf = IDF(inputCol=\"tf_features\", outputCol=\"tfidf_features\")\n",
    "    idf_model = idf.fit(tf_df)\n",
    "    tfidf_df = idf_model.transform(tf_df)\n",
    "    \n",
    "    return tfidf_df\n",
    "\n",
    "business_features = process_tfidf_features(business_features)\n"
   ]
  },
  {
   "cell_type": "code",
   "execution_count": null,
   "metadata": {},
   "outputs": [],
   "source": [
    "def create_training_dataset(reviews_df, business_features_df, user_features_df):\n",
    "    # Join all features\n",
    "    training_df = reviews_df \\\n",
    "        .join(business_features_df, \"business_id\") \\\n",
    "        .join(user_features_df, \"user_id\")\n",
    "    \n",
    "    # Create feature vector\n",
    "    assembler = VectorAssembler(\n",
    "        inputCols=[\n",
    "            \"stars_x\", \"review_count_x\", \"fans\", \n",
    "            \"engagement_score\", \"tfidf_features\"\n",
    "        ],\n",
    "        outputCol=\"features\"\n",
    "    )\n",
    "    \n",
    "    return assembler.transform(training_df)\n",
    "\n",
    "training_data = create_training_dataset(review_features, business_features, user_features)\n"
   ]
  },
  {
   "cell_type": "code",
   "execution_count": null,
   "metadata": {},
   "outputs": [],
   "source": [
    "def index_categorical_columns(df):\n",
    "    categorical_cols = [\"price_range\", \"business_status\", \"user_status\", \"rating_behavior\"]\n",
    "    \n",
    "    for col_name in categorical_cols:\n",
    "        indexer = StringIndexer(\n",
    "            inputCol=col_name,\n",
    "            outputCol=f\"{col_name}_indexed\"\n",
    "        )\n",
    "        df = indexer.fit(df).transform(df)\n",
    "    \n",
    "    return df\n",
    "\n",
    "training_data = index_categorical_columns(training_data)\n"
   ]
  },
  {
   "cell_type": "code",
   "execution_count": null,
   "metadata": {},
   "outputs": [],
   "source": [
    "def prepare_train_test_sets(df):\n",
    "    # Split into training and testing sets\n",
    "    train_df, test_df = df.randomSplit([0.8, 0.2], seed=42)\n",
    "    \n",
    "    return train_df, test_df\n",
    "\n",
    "train_data, test_data = prepare_train_test_sets(training_data)\n"
   ]
  },
  {
   "cell_type": "code",
   "execution_count": null,
   "metadata": {},
   "outputs": [],
   "source": [
    "# Save processed datasets\n",
    "train_data.write.format(\"delta\") \\\n",
    "    .mode(\"overwrite\") \\\n",
    "    .save(\"D:/Project/delta_lake/gold/train_data\")\n",
    "\n",
    "test_data.write.format(\"delta\") \\\n",
    "    .mode(\"overwrite\") \\\n",
    "    .save(\"D:/Project/delta_lake/gold/test_data\")\n",
    "\n",
    "# Save feature metadata\n",
    "business_features.write.format(\"delta\") \\\n",
    "    .mode(\"overwrite\") \\\n",
    "    .save(\"D:/Project/delta_lake/gold/business_features\")\n",
    "\n",
    "user_features.write.format(\"delta\") \\\n",
    "    .mode(\"overwrite\") \\\n",
    "    .save(\"D:/Project/delta_lake/gold/user_features\")\n"
   ]
  }
 ],
 "metadata": {
  "kernelspec": {
   "display_name": "venv",
   "language": "python",
   "name": "python3"
  },
  "language_info": {
   "name": "python",
   "version": "3.11.9"
  }
 },
 "nbformat": 4,
 "nbformat_minor": 2
}
