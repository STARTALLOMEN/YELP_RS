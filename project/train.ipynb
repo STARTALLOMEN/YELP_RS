{
 "cells": [
  {
   "cell_type": "code",
   "execution_count": 1,
   "metadata": {},
   "outputs": [],
   "source": [
    "import pyodbc\n",
    "import pandas as pd\n",
    "from sklearn.model_selection import train_test_split\n",
    "from sklearn.feature_extraction.text import TfidfVectorizer\n",
    "from sklearn.linear_model import LogisticRegression\n",
    "from sklearn.metrics import classification_report\n",
    "from sklearn.preprocessing import StandardScaler\n",
    "import joblib\n",
    "import scipy\n",
    "from sqlalchemy import create_engine"
   ]
  },
  {
   "cell_type": "code",
   "execution_count": 2,
   "metadata": {},
   "outputs": [
    {
     "name": "stdout",
     "output_type": "stream",
     "text": [
      "Kết nối đến Azure SQL Server thành công!\n"
     ]
    },
    {
     "name": "stderr",
     "output_type": "stream",
     "text": [
      "C:\\Users\\trieu\\AppData\\Local\\Temp\\ipykernel_22636\\2244146285.py:24: UserWarning: pandas only supports SQLAlchemy connectable (engine/connection) or database string URI or sqlite3 DBAPI2 connection. Other DBAPI2 objects are not tested. Please consider using SQLAlchemy.\n",
      "  df = pd.read_sql(reviews_query, conn)\n"
     ]
    },
    {
     "name": "stdout",
     "output_type": "stream",
     "text": [
      "Đọc thành công 6990247 dòng dữ liệu!\n"
     ]
    }
   ],
   "source": [
    "# Kết nối Azure SQL Server\n",
    "server = 'is402server.database.windows.net'\n",
    "database = 'is402db'\n",
    "username = 'trieu'\n",
    "password = 'Admin003@'\n",
    "driver = '{ODBC Driver 18 for SQL Server}'\n",
    "\n",
    "try:\n",
    "    conn = pyodbc.connect(\n",
    "        f'DRIVER={driver};SERVER={server};PORT=1433;DATABASE={database};UID={username};PWD={password}'\n",
    "    )\n",
    "    print(\"Kết nối đến Azure SQL Server thành công!\")\n",
    "except Exception as e:\n",
    "    print(f\"Lỗi kết nối đến SQL Server: {e}\")\n",
    "    exit()\n",
    "\n",
    "# Truy vấn dữ liệu\n",
    "reviews_query = \"\"\"\n",
    "SELECT r.text, r.stars AS review_stars, b.categories, b.stars AS business_stars, b.review_count\n",
    "FROM fact_review r\n",
    "JOIN dim_business b ON r.business_id = b.business_id\n",
    "\"\"\"\n",
    "try:\n",
    "    df = pd.read_sql(reviews_query, conn)\n",
    "    print(f\"Đọc thành công {len(df)} dòng dữ liệu!\")\n",
    "except Exception as e:\n",
    "    print(f\"Lỗi truy vấn dữ liệu: {e}\")\n",
    "    exit()\n"
   ]
  },
  {
   "cell_type": "code",
   "execution_count": 3,
   "metadata": {},
   "outputs": [],
   "source": [
    "def preprocess_text(text):\n",
    "    import re\n",
    "    text = re.sub(r'[^\\w\\s]', '', text)  # Loại bỏ ký tự đặc biệt\n",
    "    text = text.lower()  # Chuyển về chữ thường\n",
    "    return text\n",
    "\n",
    "df['text_clean'] = df['text'].apply(preprocess_text)\n",
    "\n",
    "# Nhãn: Chuyển số sao thành hai nhóm\n",
    "df['label'] = df['review_stars'].apply(lambda x: 1 if x >= 4 else 0)"
   ]
  },
  {
   "cell_type": "code",
   "execution_count": 4,
   "metadata": {},
   "outputs": [
    {
     "name": "stdout",
     "output_type": "stream",
     "text": [
      "Huấn luyện mô hình thành công!\n"
     ]
    }
   ],
   "source": [
    "# Đặc trưng: Văn bản và các thuộc tính bổ trợ\n",
    "X_text = df['text_clean']\n",
    "X_features = df[['business_stars', 'review_count']]\n",
    "y = df['label']\n",
    "\n",
    "# Chuẩn hóa các thuộc tính bổ trợ\n",
    "scaler = StandardScaler()\n",
    "X_features_scaled = scaler.fit_transform(X_features)\n",
    "\n",
    "# Trích xuất đặc trưng từ văn bản (TF-IDF)\n",
    "tfidf = TfidfVectorizer(max_features=5000)  # Chọn 5000 đặc trưng phổ biến nhất\n",
    "X_tfidf = tfidf.fit_transform(X_text)\n",
    "\n",
    "# Kết hợp đặc trưng từ TF-IDF và các thuộc tính bổ trợ\n",
    "X_combined = scipy.sparse.hstack((X_tfidf, X_features_scaled))\n",
    "\n",
    "# Chia dữ liệu train/test\n",
    "X_train, X_test, y_train, y_test = train_test_split(X_combined, y, test_size=0.2, random_state=42)\n",
    "\n",
    "# Huấn luyện Logistic Regression\n",
    "model = LogisticRegression(max_iter=5000, solver='saga')\n",
    "try:\n",
    "    model.fit(X_train, y_train)\n",
    "    print(\"Huấn luyện mô hình thành công!\")\n",
    "except Exception as e:\n",
    "    print(f\"Lỗi trong quá trình huấn luyện mô hình: {e}\")\n",
    "    exit()"
   ]
  },
  {
   "cell_type": "code",
   "execution_count": 5,
   "metadata": {},
   "outputs": [
    {
     "name": "stdout",
     "output_type": "stream",
     "text": [
      "Báo cáo đánh giá mô hình:\n",
      "              precision    recall  f1-score   support\n",
      "\n",
      "           0       0.89      0.86      0.88    460473\n",
      "           1       0.93      0.95      0.94    937577\n",
      "\n",
      "    accuracy                           0.92   1398050\n",
      "   macro avg       0.91      0.91      0.91   1398050\n",
      "weighted avg       0.92      0.92      0.92   1398050\n",
      "\n",
      "Lưu mô hình và vectorizer thành công!\n"
     ]
    }
   ],
   "source": [
    "# Đánh giá mô hình\n",
    "y_pred = model.predict(X_test)\n",
    "print(\"Báo cáo đánh giá mô hình:\")\n",
    "print(classification_report(y_test, y_pred))\n",
    "\n",
    "# Lưu mô hình và TF-IDF\n",
    "try:\n",
    "    joblib.dump(model, 'recommendation_model.pkl')\n",
    "    joblib.dump(tfidf, 'tfidf_vectorizer.pkl')\n",
    "    print(\"Lưu mô hình và vectorizer thành công!\")\n",
    "except Exception as e:\n",
    "    print(f\"Lỗi khi lưu mô hình: {e}\")"
   ]
  }
 ],
 "metadata": {
  "kernelspec": {
   "display_name": "Python 3",
   "language": "python",
   "name": "python3"
  },
  "language_info": {
   "codemirror_mode": {
    "name": "ipython",
    "version": 3
   },
   "file_extension": ".py",
   "mimetype": "text/x-python",
   "name": "python",
   "nbconvert_exporter": "python",
   "pygments_lexer": "ipython3",
   "version": "3.11.9"
  }
 },
 "nbformat": 4,
 "nbformat_minor": 2
}
