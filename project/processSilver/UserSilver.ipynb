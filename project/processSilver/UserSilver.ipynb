{
 "cells": [
  {
   "cell_type": "code",
   "execution_count": null,
   "metadata": {},
   "outputs": [],
   "source": [
    "from pyspark.sql import SparkSession\n",
    "from pyspark.sql.functions import *\n",
    "from pyspark.sql.types import *\n",
    "from pyspark.ml.feature import Imputer\n",
    "import pyspark.sql.functions as F\n",
    "from delta import *"
   ]
  },
  {
   "cell_type": "code",
   "execution_count": null,
   "metadata": {},
   "outputs": [],
   "source": [
    "builder = SparkSession.builder \\\n",
    "    .appName(\"Users to Silver\") \\\n",
    "    .config(\"spark.jars.packages\", \"io.delta:delta-core_2.12:3.1.0\") \\\n",
    "    .config(\"spark.sql.extensions\", \"io.delta.sql.DeltaSparkSessionExtension\") \\\n",
    "    .config(\"spark.sql.catalog.spark_catalog\", \"org.apache.spark.sql.delta.catalog.DeltaCatalog\")\n",
    "\n",
    "spark = configure_spark_with_delta_pip(builder).getOrCreate()\n"
   ]
  },
  {
   "cell_type": "code",
   "execution_count": null,
   "metadata": {},
   "outputs": [],
   "source": [
    "def load_users_data(spark, path):\n",
    "    schema = StructType([\n",
    "        StructField(\"user_id\", StringType(), True),\n",
    "        StructField(\"name\", StringType(), True),\n",
    "        StructField(\"review_count\", IntegerType(), True),\n",
    "        StructField(\"yelping_since\", StringType(), True),\n",
    "        StructField(\"useful\", IntegerType(), True),\n",
    "        StructField(\"funny\", IntegerType(), True),\n",
    "        StructField(\"cool\", IntegerType(), True),\n",
    "        StructField(\"elite\", StringType(), True),\n",
    "        StructField(\"friends\", StringType(), True),\n",
    "        StructField(\"fans\", IntegerType(), True),\n",
    "        StructField(\"average_stars\", DoubleType(), True),\n",
    "        StructField(\"compliment_hot\", IntegerType(), True),\n",
    "        StructField(\"compliment_more\", IntegerType(), True),\n",
    "        StructField(\"compliment_profile\", IntegerType(), True),\n",
    "        StructField(\"compliment_cute\", IntegerType(), True),\n",
    "        StructField(\"compliment_list\", IntegerType(), True),\n",
    "        StructField(\"compliment_note\", IntegerType(), True),\n",
    "        StructField(\"compliment_plain\", IntegerType(), True),\n",
    "        StructField(\"compliment_cool\", IntegerType(), True),\n",
    "        StructField(\"compliment_funny\", IntegerType(), True),\n",
    "        StructField(\"compliment_writer\", IntegerType(), True),\n",
    "        StructField(\"compliment_photos\", IntegerType(), True)\n",
    "    ])\n",
    "    return spark.read.json(path, schema=schema)\n",
    "\n",
    "df = load_users_data(spark, \"D:/Project/delta_lake/bronze/yelp_academic_dataset_user.json\")\n",
    "df.show(5)\n"
   ]
  },
  {
   "cell_type": "code",
   "execution_count": null,
   "metadata": {},
   "outputs": [],
   "source": [
    "def handle_missing_values(df):\n",
    "    numeric_cols = [\"review_count\", \"useful\", \"funny\", \"cool\", \"fans\", \"average_stars\"] + \\\n",
    "                  [col for col in df.columns if col.startswith(\"compliment_\")]\n",
    "    \n",
    "    imputer = Imputer(\n",
    "        inputCols=numeric_cols,\n",
    "        outputCols=[f\"{col}_imputed\" for col in numeric_cols]\n",
    "    ).setStrategy(\"median\")\n",
    "    \n",
    "    df = imputer.fit(df).transform(df)\n",
    "    \n",
    "    df = df.na.fill({\n",
    "        \"name\": \"Unknown\",\n",
    "        \"yelping_since\": \"1970-01-01\",\n",
    "        \"elite\": \"\",\n",
    "        \"friends\": \"\"\n",
    "    })\n",
    "    return df\n",
    "\n",
    "df = handle_missing_values(df)\n",
    "df.show(5)"
   ]
  },
  {
   "cell_type": "code",
   "execution_count": null,
   "metadata": {},
   "outputs": [],
   "source": [
    "def standardize_data(df):\n",
    "    return df \\\n",
    "        .withColumn(\"name\", trim(lower(col(\"name\")))) \\\n",
    "        .withColumn(\"yelping_since\", to_timestamp(col(\"yelping_since\"))) \\\n",
    "        .withColumn(\"account_age_days\", datediff(current_date(), col(\"yelping_since\"))) \\\n",
    "        .withColumn(\"friends_array\", split(col(\"friends\"), \",\")) \\\n",
    "        .withColumn(\"friends_count\", size(col(\"friends_array\"))) \\\n",
    "        .withColumn(\"elite_years\", split(col(\"elite\"), \",\"))\n",
    "\n",
    "df = standardize_data(df)\n",
    "df.show(5)"
   ]
  },
  {
   "cell_type": "code",
   "execution_count": null,
   "metadata": {},
   "outputs": [],
   "source": [
    "def feature_engineering(df):\n",
    "    df = df.withColumn(\"total_compliments\", \n",
    "        sum([col(c) for c in df.columns if c.startswith(\"compliment_\")]))\n",
    "    \n",
    "    df = df.withColumn(\"engagement_score\", \n",
    "        (col(\"review_count\") + col(\"fans\") + col(\"friends_count\")) / col(\"account_age_days\"))\n",
    "    \n",
    "    df = df.withColumn(\"user_status\",\n",
    "        when(size(col(\"elite_years\")) > 0, \"Elite\")\n",
    "        .when(col(\"fans\") > 10, \"Popular\")\n",
    "        .when(col(\"review_count\") > 50, \"Active\")\n",
    "        .otherwise(\"Regular\"))\n",
    "    \n",
    "    df = df.withColumn(\"rating_behavior\",\n",
    "        when(col(\"average_stars\") >= 4.0, \"Positive\")\n",
    "        .when(col(\"average_stars\") <= 2.0, \"Critical\")\n",
    "        .otherwise(\"Neutral\"))\n",
    "    \n",
    "    return df\n",
    "\n",
    "df = feature_engineering(df)\n",
    "df.show(5)\n"
   ]
  },
  {
   "cell_type": "code",
   "execution_count": null,
   "metadata": {},
   "outputs": [],
   "source": [
    "def validate_data(df):\n",
    "    df = df.filter(\n",
    "        (col(\"average_stars\").between(1, 5)) &\n",
    "        (col(\"review_count\") >= 0) &\n",
    "        (col(\"fans\") >= 0) &\n",
    "        (length(col(\"user_id\")) > 0)\n",
    "    )\n",
    "    \n",
    "    numeric_cols = [\"useful\", \"funny\", \"cool\"] + \\\n",
    "                  [col for col in df.columns if col.startswith(\"compliment_\")]\n",
    "    \n",
    "    for col_name in numeric_cols:\n",
    "        df = df.filter(col(col_name) >= 0)\n",
    "    \n",
    "    return df\n",
    "\n",
    "df = validate_data(df)\n",
    "df.show(5)\n"
   ]
  },
  {
   "cell_type": "code",
   "execution_count": null,
   "metadata": {},
   "outputs": [],
   "source": [
    "def quality_checks(df):\n",
    "    null_counts = df.select([sum(col(c).isNull().cast(\"int\")).alias(c) \n",
    "                           for c in df.columns])\n",
    "    \n",
    "    duplicate_count = df.count() - df.dropDuplicates().count()\n",
    "    \n",
    "    value_dist = df.select(\n",
    "        mean(\"review_count\").alias(\"mean_reviews\"),\n",
    "        mean(\"fans\").alias(\"mean_fans\"),\n",
    "        mean(\"average_stars\").alias(\"mean_rating\"),\n",
    "        mean(\"total_compliments\").alias(\"mean_compliments\"),\n",
    "        mean(\"engagement_score\").alias(\"mean_engagement\")\n",
    "    )\n",
    "    \n",
    "    print(\"Null Counts:\")\n",
    "    null_counts.show()\n",
    "    print(f\"\\nDuplicate Count: {duplicate_count}\")\n",
    "    print(\"\\nValue Distributions:\")\n",
    "    value_dist.show()\n",
    "    \n",
    "    return df\n",
    "\n",
    "df = quality_checks(df)\n"
   ]
  },
  {
   "cell_type": "code",
   "execution_count": null,
   "metadata": {},
   "outputs": [],
   "source": [
    "df.write.format(\"delta\") \\\n",
    "    .mode(\"overwrite\") \\\n",
    "    .partitionBy(\"user_status\") \\\n",
    "    .save(\"D:/Project/delta_lake/silver/users\")\n"
   ]
  }
 ],
 "metadata": {
  "kernelspec": {
   "display_name": "venv",
   "language": "python",
   "name": "python3"
  },
  "language_info": {
   "name": "python",
   "version": "3.11.9"
  }
 },
 "nbformat": 4,
 "nbformat_minor": 2
}
