{
 "cells": [
  {
   "cell_type": "code",
   "execution_count": 1,
   "metadata": {},
   "outputs": [],
   "source": [
    "from pyspark.sql import SparkSession\n",
    "from pyspark.sql.functions import *\n",
    "from pyspark.sql.types import *\n",
    "from pyspark.ml.feature import Imputer\n",
    "import pyspark.sql.functions as F\n",
    "from pyspark.sql.window import Window\n",
    "from delta import *"
   ]
  },
  {
   "cell_type": "code",
   "execution_count": 2,
   "metadata": {},
   "outputs": [],
   "source": [
    "builder = SparkSession.builder \\\n",
    "    .appName(\"Checkins to Silver\") \\\n",
    "    .config(\"spark.jars.packages\", \"io.delta:delta-core_2.12:3.1.0\") \\\n",
    "    .config(\"spark.sql.extensions\", \"io.delta.sql.DeltaSparkSessionExtension\") \\\n",
    "    .config(\"spark.sql.catalog.spark_catalog\", \"org.apache.spark.sql.delta.catalog.DeltaCatalog\")\n",
    "\n",
    "spark = configure_spark_with_delta_pip(builder).getOrCreate()"
   ]
  },
  {
   "cell_type": "code",
   "execution_count": 3,
   "metadata": {},
   "outputs": [
    {
     "name": "stdout",
     "output_type": "stream",
     "text": [
      "+--------------------+--------------------+\n",
      "|         business_id|                date|\n",
      "+--------------------+--------------------+\n",
      "|---kPU91CF4Lq2-Wl...|2020-03-13 21:10:...|\n",
      "|--0iUa4sNDFiZFrAd...|2010-09-13 21:43:...|\n",
      "|--30_8IhuyMHbSOcN...|2013-06-14 23:29:...|\n",
      "|--7PUidqRWpRSpXeb...|2011-02-15 17:12:...|\n",
      "|--7jw19RH9JKXgFoh...|2014-04-21 20:42:...|\n",
      "+--------------------+--------------------+\n",
      "only showing top 5 rows\n",
      "\n"
     ]
    }
   ],
   "source": [
    "def load_checkin_data(spark, path):\n",
    "    schema = StructType([\n",
    "        StructField(\"business_id\", StringType(), True),\n",
    "        StructField(\"date\", StringType(), True)\n",
    "    ])\n",
    "    return spark.read.json(path, schema=schema)\n",
    "\n",
    "df = load_checkin_data(spark, \"D:/Project/delta_lake/bronze/yelp_academic_dataset_checkin.json\")\n",
    "df.show(5)"
   ]
  },
  {
   "cell_type": "code",
   "execution_count": 4,
   "metadata": {},
   "outputs": [
    {
     "name": "stdout",
     "output_type": "stream",
     "text": [
      "+--------------------+-------------------+----+-----+---+----+-----------+\n",
      "|         business_id|  checkin_timestamp|year|month|day|hour|day_of_week|\n",
      "+--------------------+-------------------+----+-----+---+----+-----------+\n",
      "|---kPU91CF4Lq2-Wl...|2020-03-13 21:10:56|2020|    3| 13|  21|     Friday|\n",
      "|---kPU91CF4Lq2-Wl...|2020-06-02 22:18:06|2020|    6|  2|  22|    Tuesday|\n",
      "|---kPU91CF4Lq2-Wl...|2020-07-24 22:42:27|2020|    7| 24|  22|     Friday|\n",
      "|---kPU91CF4Lq2-Wl...|2020-10-24 21:36:13|2020|   10| 24|  21|   Saturday|\n",
      "|---kPU91CF4Lq2-Wl...|2020-12-09 21:23:33|2020|   12|  9|  21|  Wednesday|\n",
      "+--------------------+-------------------+----+-----+---+----+-----------+\n",
      "only showing top 5 rows\n",
      "\n"
     ]
    }
   ],
   "source": [
    "def transform_dates(df):\n",
    "    # Split the date string into individual timestamps\n",
    "    df = df.withColumn(\"date_array\", split(col(\"date\"), \", \"))\n",
    "    \n",
    "    # Explode the array to create individual rows for each checkin\n",
    "    df = df.withColumn(\"checkin_timestamp\", explode(col(\"date_array\")))\n",
    "    \n",
    "    # Convert to timestamp and extract components\n",
    "    df = df.withColumn(\"checkin_timestamp\", to_timestamp(col(\"checkin_timestamp\"))) \\\n",
    "        .withColumn(\"year\", year(col(\"checkin_timestamp\"))) \\\n",
    "        .withColumn(\"month\", month(col(\"checkin_timestamp\"))) \\\n",
    "        .withColumn(\"day\", dayofmonth(col(\"checkin_timestamp\"))) \\\n",
    "        .withColumn(\"hour\", hour(col(\"checkin_timestamp\"))) \\\n",
    "        .withColumn(\"day_of_week\", date_format(col(\"checkin_timestamp\"), \"EEEE\"))\n",
    "    \n",
    "    return df.drop(\"date_array\", \"date\")\n",
    "\n",
    "df = transform_dates(df)\n",
    "df.show(5)\n"
   ]
  },
  {
   "cell_type": "code",
   "execution_count": null,
   "metadata": {},
   "outputs": [
    {
     "name": "stdout",
     "output_type": "stream",
     "text": [
      "+--------------------+-------------------+----+-----+---+----+-----------+-----------+----------+--------------+\n",
      "|         business_id|  checkin_timestamp|year|month|day|hour|day_of_week|time_period|is_weekend|daily_checkins|\n",
      "+--------------------+-------------------+----+-----+---+----+-----------+-----------+----------+--------------+\n",
      "|---kPU91CF4Lq2-Wl...|2020-12-09 21:23:33|2020|   12|  9|  21|  Wednesday|    Evening|     false|             1|\n",
      "|--0iUa4sNDFiZFrAd...|2013-11-18 06:34:08|2013|   11| 18|   6|     Monday|    Morning|     false|             1|\n",
      "|--30_8IhuyMHbSOcN...|2013-06-14 23:29:17|2013|    6| 14|  23|     Friday|      Night|     false|             1|\n",
      "|--7PUidqRWpRSpXeb...|2014-05-02 15:49:55|2014|    5|  2|  15|     Friday|  Afternoon|     false|             1|\n",
      "|--7jw19RH9JKXgFoh...|2014-04-21 20:42:11|2014|    4| 21|  20|     Monday|    Evening|     false|             1|\n",
      "+--------------------+-------------------+----+-----+---+----+-----------+-----------+----------+--------------+\n",
      "only showing top 5 rows\n",
      "\n"
     ]
    }
   ],
   "source": [
    "def feature_engineering(df):\n",
    "    # Time period categorization\n",
    "    df = df.withColumn(\"time_period\",\n",
    "        when((col(\"hour\") >= 6) & (col(\"hour\") < 12), \"Morning\")\n",
    "        .when((col(\"hour\") >= 12) & (col(\"hour\") < 17), \"Afternoon\")\n",
    "        .when((col(\"hour\") >= 17) & (col(\"hour\") < 22), \"Evening\")\n",
    "        .otherwise(\"Night\"))\n",
    "    \n",
    "    # Weekend flag\n",
    "    df = df.withColumn(\"is_weekend\",\n",
    "        when(col(\"day_of_week\").isin([\"Saturday\", \"Sunday\"]), True)\n",
    "        .otherwise(False)) jnmjnm\n",
    "    \n",
    "    # Business checkin frequency\n",
    "    window_daily = Window.partitionBy(\"business_id\", \"year\", \"month\", \"day\")\n",
    "    df = df.withColumn(\"daily_checkins\", count(\"*\").over(window_daily))\n",
    "    \n",
    "    return df\n",
    "\n",
    "df = feature_engineering(df)\n",
    "df.show(5)\n"
   ]
  },
  {
   "cell_type": "code",
   "execution_count": 6,
   "metadata": {},
   "outputs": [
    {
     "name": "stdout",
     "output_type": "stream",
     "text": [
      "+--------------------+----+-----+---+--------------+------------+----------------+----------------+------------------+----------------+--------------+\n",
      "|         business_id|year|month|day|total_checkins|unique_hours|weekend_checkins|morning_checkins|afternoon_checkins|evening_checkins|night_checkins|\n",
      "+--------------------+----+-----+---+--------------+------------+----------------+----------------+------------------+----------------+--------------+\n",
      "|-8oIIpYJAXWg-G3gl...|2021|    1| 22|             1|           1|               0|               0|                 0|               0|             1|\n",
      "|-HUDQ5eek6Edz3zuN...|2013|    5|  9|             1|           1|               0|               0|                 0|               1|             0|\n",
      "|-OKB11ypR4C8wWlon...|2017|   10| 21|             2|           2|               2|               1|                 0|               0|             1|\n",
      "|-Or44IdY51Ukd618k...|2020|    1| 12|             1|           1|               1|               0|                 0|               1|             0|\n",
      "|-QI8Qi8XWH3D8y8et...|2014|    9| 27|            15|          11|              15|               2|                 5|               5|             3|\n",
      "+--------------------+----+-----+---+--------------+------------+----------------+----------------+------------------+----------------+--------------+\n",
      "only showing top 5 rows\n",
      "\n"
     ]
    }
   ],
   "source": [
    "def calculate_metrics(df):\n",
    "    # Daily aggregations\n",
    "    daily_metrics = df.groupBy(\"business_id\", \"year\", \"month\", \"day\") \\\n",
    "        .agg(\n",
    "            count(\"*\").alias(\"total_checkins\"),\n",
    "            countDistinct(\"hour\").alias(\"unique_hours\"),\n",
    "            sum(when(col(\"is_weekend\"), 1).otherwise(0)).alias(\"weekend_checkins\"),\n",
    "            sum(when(col(\"time_period\") == \"Morning\", 1).otherwise(0)).alias(\"morning_checkins\"),\n",
    "            sum(when(col(\"time_period\") == \"Afternoon\", 1).otherwise(0)).alias(\"afternoon_checkins\"),\n",
    "            sum(when(col(\"time_period\") == \"Evening\", 1).otherwise(0)).alias(\"evening_checkins\"),\n",
    "            sum(when(col(\"time_period\") == \"Night\", 1).otherwise(0)).alias(\"night_checkins\")\n",
    "        )\n",
    "    \n",
    "    return daily_metrics\n",
    "\n",
    "df_metrics = calculate_metrics(df)\n",
    "df_metrics.show(5)\n"
   ]
  },
  {
   "cell_type": "code",
   "execution_count": 7,
   "metadata": {},
   "outputs": [
    {
     "name": "stdout",
     "output_type": "stream",
     "text": [
      "+--------------------+-------------------+----+-----+---+----+-----------+-----------+----------+--------------+\n",
      "|         business_id|  checkin_timestamp|year|month|day|hour|day_of_week|time_period|is_weekend|daily_checkins|\n",
      "+--------------------+-------------------+----+-----+---+----+-----------+-----------+----------+--------------+\n",
      "|---kPU91CF4Lq2-Wl...|2020-12-09 21:23:33|2020|   12|  9|  21|  Wednesday|    Evening|     false|             1|\n",
      "|--0iUa4sNDFiZFrAd...|2013-11-18 06:34:08|2013|   11| 18|   6|     Monday|    Morning|     false|             1|\n",
      "|--30_8IhuyMHbSOcN...|2013-06-14 23:29:17|2013|    6| 14|  23|     Friday|      Night|     false|             1|\n",
      "|--7PUidqRWpRSpXeb...|2014-05-02 15:49:55|2014|    5|  2|  15|     Friday|  Afternoon|     false|             1|\n",
      "|--7jw19RH9JKXgFoh...|2014-04-21 20:42:11|2014|    4| 21|  20|     Monday|    Evening|     false|             1|\n",
      "+--------------------+-------------------+----+-----+---+----+-----------+-----------+----------+--------------+\n",
      "only showing top 5 rows\n",
      "\n"
     ]
    }
   ],
   "source": [
    "def validate_data(df):\n",
    "    df = df.filter(\n",
    "        (length(col(\"business_id\")) > 0) &\n",
    "        (col(\"checkin_timestamp\").isNotNull()) &\n",
    "        (col(\"year\") >= 2004) &  # Yelp founding year\n",
    "        (col(\"year\") <= year(current_date())) &\n",
    "        (col(\"hour\").between(0, 23))\n",
    "    )\n",
    "    return df\n",
    "\n",
    "df = validate_data(df)\n",
    "df.show(5)\n"
   ]
  },
  {
   "cell_type": "code",
   "execution_count": 8,
   "metadata": {},
   "outputs": [
    {
     "name": "stdout",
     "output_type": "stream",
     "text": [
      "Null Counts:\n",
      "+-----------+-----------------+----+-----+---+----+-----------+-----------+----------+--------------+\n",
      "|business_id|checkin_timestamp|year|month|day|hour|day_of_week|time_period|is_weekend|daily_checkins|\n",
      "+-----------+-----------------+----+-----+---+----+-----------+-----------+----------+--------------+\n",
      "|          0|                0|   0|    0|  0|   0|          0|          0|         0|             0|\n",
      "+-----------+-----------------+----+-----+---+----+-----------+-----------+----------+--------------+\n",
      "\n",
      "\n",
      "Time Period Distribution:\n",
      "+-----------+-------------+\n",
      "|time_period|checkin_count|\n",
      "+-----------+-------------+\n",
      "|  Afternoon|      2366772|\n",
      "|    Evening|      4705429|\n",
      "|    Morning|       389729|\n",
      "|      Night|      5894945|\n",
      "+-----------+-------------+\n",
      "\n",
      "\n",
      "Weekday Distribution:\n",
      "+-----------+-------------+\n",
      "|day_of_week|checkin_count|\n",
      "+-----------+-------------+\n",
      "|     Friday|      1959015|\n",
      "|     Monday|      1491993|\n",
      "|   Saturday|      2810469|\n",
      "|     Sunday|      2480701|\n",
      "|   Thursday|      1612496|\n",
      "|    Tuesday|      1460432|\n",
      "|  Wednesday|      1541769|\n",
      "+-----------+-------------+\n",
      "\n"
     ]
    }
   ],
   "source": [
    "def quality_checks(df):\n",
    "    null_counts = df.select([sum(col(c).isNull().cast(\"int\")).alias(c) \n",
    "                           for c in df.columns])\n",
    "    \n",
    "    time_dist = df.groupBy(\"time_period\") \\\n",
    "        .agg(count(\"*\").alias(\"checkin_count\")) \\\n",
    "        .orderBy(\"time_period\")\n",
    "    \n",
    "    weekday_dist = df.groupBy(\"day_of_week\") \\\n",
    "        .agg(count(\"*\").alias(\"checkin_count\")) \\\n",
    "        .orderBy(\"day_of_week\")\n",
    "    \n",
    "    print(\"Null Counts:\")\n",
    "    null_counts.show()\n",
    "    print(\"\\nTime Period Distribution:\")\n",
    "    time_dist.show()\n",
    "    print(\"\\nWeekday Distribution:\")\n",
    "    weekday_dist.show()\n",
    "    \n",
    "    return df\n",
    "\n",
    "df = quality_checks(df)\n"
   ]
  },
  {
   "cell_type": "code",
   "execution_count": 9,
   "metadata": {},
   "outputs": [],
   "source": [
    "# Save detailed checkins\n",
    "df.write.format(\"delta\") \\\n",
    "    .mode(\"overwrite\") \\\n",
    "    .partitionBy(\"year\", \"month\") \\\n",
    "    .save(\"D:/Project/delta_lake/silver/checkins_detailed\")\n",
    "\n",
    "# Save daily metrics\n",
    "df_metrics.write.format(\"delta\") \\\n",
    "    .mode(\"overwrite\") \\\n",
    "    .partitionBy(\"year\", \"month\") \\\n",
    "    .save(\"D:/Project/delta_lake/silver/checkins_metrics\")\n"
   ]
  }
 ],
 "metadata": {
  "kernelspec": {
   "display_name": "venv",
   "language": "python",
   "name": "python3"
  },
  "language_info": {
   "codemirror_mode": {
    "name": "ipython",
    "version": 3
   },
   "file_extension": ".py",
   "mimetype": "text/x-python",
   "name": "python",
   "nbconvert_exporter": "python",
   "pygments_lexer": "ipython3",
   "version": "3.11.9"
  }
 },
 "nbformat": 4,
 "nbformat_minor": 2
}
