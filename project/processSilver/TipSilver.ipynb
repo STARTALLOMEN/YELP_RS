{
 "cells": [
  {
   "cell_type": "code",
   "execution_count": 1,
   "metadata": {},
   "outputs": [],
   "source": [
    "from pyspark.sql import SparkSession\n",
    "from pyspark.sql.functions import *\n",
    "from pyspark.sql.types import *\n",
    "from pyspark.ml.feature import Imputer\n",
    "import pyspark.sql.functions as F\n",
    "from delta import *\n"
   ]
  },
  {
   "cell_type": "code",
   "execution_count": 2,
   "metadata": {},
   "outputs": [],
   "source": [
    "builder = SparkSession.builder \\\n",
    "    .appName(\"Tips to Silver\") \\\n",
    "    .config(\"spark.jars.packages\", \"io.delta:delta-core_2.12:3.1.0\") \\\n",
    "    .config(\"spark.sql.extensions\", \"io.delta.sql.DeltaSparkSessionExtension\") \\\n",
    "    .config(\"spark.sql.catalog.spark_catalog\", \"org.apache.spark.sql.delta.catalog.DeltaCatalog\")\n",
    "\n",
    "spark = configure_spark_with_delta_pip(builder).getOrCreate()\n"
   ]
  },
  {
   "cell_type": "code",
   "execution_count": 3,
   "metadata": {},
   "outputs": [
    {
     "name": "stdout",
     "output_type": "stream",
     "text": [
      "+--------------------+--------------------+--------------------+-------------------+----------------+\n",
      "|             user_id|         business_id|                text|               date|compliment_count|\n",
      "+--------------------+--------------------+--------------------+-------------------+----------------+\n",
      "|AGNUgVwnZUey3gcPC...|3uLgwr0qeCNMjKenH...|Avengers time wit...|2012-05-18 02:17:21|               0|\n",
      "|NBN4MgHP9D3cw--Sn...|QoezRbYQncpRqyrLH...|They have lots of...|2013-02-05 18:35:10|               0|\n",
      "|-copOvldyKh1qr-vz...|MYoRNLb5chwjQe3c_...|It's open even wh...|2013-08-18 00:56:08|               0|\n",
      "|FjMQVZjSqY8syIO-5...|hV-bABTK-glh5wj31...|Very decent fried...|2017-06-27 23:05:38|               0|\n",
      "|ld0AperBXk1h6Ubqm...|_uN0OudeJ3Zl_tf6n...|Appetizers.. plat...|2012-10-06 19:43:09|               0|\n",
      "+--------------------+--------------------+--------------------+-------------------+----------------+\n",
      "only showing top 5 rows\n",
      "\n"
     ]
    }
   ],
   "source": [
    "def load_tips_data(spark, path):\n",
    "    schema = StructType([\n",
    "        StructField(\"user_id\", StringType(), True),\n",
    "        StructField(\"business_id\", StringType(), True),\n",
    "        StructField(\"text\", StringType(), True),\n",
    "        StructField(\"date\", StringType(), True),\n",
    "        StructField(\"compliment_count\", IntegerType(), True)\n",
    "    ])\n",
    "    return spark.read.json(path, schema=schema)\n",
    "\n",
    "df = load_tips_data(spark, \"D:/Project/delta_lake/bronze/yelp_academic_dataset_tip.json\")\n",
    "df.show(5)\n"
   ]
  },
  {
   "cell_type": "code",
   "execution_count": null,
   "metadata": {},
   "outputs": [
    {
     "name": "stdout",
     "output_type": "stream",
     "text": [
      "+--------------------+--------------------+--------------------+-----+------+-----+----+--------------------+-------------------+\n",
      "|           review_id|             user_id|         business_id|stars|useful|funny|cool|                text|               date|\n",
      "+--------------------+--------------------+--------------------+-----+------+-----+----+--------------------+-------------------+\n",
      "|KU_O5udG6zpxOg-Vc...|mh_-eMZ6K5RLWhZyI...|XQfwVwDr-v0ZS3_Cb...|  3.0|     0|    0|   0|If you decide to ...|2018-07-07 22:09:11|\n",
      "|BiTunyQ73aT9WBnpR...|OyoGAe7OKpv6SyGZT...|7ATYjTIgM3jUlt4UM...|  5.0|     1|    0|   1|I've taken a lot ...|2012-01-03 15:28:18|\n",
      "|saUsX_uimxRlCVr67...|8g_iMtfSiwikVnbP2...|YjUWPpI6HXG530lwP...|  3.0|     0|    0|   0|Family diner. Had...|2014-02-05 20:30:30|\n",
      "|AqPFMleE6RsU23_au...|_7bHUi9Uuf5__HHc_...|kxX2SOes4o-D3ZQBk...|  5.0|     1|    0|   1|Wow!  Yummy, diff...|2015-01-04 00:01:03|\n",
      "|Sx8TMOWLNuJBWer-0...|bcjbaE6dDog4jkNY9...|e4Vwtrqf-wpJfwesg...|  4.0|     1|    0|   1|Cute interior and...|2017-01-14 20:54:15|\n",
      "+--------------------+--------------------+--------------------+-----+------+-----+----+--------------------+-------------------+\n",
      "only showing top 5 rows\n",
      "\n"
     ]
    }
   ],
   "source": []
  },
  {
   "cell_type": "code",
   "execution_count": null,
   "metadata": {},
   "outputs": [
    {
     "name": "stdout",
     "output_type": "stream",
     "text": [
      "+--------------------+--------------------+--------------------+-----+------+-----+----+--------------------+-------------------+\n",
      "|           review_id|             user_id|         business_id|stars|useful|funny|cool|                text|               date|\n",
      "+--------------------+--------------------+--------------------+-----+------+-----+----+--------------------+-------------------+\n",
      "|KU_O5udG6zpxOg-Vc...|mh_-eMZ6K5RLWhZyI...|XQfwVwDr-v0ZS3_Cb...|  3.0|     0|    0|   0|If you decide to ...|2018-07-07 22:09:11|\n",
      "|BiTunyQ73aT9WBnpR...|OyoGAe7OKpv6SyGZT...|7ATYjTIgM3jUlt4UM...|  5.0|     1|    0|   1|I've taken a lot ...|2012-01-03 15:28:18|\n",
      "|saUsX_uimxRlCVr67...|8g_iMtfSiwikVnbP2...|YjUWPpI6HXG530lwP...|  3.0|     0|    0|   0|Family diner. Had...|2014-02-05 20:30:30|\n",
      "|AqPFMleE6RsU23_au...|_7bHUi9Uuf5__HHc_...|kxX2SOes4o-D3ZQBk...|  5.0|     1|    0|   1|Wow!  Yummy, diff...|2015-01-04 00:01:03|\n",
      "|Sx8TMOWLNuJBWer-0...|bcjbaE6dDog4jkNY9...|e4Vwtrqf-wpJfwesg...|  4.0|     1|    0|   1|Cute interior and...|2017-01-14 20:54:15|\n",
      "+--------------------+--------------------+--------------------+-----+------+-----+----+--------------------+-------------------+\n",
      "only showing top 5 rows\n",
      "\n"
     ]
    }
   ],
   "source": []
  },
  {
   "cell_type": "code",
   "execution_count": null,
   "metadata": {},
   "outputs": [
    {
     "name": "stdout",
     "output_type": "stream",
     "text": [
      "+--------------------+--------------------+--------------------+-----+------+-----+----+--------------------+-------------------+\n",
      "|           review_id|             user_id|         business_id|stars|useful|funny|cool|                text|               date|\n",
      "+--------------------+--------------------+--------------------+-----+------+-----+----+--------------------+-------------------+\n",
      "|KU_O5udG6zpxOg-Vc...|mh_-eMZ6K5RLWhZyI...|XQfwVwDr-v0ZS3_Cb...|  3.0|     0|    0|   0|If you decide to ...|2018-07-07 22:09:11|\n",
      "|BiTunyQ73aT9WBnpR...|OyoGAe7OKpv6SyGZT...|7ATYjTIgM3jUlt4UM...|  5.0|     1|    0|   1|I've taken a lot ...|2012-01-03 15:28:18|\n",
      "|saUsX_uimxRlCVr67...|8g_iMtfSiwikVnbP2...|YjUWPpI6HXG530lwP...|  3.0|     0|    0|   0|Family diner. Had...|2014-02-05 20:30:30|\n",
      "|AqPFMleE6RsU23_au...|_7bHUi9Uuf5__HHc_...|kxX2SOes4o-D3ZQBk...|  5.0|     1|    0|   1|Wow!  Yummy, diff...|2015-01-04 00:01:03|\n",
      "|Sx8TMOWLNuJBWer-0...|bcjbaE6dDog4jkNY9...|e4Vwtrqf-wpJfwesg...|  4.0|     1|    0|   1|Cute interior and...|2017-01-14 20:54:15|\n",
      "+--------------------+--------------------+--------------------+-----+------+-----+----+--------------------+-------------------+\n",
      "only showing top 5 rows\n",
      "\n"
     ]
    }
   ],
   "source": []
  },
  {
   "cell_type": "code",
   "execution_count": null,
   "metadata": {},
   "outputs": [
    {
     "name": "stdout",
     "output_type": "stream",
     "text": [
      "+--------------------+--------------------+--------------------+-----+------+-----+----+--------------------+-------------------+\n",
      "|           review_id|             user_id|         business_id|stars|useful|funny|cool|                text|               date|\n",
      "+--------------------+--------------------+--------------------+-----+------+-----+----+--------------------+-------------------+\n",
      "|KU_O5udG6zpxOg-Vc...|mh_-eMZ6K5RLWhZyI...|XQfwVwDr-v0ZS3_Cb...|  3.0|     0|    0|   0|If you decide to ...|2018-07-07 22:09:11|\n",
      "|BiTunyQ73aT9WBnpR...|OyoGAe7OKpv6SyGZT...|7ATYjTIgM3jUlt4UM...|  5.0|     1|    0|   1|I've taken a lot ...|2012-01-03 15:28:18|\n",
      "|saUsX_uimxRlCVr67...|8g_iMtfSiwikVnbP2...|YjUWPpI6HXG530lwP...|  3.0|     0|    0|   0|Family diner. Had...|2014-02-05 20:30:30|\n",
      "|AqPFMleE6RsU23_au...|_7bHUi9Uuf5__HHc_...|kxX2SOes4o-D3ZQBk...|  5.0|     1|    0|   1|Wow!  Yummy, diff...|2015-01-04 00:01:03|\n",
      "|Sx8TMOWLNuJBWer-0...|bcjbaE6dDog4jkNY9...|e4Vwtrqf-wpJfwesg...|  4.0|     1|    0|   1|Cute interior and...|2017-01-14 20:54:15|\n",
      "+--------------------+--------------------+--------------------+-----+------+-----+----+--------------------+-------------------+\n",
      "only showing top 5 rows\n",
      "\n"
     ]
    }
   ],
   "source": []
  },
  {
   "cell_type": "code",
   "execution_count": null,
   "metadata": {},
   "outputs": [
    {
     "name": "stdout",
     "output_type": "stream",
     "text": [
      "+--------------------+--------------------+--------------------+-----+------+-----+----+--------------------+-------------------+\n",
      "|           review_id|             user_id|         business_id|stars|useful|funny|cool|                text|               date|\n",
      "+--------------------+--------------------+--------------------+-----+------+-----+----+--------------------+-------------------+\n",
      "|KU_O5udG6zpxOg-Vc...|mh_-eMZ6K5RLWhZyI...|XQfwVwDr-v0ZS3_Cb...|  3.0|     0|    0|   0|If you decide to ...|2018-07-07 22:09:11|\n",
      "|BiTunyQ73aT9WBnpR...|OyoGAe7OKpv6SyGZT...|7ATYjTIgM3jUlt4UM...|  5.0|     1|    0|   1|I've taken a lot ...|2012-01-03 15:28:18|\n",
      "|saUsX_uimxRlCVr67...|8g_iMtfSiwikVnbP2...|YjUWPpI6HXG530lwP...|  3.0|     0|    0|   0|Family diner. Had...|2014-02-05 20:30:30|\n",
      "|AqPFMleE6RsU23_au...|_7bHUi9Uuf5__HHc_...|kxX2SOes4o-D3ZQBk...|  5.0|     1|    0|   1|Wow!  Yummy, diff...|2015-01-04 00:01:03|\n",
      "|Sx8TMOWLNuJBWer-0...|bcjbaE6dDog4jkNY9...|e4Vwtrqf-wpJfwesg...|  4.0|     1|    0|   1|Cute interior and...|2017-01-14 20:54:15|\n",
      "+--------------------+--------------------+--------------------+-----+------+-----+----+--------------------+-------------------+\n",
      "only showing top 5 rows\n",
      "\n"
     ]
    }
   ],
   "source": []
  },
  {
   "cell_type": "code",
   "execution_count": null,
   "metadata": {},
   "outputs": [
    {
     "name": "stdout",
     "output_type": "stream",
     "text": [
      "+--------------------+--------------------+--------------------+-----+------+-----+----+--------------------+-------------------+\n",
      "|           review_id|             user_id|         business_id|stars|useful|funny|cool|                text|               date|\n",
      "+--------------------+--------------------+--------------------+-----+------+-----+----+--------------------+-------------------+\n",
      "|KU_O5udG6zpxOg-Vc...|mh_-eMZ6K5RLWhZyI...|XQfwVwDr-v0ZS3_Cb...|  3.0|     0|    0|   0|If you decide to ...|2018-07-07 22:09:11|\n",
      "|BiTunyQ73aT9WBnpR...|OyoGAe7OKpv6SyGZT...|7ATYjTIgM3jUlt4UM...|  5.0|     1|    0|   1|I've taken a lot ...|2012-01-03 15:28:18|\n",
      "|saUsX_uimxRlCVr67...|8g_iMtfSiwikVnbP2...|YjUWPpI6HXG530lwP...|  3.0|     0|    0|   0|Family diner. Had...|2014-02-05 20:30:30|\n",
      "|AqPFMleE6RsU23_au...|_7bHUi9Uuf5__HHc_...|kxX2SOes4o-D3ZQBk...|  5.0|     1|    0|   1|Wow!  Yummy, diff...|2015-01-04 00:01:03|\n",
      "|Sx8TMOWLNuJBWer-0...|bcjbaE6dDog4jkNY9...|e4Vwtrqf-wpJfwesg...|  4.0|     1|    0|   1|Cute interior and...|2017-01-14 20:54:15|\n",
      "+--------------------+--------------------+--------------------+-----+------+-----+----+--------------------+-------------------+\n",
      "only showing top 5 rows\n",
      "\n"
     ]
    }
   ],
   "source": []
  },
  {
   "cell_type": "code",
   "execution_count": null,
   "metadata": {},
   "outputs": [
    {
     "name": "stdout",
     "output_type": "stream",
     "text": [
      "+--------------------+--------------------+--------------------+-----+------+-----+----+--------------------+-------------------+\n",
      "|           review_id|             user_id|         business_id|stars|useful|funny|cool|                text|               date|\n",
      "+--------------------+--------------------+--------------------+-----+------+-----+----+--------------------+-------------------+\n",
      "|KU_O5udG6zpxOg-Vc...|mh_-eMZ6K5RLWhZyI...|XQfwVwDr-v0ZS3_Cb...|  3.0|     0|    0|   0|If you decide to ...|2018-07-07 22:09:11|\n",
      "|BiTunyQ73aT9WBnpR...|OyoGAe7OKpv6SyGZT...|7ATYjTIgM3jUlt4UM...|  5.0|     1|    0|   1|I've taken a lot ...|2012-01-03 15:28:18|\n",
      "|saUsX_uimxRlCVr67...|8g_iMtfSiwikVnbP2...|YjUWPpI6HXG530lwP...|  3.0|     0|    0|   0|Family diner. Had...|2014-02-05 20:30:30|\n",
      "|AqPFMleE6RsU23_au...|_7bHUi9Uuf5__HHc_...|kxX2SOes4o-D3ZQBk...|  5.0|     1|    0|   1|Wow!  Yummy, diff...|2015-01-04 00:01:03|\n",
      "|Sx8TMOWLNuJBWer-0...|bcjbaE6dDog4jkNY9...|e4Vwtrqf-wpJfwesg...|  4.0|     1|    0|   1|Cute interior and...|2017-01-14 20:54:15|\n",
      "+--------------------+--------------------+--------------------+-----+------+-----+----+--------------------+-------------------+\n",
      "only showing top 5 rows\n",
      "\n"
     ]
    }
   ],
   "source": []
  },
  {
   "cell_type": "code",
   "execution_count": null,
   "metadata": {},
   "outputs": [
    {
     "name": "stdout",
     "output_type": "stream",
     "text": [
      "+--------------------+--------------------+--------------------+-----+------+-----+----+--------------------+-------------------+\n",
      "|           review_id|             user_id|         business_id|stars|useful|funny|cool|                text|               date|\n",
      "+--------------------+--------------------+--------------------+-----+------+-----+----+--------------------+-------------------+\n",
      "|KU_O5udG6zpxOg-Vc...|mh_-eMZ6K5RLWhZyI...|XQfwVwDr-v0ZS3_Cb...|  3.0|     0|    0|   0|If you decide to ...|2018-07-07 22:09:11|\n",
      "|BiTunyQ73aT9WBnpR...|OyoGAe7OKpv6SyGZT...|7ATYjTIgM3jUlt4UM...|  5.0|     1|    0|   1|I've taken a lot ...|2012-01-03 15:28:18|\n",
      "|saUsX_uimxRlCVr67...|8g_iMtfSiwikVnbP2...|YjUWPpI6HXG530lwP...|  3.0|     0|    0|   0|Family diner. Had...|2014-02-05 20:30:30|\n",
      "|AqPFMleE6RsU23_au...|_7bHUi9Uuf5__HHc_...|kxX2SOes4o-D3ZQBk...|  5.0|     1|    0|   1|Wow!  Yummy, diff...|2015-01-04 00:01:03|\n",
      "|Sx8TMOWLNuJBWer-0...|bcjbaE6dDog4jkNY9...|e4Vwtrqf-wpJfwesg...|  4.0|     1|    0|   1|Cute interior and...|2017-01-14 20:54:15|\n",
      "+--------------------+--------------------+--------------------+-----+------+-----+----+--------------------+-------------------+\n",
      "only showing top 5 rows\n",
      "\n"
     ]
    }
   ],
   "source": []
  },
  {
   "cell_type": "code",
   "execution_count": 4,
   "metadata": {},
   "outputs": [
    {
     "name": "stdout",
     "output_type": "stream",
     "text": [
      "+--------------------+--------------------+--------------------+-------------------+----------------+\n",
      "|             user_id|         business_id|                text|               date|compliment_count|\n",
      "+--------------------+--------------------+--------------------+-------------------+----------------+\n",
      "|AGNUgVwnZUey3gcPC...|3uLgwr0qeCNMjKenH...|Avengers time wit...|2012-05-18 02:17:21|               0|\n",
      "|NBN4MgHP9D3cw--Sn...|QoezRbYQncpRqyrLH...|They have lots of...|2013-02-05 18:35:10|               0|\n",
      "|-copOvldyKh1qr-vz...|MYoRNLb5chwjQe3c_...|It's open even wh...|2013-08-18 00:56:08|               0|\n",
      "|FjMQVZjSqY8syIO-5...|hV-bABTK-glh5wj31...|Very decent fried...|2017-06-27 23:05:38|               0|\n",
      "|ld0AperBXk1h6Ubqm...|_uN0OudeJ3Zl_tf6n...|Appetizers.. plat...|2012-10-06 19:43:09|               0|\n",
      "+--------------------+--------------------+--------------------+-------------------+----------------+\n",
      "only showing top 5 rows\n",
      "\n"
     ]
    }
   ],
   "source": [
    "def handle_missing_values(df):\n",
    "    df = df.na.fill({\n",
    "        \"text\": \"No tip text provided\",\n",
    "        \"date\": \"1970-01-01\",\n",
    "        \"compliment_count\": 0\n",
    "    })\n",
    "    return df\n",
    "\n",
    "df = handle_missing_values(df)\n",
    "df.show(5)\n"
   ]
  },
  {
   "cell_type": "code",
   "execution_count": 5,
   "metadata": {},
   "outputs": [
    {
     "name": "stdout",
     "output_type": "stream",
     "text": [
      "+--------------------+--------------------+--------------------+-------------------+----------------+----+-----+---+\n",
      "|             user_id|         business_id|                text|               date|compliment_count|year|month|day|\n",
      "+--------------------+--------------------+--------------------+-------------------+----------------+----+-----+---+\n",
      "|AGNUgVwnZUey3gcPC...|3uLgwr0qeCNMjKenH...|avengers time wit...|2012-05-18 02:17:21|               0|2012|    5| 18|\n",
      "|NBN4MgHP9D3cw--Sn...|QoezRbYQncpRqyrLH...|they have lots of...|2013-02-05 18:35:10|               0|2013|    2|  5|\n",
      "|-copOvldyKh1qr-vz...|MYoRNLb5chwjQe3c_...|it's open even wh...|2013-08-18 00:56:08|               0|2013|    8| 18|\n",
      "|FjMQVZjSqY8syIO-5...|hV-bABTK-glh5wj31...|very decent fried...|2017-06-27 23:05:38|               0|2017|    6| 27|\n",
      "|ld0AperBXk1h6Ubqm...|_uN0OudeJ3Zl_tf6n...|appetizers.. plat...|2012-10-06 19:43:09|               0|2012|   10|  6|\n",
      "+--------------------+--------------------+--------------------+-------------------+----------------+----+-----+---+\n",
      "only showing top 5 rows\n",
      "\n"
     ]
    }
   ],
   "source": [
    "def standardize_data(df):\n",
    "    return df \\\n",
    "        .withColumn(\"text\", trim(lower(col(\"text\")))) \\\n",
    "        .withColumn(\"date\", to_timestamp(col(\"date\"))) \\\n",
    "        .withColumn(\"year\", year(col(\"date\"))) \\\n",
    "        .withColumn(\"month\", month(col(\"date\"))) \\\n",
    "        .withColumn(\"day\", dayofmonth(col(\"date\")))\n",
    "\n",
    "df = standardize_data(df)\n",
    "df.show(5)\n"
   ]
  },
  {
   "cell_type": "code",
   "execution_count": 6,
   "metadata": {},
   "outputs": [
    {
     "name": "stdout",
     "output_type": "stream",
     "text": [
      "+--------------------+--------------------+--------------------+-------------------+----------------+----+-----+---+----------+------------+--------------+-----------+\n",
      "|             user_id|         business_id|                text|               date|compliment_count|year|month|day|tip_length|tip_age_days|tip_popularity|day_of_week|\n",
      "+--------------------+--------------------+--------------------+-------------------+----------------+----+-----+---+----------+------------+--------------+-----------+\n",
      "|AGNUgVwnZUey3gcPC...|3uLgwr0qeCNMjKenH...|avengers time wit...|2012-05-18 02:17:21|               0|2012|    5| 18|        30|        4668|          None|     Friday|\n",
      "|NBN4MgHP9D3cw--Sn...|QoezRbYQncpRqyrLH...|they have lots of...|2013-02-05 18:35:10|               0|2013|    2|  5|        57|        4405|          None|    Tuesday|\n",
      "|-copOvldyKh1qr-vz...|MYoRNLb5chwjQe3c_...|it's open even wh...|2013-08-18 00:56:08|               0|2013|    8| 18|        38|        4211|          None|     Sunday|\n",
      "|FjMQVZjSqY8syIO-5...|hV-bABTK-glh5wj31...|very decent fried...|2017-06-27 23:05:38|               0|2017|    6| 27|        25|        2802|          None|    Tuesday|\n",
      "|ld0AperBXk1h6Ubqm...|_uN0OudeJ3Zl_tf6n...|appetizers.. plat...|2012-10-06 19:43:09|               0|2012|   10|  6|        38|        4527|          None|   Saturday|\n",
      "+--------------------+--------------------+--------------------+-------------------+----------------+----+-----+---+----------+------------+--------------+-----------+\n",
      "only showing top 5 rows\n",
      "\n"
     ]
    }
   ],
   "source": [
    "def feature_engineering(df):\n",
    "    df = df.withColumn(\"tip_length\", length(col(\"text\")))\n",
    "    \n",
    "    df = df.withColumn(\"tip_age_days\", \n",
    "        datediff(current_date(), col(\"date\")))\n",
    "    \n",
    "    df = df.withColumn(\"tip_popularity\",\n",
    "        when(col(\"compliment_count\") >= 10, \"High\")\n",
    "        .when(col(\"compliment_count\") >= 5, \"Medium\")\n",
    "        .when(col(\"compliment_count\") >= 1, \"Low\")\n",
    "        .otherwise(\"None\"))\n",
    "    \n",
    "    df = df.withColumn(\"day_of_week\", date_format(col(\"date\"), \"EEEE\"))\n",
    "    \n",
    "    return df\n",
    "\n",
    "df = feature_engineering(df)\n",
    "df.show(5)\n"
   ]
  },
  {
   "cell_type": "code",
   "execution_count": 7,
   "metadata": {},
   "outputs": [
    {
     "name": "stdout",
     "output_type": "stream",
     "text": [
      "+--------------------+--------------------+--------------------+-------------------+----------------+----+-----+---+----------+------------+--------------+-----------+\n",
      "|             user_id|         business_id|                text|               date|compliment_count|year|month|day|tip_length|tip_age_days|tip_popularity|day_of_week|\n",
      "+--------------------+--------------------+--------------------+-------------------+----------------+----+-----+---+----------+------------+--------------+-----------+\n",
      "|AGNUgVwnZUey3gcPC...|3uLgwr0qeCNMjKenH...|avengers time wit...|2012-05-18 02:17:21|               0|2012|    5| 18|        30|        4668|          None|     Friday|\n",
      "|NBN4MgHP9D3cw--Sn...|QoezRbYQncpRqyrLH...|they have lots of...|2013-02-05 18:35:10|               0|2013|    2|  5|        57|        4405|          None|    Tuesday|\n",
      "|-copOvldyKh1qr-vz...|MYoRNLb5chwjQe3c_...|it's open even wh...|2013-08-18 00:56:08|               0|2013|    8| 18|        38|        4211|          None|     Sunday|\n",
      "|FjMQVZjSqY8syIO-5...|hV-bABTK-glh5wj31...|very decent fried...|2017-06-27 23:05:38|               0|2017|    6| 27|        25|        2802|          None|    Tuesday|\n",
      "|ld0AperBXk1h6Ubqm...|_uN0OudeJ3Zl_tf6n...|appetizers.. plat...|2012-10-06 19:43:09|               0|2012|   10|  6|        38|        4527|          None|   Saturday|\n",
      "+--------------------+--------------------+--------------------+-------------------+----------------+----+-----+---+----------+------------+--------------+-----------+\n",
      "only showing top 5 rows\n",
      "\n"
     ]
    }
   ],
   "source": [
    "def validate_data(df):\n",
    "    df = df.filter(\n",
    "        (col(\"compliment_count\") >= 0) &\n",
    "        (length(col(\"text\")) > 0)\n",
    "    )\n",
    "    \n",
    "    df = df.filter(\n",
    "        (length(col(\"business_id\")) > 0) &\n",
    "        (length(col(\"user_id\")) > 0)\n",
    "    )\n",
    "    \n",
    "    return df\n",
    "\n",
    "df = validate_data(df)\n",
    "df.show(5)\n"
   ]
  },
  {
   "cell_type": "code",
   "execution_count": 8,
   "metadata": {},
   "outputs": [
    {
     "name": "stdout",
     "output_type": "stream",
     "text": [
      "Null Counts:\n",
      "+-------+-----------+----+----+----------------+----+-----+---+----------+------------+--------------+-----------+\n",
      "|user_id|business_id|text|date|compliment_count|year|month|day|tip_length|tip_age_days|tip_popularity|day_of_week|\n",
      "+-------+-----------+----+----+----------------+----+-----+---+----------+------------+--------------+-----------+\n",
      "|      0|          0|   0|   0|               0|   0|    0|  0|         0|           0|             0|          0|\n",
      "+-------+-----------+----+----+----------------+----+-----+---+----------+------------+--------------+-----------+\n",
      "\n",
      "\n",
      "Duplicate Count: 67\n",
      "\n",
      "Value Distributions:\n",
      "+--------------------+-------------------+-----------------+------------------+\n",
      "|    mean_compliments| stddev_compliments|  mean_tip_length|      mean_tip_age|\n",
      "+--------------------+-------------------+-----------------+------------------+\n",
      "|0.012524823553357574|0.12076339327984317|62.58009494837251|3546.1379193874013|\n",
      "+--------------------+-------------------+-----------------+------------------+\n",
      "\n"
     ]
    }
   ],
   "source": [
    "def quality_checks(df):\n",
    "    null_counts = df.select([sum(col(c).isNull().cast(\"int\")).alias(c) \n",
    "                           for c in df.columns])\n",
    "    \n",
    "    duplicate_count = df.count() - df.dropDuplicates().count()\n",
    "    \n",
    "    value_dist = df.select(\n",
    "        mean(\"compliment_count\").alias(\"mean_compliments\"),\n",
    "        stddev(\"compliment_count\").alias(\"stddev_compliments\"),\n",
    "        mean(\"tip_length\").alias(\"mean_tip_length\"),\n",
    "        mean(\"tip_age_days\").alias(\"mean_tip_age\")\n",
    "    )\n",
    "    \n",
    "    print(\"Null Counts:\")\n",
    "    null_counts.show()\n",
    "    print(f\"\\nDuplicate Count: {duplicate_count}\")\n",
    "    print(\"\\nValue Distributions:\")\n",
    "    value_dist.show()\n",
    "    \n",
    "    return df\n",
    "\n",
    "df = quality_checks(df)\n"
   ]
  },
  {
   "cell_type": "code",
   "execution_count": 9,
   "metadata": {},
   "outputs": [],
   "source": [
    "df.write.format(\"delta\") \\\n",
    "    .option(\"mergeSchema\", \"true\") \\\n",
    "    .mode(\"overwrite\") \\\n",
    "    .partitionBy(\"year\", \"month\") \\\n",
    "    .save(\"D:/Project/delta_lake/silver/tips\")\n"
   ]
  }
 ],
 "metadata": {
  "kernelspec": {
   "display_name": "venv",
   "language": "python",
   "name": "python3"
  },
  "language_info": {
   "codemirror_mode": {
    "name": "ipython",
    "version": 3
   },
   "file_extension": ".py",
   "mimetype": "text/x-python",
   "name": "python",
   "nbconvert_exporter": "python",
   "pygments_lexer": "ipython3",
   "version": "3.11.9"
  }
 },
 "nbformat": 4,
 "nbformat_minor": 2
}
