{
 "cells": [
  {
   "cell_type": "code",
   "execution_count": null,
   "metadata": {},
   "outputs": [],
   "source": [
    "from pyspark.sql import SparkSession\n",
    "from pyspark.sql.functions import *\n",
    "from pyspark.sql.types import *\n",
    "from pyspark.ml.feature import Imputer\n",
    "import pyspark.sql.functions as F\n",
    "from delta import *\n"
   ]
  },
  {
   "cell_type": "code",
   "execution_count": null,
   "metadata": {},
   "outputs": [],
   "source": [
    "builder = SparkSession.builder \\\n",
    "    .appName(\"Tips to Silver\") \\\n",
    "    .config(\"spark.jars.packages\", \"io.delta:delta-core_2.12:3.1.0\") \\\n",
    "    .config(\"spark.sql.extensions\", \"io.delta.sql.DeltaSparkSessionExtension\") \\\n",
    "    .config(\"spark.sql.catalog.spark_catalog\", \"org.apache.spark.sql.delta.catalog.DeltaCatalog\")\n",
    "\n",
    "spark = configure_spark_with_delta_pip(builder).getOrCreate()\n"
   ]
  },
  {
   "cell_type": "code",
   "execution_count": null,
   "metadata": {},
   "outputs": [],
   "source": [
    "def handle_missing_values(df):\n",
    "    df = df.na.fill({\n",
    "        \"text\": \"No tip text provided\",\n",
    "        \"date\": \"1970-01-01\",\n",
    "        \"compliment_count\": 0\n",
    "    })\n",
    "    return df\n",
    "\n",
    "df = handle_missing_values(df)\n",
    "df.show(5)\n"
   ]
  },
  {
   "cell_type": "code",
   "execution_count": null,
   "metadata": {},
   "outputs": [],
   "source": [
    "def standardize_data(df):\n",
    "    return df \\\n",
    "        .withColumn(\"text\", trim(lower(col(\"text\")))) \\\n",
    "        .withColumn(\"date\", to_timestamp(col(\"date\"))) \\\n",
    "        .withColumn(\"year\", year(col(\"date\"))) \\\n",
    "        .withColumn(\"month\", month(col(\"date\"))) \\\n",
    "        .withColumn(\"day\", dayofmonth(col(\"date\")))\n",
    "\n",
    "df = standardize_data(df)\n",
    "df.show(5)\n"
   ]
  },
  {
   "cell_type": "code",
   "execution_count": null,
   "metadata": {},
   "outputs": [],
   "source": [
    "def feature_engineering(df):\n",
    "    df = df.withColumn(\"tip_length\", length(col(\"text\")))\n",
    "    \n",
    "    df = df.withColumn(\"tip_age_days\", \n",
    "        datediff(current_date(), col(\"date\")))\n",
    "    \n",
    "    df = df.withColumn(\"tip_popularity\",\n",
    "        when(col(\"compliment_count\") >= 10, \"High\")\n",
    "        .when(col(\"compliment_count\") >= 5, \"Medium\")\n",
    "        .when(col(\"compliment_count\") >= 1, \"Low\")\n",
    "        .otherwise(\"None\"))\n",
    "    \n",
    "    df = df.withColumn(\"day_of_week\", date_format(col(\"date\"), \"EEEE\"))\n",
    "    \n",
    "    return df\n",
    "\n",
    "df = feature_engineering(df)\n",
    "df.show(5)\n"
   ]
  },
  {
   "cell_type": "code",
   "execution_count": null,
   "metadata": {},
   "outputs": [],
   "source": [
    "def validate_data(df):\n",
    "    df = df.filter(\n",
    "        (col(\"compliment_count\") >= 0) &\n",
    "        (length(col(\"text\")) > 0)\n",
    "    )\n",
    "    \n",
    "    df = df.filter(\n",
    "        (length(col(\"business_id\")) > 0) &\n",
    "        (length(col(\"user_id\")) > 0)\n",
    "    )\n",
    "    \n",
    "    return df\n",
    "\n",
    "df = validate_data(df)\n",
    "df.show(5)\n"
   ]
  },
  {
   "cell_type": "code",
   "execution_count": null,
   "metadata": {},
   "outputs": [],
   "source": [
    "def quality_checks(df):\n",
    "    null_counts = df.select([sum(col(c).isNull().cast(\"int\")).alias(c) \n",
    "                           for c in df.columns])\n",
    "    \n",
    "    duplicate_count = df.count() - df.dropDuplicates().count()\n",
    "    \n",
    "    value_dist = df.select(\n",
    "        mean(\"compliment_count\").alias(\"mean_compliments\"),\n",
    "        stddev(\"compliment_count\").alias(\"stddev_compliments\"),\n",
    "        mean(\"tip_length\").alias(\"mean_tip_length\"),\n",
    "        mean(\"tip_age_days\").alias(\"mean_tip_age\")\n",
    "    )\n",
    "    \n",
    "    print(\"Null Counts:\")\n",
    "    null_counts.show()\n",
    "    print(f\"\\nDuplicate Count: {duplicate_count}\")\n",
    "    print(\"\\nValue Distributions:\")\n",
    "    value_dist.show()\n",
    "    \n",
    "    return df\n",
    "\n",
    "df = quality_checks(df)\n"
   ]
  },
  {
   "cell_type": "code",
   "execution_count": null,
   "metadata": {},
   "outputs": [],
   "source": [
    "df.write.format(\"delta\") \\\n",
    "    .mode(\"overwrite\") \\\n",
    "    .partitionBy(\"year\", \"month\") \\\n",
    "    .save(\"D:/Project/delta_lake/silver/tips\")\n"
   ]
  }
 ],
 "metadata": {
  "kernelspec": {
   "display_name": "venv",
   "language": "python",
   "name": "python3"
  },
  "language_info": {
   "name": "python",
   "version": "3.11.9"
  }
 },
 "nbformat": 4,
 "nbformat_minor": 2
}
