{
 "cells": [
  {
   "cell_type": "code",
   "execution_count": 1,
   "metadata": {},
   "outputs": [],
   "source": [
    "from pyspark.sql import SparkSession\n",
    "from pyspark.sql.functions import *\n",
    "from pyspark.sql.types import *\n",
    "from pyspark.ml.feature import Imputer\n",
    "import pyspark.sql.functions as F\n",
    "from pyspark.ml.feature import VectorAssembler\n",
    "from delta import *\n",
    "import math"
   ]
  },
  {
   "cell_type": "code",
   "execution_count": 2,
   "metadata": {},
   "outputs": [],
   "source": [
    "builder = SparkSession.builder \\\n",
    "    .appName(\"Reviews to Silver\") \\\n",
    "    .config(\"spark.jars.packages\", \"io.delta:delta-core_2.12:3.1.0\") \\\n",
    "    .config(\"spark.sql.extensions\", \"io.delta.sql.DeltaSparkSessionExtension\") \\\n",
    "    .config(\"spark.sql.catalog.spark_catalog\", \"org.apache.spark.sql.delta.catalog.DeltaCatalog\")\n",
    "\n",
    "spark = configure_spark_with_delta_pip(builder).getOrCreate()"
   ]
  },
  {
   "cell_type": "code",
   "execution_count": 3,
   "metadata": {},
   "outputs": [
    {
     "name": "stdout",
     "output_type": "stream",
     "text": [
      "+--------------------+--------------------+--------------------+-----+------+-----+----+--------------------+-------------------+\n",
      "|           review_id|             user_id|         business_id|stars|useful|funny|cool|                text|               date|\n",
      "+--------------------+--------------------+--------------------+-----+------+-----+----+--------------------+-------------------+\n",
      "|KU_O5udG6zpxOg-Vc...|mh_-eMZ6K5RLWhZyI...|XQfwVwDr-v0ZS3_Cb...|  3.0|     0|    0|   0|If you decide to ...|2018-07-07 22:09:11|\n",
      "|BiTunyQ73aT9WBnpR...|OyoGAe7OKpv6SyGZT...|7ATYjTIgM3jUlt4UM...|  5.0|     1|    0|   1|I've taken a lot ...|2012-01-03 15:28:18|\n",
      "|saUsX_uimxRlCVr67...|8g_iMtfSiwikVnbP2...|YjUWPpI6HXG530lwP...|  3.0|     0|    0|   0|Family diner. Had...|2014-02-05 20:30:30|\n",
      "|AqPFMleE6RsU23_au...|_7bHUi9Uuf5__HHc_...|kxX2SOes4o-D3ZQBk...|  5.0|     1|    0|   1|Wow!  Yummy, diff...|2015-01-04 00:01:03|\n",
      "|Sx8TMOWLNuJBWer-0...|bcjbaE6dDog4jkNY9...|e4Vwtrqf-wpJfwesg...|  4.0|     1|    0|   1|Cute interior and...|2017-01-14 20:54:15|\n",
      "+--------------------+--------------------+--------------------+-----+------+-----+----+--------------------+-------------------+\n",
      "only showing top 5 rows\n",
      "\n"
     ]
    }
   ],
   "source": [
    "def load_reviews_data(spark, path):\n",
    "    schema = StructType([\n",
    "        StructField(\"review_id\", StringType(), True),\n",
    "        StructField(\"user_id\", StringType(), True),\n",
    "        StructField(\"business_id\", StringType(), True),\n",
    "        StructField(\"stars\", DoubleType(), True),\n",
    "        StructField(\"useful\", IntegerType(), True),\n",
    "        StructField(\"funny\", IntegerType(), True),\n",
    "        StructField(\"cool\", IntegerType(), True),\n",
    "        StructField(\"text\", StringType(), True),\n",
    "        StructField(\"date\", StringType(), True)\n",
    "    ])\n",
    "    return spark.read.json(path, schema=schema)\n",
    "\n",
    "df = load_reviews_data(spark, \"D:/Project/delta_lake/bronze/yelp_academic_dataset_review.json\")\n",
    "df.show(5)"
   ]
  },
  {
   "cell_type": "code",
   "execution_count": null,
   "metadata": {},
   "outputs": [
    {
     "name": "stdout",
     "output_type": "stream",
     "text": [
      "+--------------------+--------------------+--------------------+-----+------+-----+----+--------------------+-------------------+\n",
      "|           review_id|             user_id|         business_id|stars|useful|funny|cool|                text|               date|\n",
      "+--------------------+--------------------+--------------------+-----+------+-----+----+--------------------+-------------------+\n",
      "|KU_O5udG6zpxOg-Vc...|mh_-eMZ6K5RLWhZyI...|XQfwVwDr-v0ZS3_Cb...|  3.0|     0|    0|   0|If you decide to ...|2018-07-07 22:09:11|\n",
      "|BiTunyQ73aT9WBnpR...|OyoGAe7OKpv6SyGZT...|7ATYjTIgM3jUlt4UM...|  5.0|     1|    0|   1|I've taken a lot ...|2012-01-03 15:28:18|\n",
      "|saUsX_uimxRlCVr67...|8g_iMtfSiwikVnbP2...|YjUWPpI6HXG530lwP...|  3.0|     0|    0|   0|Family diner. Had...|2014-02-05 20:30:30|\n",
      "|AqPFMleE6RsU23_au...|_7bHUi9Uuf5__HHc_...|kxX2SOes4o-D3ZQBk...|  5.0|     1|    0|   1|Wow!  Yummy, diff...|2015-01-04 00:01:03|\n",
      "|Sx8TMOWLNuJBWer-0...|bcjbaE6dDog4jkNY9...|e4Vwtrqf-wpJfwesg...|  4.0|     1|    0|   1|Cute interior and...|2017-01-14 20:54:15|\n",
      "+--------------------+--------------------+--------------------+-----+------+-----+----+--------------------+-------------------+\n",
      "only showing top 5 rows\n",
      "\n"
     ]
    }
   ],
   "source": [
    "def handle_missing_values(df):\n",
    "\n",
    "    imputer = Imputer(\n",
    "        inputCols=[\"stars\"],\n",
    "        outputCols=[\"stars_imputed\"]\n",
    "    ).setStrategy(\"median\")\n",
    "    \n",
    "    \n",
    "    df = df.na.fill({\n",
    "        \"useful\": 0,\n",
    "        \"funny\": 0,\n",
    "        \"cool\": 0\n",
    "    })\n",
    "    \n",
    "    df = df.na.fill({\n",
    "        \"text\": \"No review text provided\",\n",
    "        \"date\": \"2005-02-02\"\n",
    "    })\n",
    "    \n",
    "    return df\n",
    "df = handle_missing_values(df)\n",
    "df.show(5)\n"
   ]
  },
  {
   "cell_type": "code",
   "execution_count": 5,
   "metadata": {},
   "outputs": [
    {
     "name": "stdout",
     "output_type": "stream",
     "text": [
      "+--------------------+--------------------+--------------------+-----+------+-----+----+--------------------+-------------------+----+-----+---+\n",
      "|           review_id|             user_id|         business_id|stars|useful|funny|cool|                text|               date|year|month|day|\n",
      "+--------------------+--------------------+--------------------+-----+------+-----+----+--------------------+-------------------+----+-----+---+\n",
      "|KU_O5udG6zpxOg-Vc...|mh_-eMZ6K5RLWhZyI...|XQfwVwDr-v0ZS3_Cb...|  3.0|     0|    0|   0|if you decide to ...|2018-07-07 22:09:11|2018|    7|  7|\n",
      "|BiTunyQ73aT9WBnpR...|OyoGAe7OKpv6SyGZT...|7ATYjTIgM3jUlt4UM...|  5.0|     1|    0|   1|i've taken a lot ...|2012-01-03 15:28:18|2012|    1|  3|\n",
      "|saUsX_uimxRlCVr67...|8g_iMtfSiwikVnbP2...|YjUWPpI6HXG530lwP...|  3.0|     0|    0|   0|family diner. had...|2014-02-05 20:30:30|2014|    2|  5|\n",
      "|AqPFMleE6RsU23_au...|_7bHUi9Uuf5__HHc_...|kxX2SOes4o-D3ZQBk...|  5.0|     1|    0|   1|wow!  yummy, diff...|2015-01-04 00:01:03|2015|    1|  4|\n",
      "|Sx8TMOWLNuJBWer-0...|bcjbaE6dDog4jkNY9...|e4Vwtrqf-wpJfwesg...|  4.0|     1|    0|   1|cute interior and...|2017-01-14 20:54:15|2017|    1| 14|\n",
      "+--------------------+--------------------+--------------------+-----+------+-----+----+--------------------+-------------------+----+-----+---+\n",
      "only showing top 5 rows\n",
      "\n"
     ]
    }
   ],
   "source": [
    "def standardize_data(df):\n",
    "    return df \\\n",
    "        .withColumn(\"text\", trim(lower(col(\"text\")))) \\\n",
    "        .withColumn(\"date\", to_timestamp(col(\"date\"))) \\\n",
    "        .withColumn(\"year\", year(col(\"date\"))) \\\n",
    "        .withColumn(\"month\", month(col(\"date\"))) \\\n",
    "        .withColumn(\"day\", dayofmonth(col(\"date\")))\n",
    "\n",
    "df = standardize_data(df)\n",
    "df.show(5)"
   ]
  },
  {
   "cell_type": "code",
   "execution_count": 6,
   "metadata": {},
   "outputs": [
    {
     "name": "stdout",
     "output_type": "stream",
     "text": [
      "+--------------------+--------------------+--------------------+-----+------+-----+----+--------------------+-------------------+----+-----+---+-----------+-----------+---------------+---------------+\n",
      "|           review_id|             user_id|         business_id|stars|useful|funny|cool|                text|               date|year|month|day|text_length|total_votes|rating_category|review_age_days|\n",
      "+--------------------+--------------------+--------------------+-----+------+-----+----+--------------------+-------------------+----+-----+---+-----------+-----------+---------------+---------------+\n",
      "|KU_O5udG6zpxOg-Vc...|mh_-eMZ6K5RLWhZyI...|XQfwVwDr-v0ZS3_Cb...|  3.0|     0|    0|   0|if you decide to ...|2018-07-07 22:09:11|2018|    7|  7|        513|          0|        Average|           2427|\n",
      "|BiTunyQ73aT9WBnpR...|OyoGAe7OKpv6SyGZT...|7ATYjTIgM3jUlt4UM...|  5.0|     1|    0|   1|i've taken a lot ...|2012-01-03 15:28:18|2012|    1|  3|        829|          2|      Excellent|           4804|\n",
      "|saUsX_uimxRlCVr67...|8g_iMtfSiwikVnbP2...|YjUWPpI6HXG530lwP...|  3.0|     0|    0|   0|family diner. had...|2014-02-05 20:30:30|2014|    2|  5|        339|          0|        Average|           4040|\n",
      "|AqPFMleE6RsU23_au...|_7bHUi9Uuf5__HHc_...|kxX2SOes4o-D3ZQBk...|  5.0|     1|    0|   1|wow!  yummy, diff...|2015-01-04 00:01:03|2015|    1|  4|        243|          2|      Excellent|           3707|\n",
      "|Sx8TMOWLNuJBWer-0...|bcjbaE6dDog4jkNY9...|e4Vwtrqf-wpJfwesg...|  4.0|     1|    0|   1|cute interior and...|2017-01-14 20:54:15|2017|    1| 14|        534|          2|      Very Good|           2966|\n",
      "+--------------------+--------------------+--------------------+-----+------+-----+----+--------------------+-------------------+----+-----+---+-----------+-----------+---------------+---------------+\n",
      "only showing top 5 rows\n",
      "\n"
     ]
    }
   ],
   "source": [
    "def feature_engineering(df):\n",
    "    df = df.withColumn(\"text_length\", length(col(\"text\")))\n",
    "    \n",
    "    df = df.withColumn(\"total_votes\", \n",
    "        col(\"useful\") + col(\"funny\") + col(\"cool\"))\n",
    "    \n",
    "    df = df.withColumn(\"rating_category\",\n",
    "        when(col(\"stars\") >= 4.5, \"Excellent\")\n",
    "        .when(col(\"stars\") >= 4.0, \"Very Good\")\n",
    "        .when(col(\"stars\") >= 3.5, \"Good\")\n",
    "        .when(col(\"stars\") >= 3.0, \"Average\")\n",
    "        .otherwise(\"Below Average\"))\n",
    "    \n",
    "    df = df.withColumn(\"review_age_days\", \n",
    "        datediff(current_date(), col(\"date\")))\n",
    "    \n",
    "    return df\n",
    "\n",
    "df = feature_engineering(df)\n",
    "df.show(5)"
   ]
  },
  {
   "cell_type": "code",
   "execution_count": 7,
   "metadata": {},
   "outputs": [
    {
     "name": "stdout",
     "output_type": "stream",
     "text": [
      "+--------------------+--------------------+--------------------+-----+------+-----+----+--------------------+-------------------+----+-----+---+-----------+-----------+---------------+---------------+\n",
      "|           review_id|             user_id|         business_id|stars|useful|funny|cool|                text|               date|year|month|day|text_length|total_votes|rating_category|review_age_days|\n",
      "+--------------------+--------------------+--------------------+-----+------+-----+----+--------------------+-------------------+----+-----+---+-----------+-----------+---------------+---------------+\n",
      "|KU_O5udG6zpxOg-Vc...|mh_-eMZ6K5RLWhZyI...|XQfwVwDr-v0ZS3_Cb...|  3.0|     0|    0|   0|if you decide to ...|2018-07-07 22:09:11|2018|    7|  7|        513|          0|        Average|           2427|\n",
      "|BiTunyQ73aT9WBnpR...|OyoGAe7OKpv6SyGZT...|7ATYjTIgM3jUlt4UM...|  5.0|     1|    0|   1|i've taken a lot ...|2012-01-03 15:28:18|2012|    1|  3|        829|          2|      Excellent|           4804|\n",
      "|saUsX_uimxRlCVr67...|8g_iMtfSiwikVnbP2...|YjUWPpI6HXG530lwP...|  3.0|     0|    0|   0|family diner. had...|2014-02-05 20:30:30|2014|    2|  5|        339|          0|        Average|           4040|\n",
      "|AqPFMleE6RsU23_au...|_7bHUi9Uuf5__HHc_...|kxX2SOes4o-D3ZQBk...|  5.0|     1|    0|   1|wow!  yummy, diff...|2015-01-04 00:01:03|2015|    1|  4|        243|          2|      Excellent|           3707|\n",
      "|Sx8TMOWLNuJBWer-0...|bcjbaE6dDog4jkNY9...|e4Vwtrqf-wpJfwesg...|  4.0|     1|    0|   1|cute interior and...|2017-01-14 20:54:15|2017|    1| 14|        534|          2|      Very Good|           2966|\n",
      "+--------------------+--------------------+--------------------+-----+------+-----+----+--------------------+-------------------+----+-----+---+-----------+-----------+---------------+---------------+\n",
      "only showing top 5 rows\n",
      "\n"
     ]
    }
   ],
   "source": [
    "def validate_data(df):\n",
    "    df = df.filter(\n",
    "        (col(\"stars\").between(1, 5)) &\n",
    "        (col(\"useful\") >= 0) &\n",
    "        (col(\"funny\") >= 0) &\n",
    "        (col(\"cool\") >= 0) &\n",
    "        (length(col(\"text\")) > 0)\n",
    "    )\n",
    "    \n",
    "    df = df.filter(\n",
    "        (length(col(\"review_id\")) > 0) &\n",
    "        (length(col(\"business_id\")) > 0) &\n",
    "        (length(col(\"user_id\")) > 0)\n",
    "    )\n",
    "    \n",
    "    return df\n",
    "\n",
    "df = validate_data(df)\n",
    "df.show(5)"
   ]
  },
  {
   "cell_type": "code",
   "execution_count": 8,
   "metadata": {},
   "outputs": [
    {
     "name": "stdout",
     "output_type": "stream",
     "text": [
      "Null Counts:\n",
      "+---------+-------+-----------+-----+------+-----+----+----+----+----+-----+---+-----------+-----------+---------------+---------------+\n",
      "|review_id|user_id|business_id|stars|useful|funny|cool|text|date|year|month|day|text_length|total_votes|rating_category|review_age_days|\n",
      "+---------+-------+-----------+-----+------+-----+----+----+----+----+-----+---+-----------+-----------+---------------+---------------+\n",
      "|        0|      0|          0|    0|     0|    0|   0|   0|   0|   0|    0|  0|          0|          0|              0|              0|\n",
      "+---------+-------+-----------+-----+------+-----+----+----+----+----+-----+---+-----------+-----------+---------------+---------------+\n",
      "\n",
      "\n",
      "Duplicate Count: 0\n",
      "\n",
      "Value Distributions:\n",
      "+-----------------+------------------+-----------------+------------------+------------------+\n",
      "|       mean_stars|      stddev_stars|      mean_useful|        mean_funny|         mean_cool|\n",
      "+-----------------+------------------+-----------------+------------------+------------------+\n",
      "|3.748584855388379|1.4787038349287753|1.184610047530319|0.3265601138724871|0.4986177224787294|\n",
      "+-----------------+------------------+-----------------+------------------+------------------+\n",
      "\n"
     ]
    }
   ],
   "source": [
    "def quality_checks(df):\n",
    "    null_counts = df.select([sum(col(c).isNull().cast(\"int\")).alias(c) \n",
    "                           for c in df.columns])\n",
    "    \n",
    "    duplicate_count = df.count() - df.dropDuplicates().count()\n",
    "    \n",
    "    value_dist = df.select(\n",
    "        mean(\"stars\").alias(\"mean_stars\"),\n",
    "        stddev(\"stars\").alias(\"stddev_stars\"),\n",
    "        mean(\"useful\").alias(\"mean_useful\"),\n",
    "        mean(\"funny\").alias(\"mean_funny\"),\n",
    "        mean(\"cool\").alias(\"mean_cool\")\n",
    "    )\n",
    "    \n",
    "    print(\"Null Counts:\")\n",
    "    null_counts.show()\n",
    "    print(f\"\\nDuplicate Count: {duplicate_count}\")\n",
    "    print(\"\\nValue Distributions:\")\n",
    "    value_dist.show()\n",
    "    \n",
    "    return df\n",
    "\n",
    "df = quality_checks(df)"
   ]
  },
  {
   "cell_type": "code",
   "execution_count": 9,
   "metadata": {},
   "outputs": [
    {
     "name": "stdout",
     "output_type": "stream",
     "text": [
      "+--------------------+--------------------+--------------------+-----+------+-----+----+--------------------+-------------------+----+-----+---+-----------+-----------+---------------+---------------+\n",
      "|           review_id|             user_id|         business_id|stars|useful|funny|cool|                text|               date|year|month|day|text_length|total_votes|rating_category|review_age_days|\n",
      "+--------------------+--------------------+--------------------+-----+------+-----+----+--------------------+-------------------+----+-----+---+-----------+-----------+---------------+---------------+\n",
      "|KU_O5udG6zpxOg-Vc...|mh_-eMZ6K5RLWhZyI...|XQfwVwDr-v0ZS3_Cb...|  3.0|     0|    0|   0|if you decide to ...|2018-07-07 22:09:11|2018|    7|  7|        513|          0|        Average|           2427|\n",
      "|BiTunyQ73aT9WBnpR...|OyoGAe7OKpv6SyGZT...|7ATYjTIgM3jUlt4UM...|  5.0|     1|    0|   1|i've taken a lot ...|2012-01-03 15:28:18|2012|    1|  3|        829|          2|      Excellent|           4804|\n",
      "|saUsX_uimxRlCVr67...|8g_iMtfSiwikVnbP2...|YjUWPpI6HXG530lwP...|  3.0|     0|    0|   0|family diner. had...|2014-02-05 20:30:30|2014|    2|  5|        339|          0|        Average|           4040|\n",
      "|AqPFMleE6RsU23_au...|_7bHUi9Uuf5__HHc_...|kxX2SOes4o-D3ZQBk...|  5.0|     1|    0|   1|wow!  yummy, diff...|2015-01-04 00:01:03|2015|    1|  4|        243|          2|      Excellent|           3707|\n",
      "|Sx8TMOWLNuJBWer-0...|bcjbaE6dDog4jkNY9...|e4Vwtrqf-wpJfwesg...|  4.0|     1|    0|   1|cute interior and...|2017-01-14 20:54:15|2017|    1| 14|        534|          2|      Very Good|           2966|\n",
      "|JrIxlS1TzJ-iCu79u...|eUta8W_HdHMXPzLBB...|04UD14gamNjLY0IDY...|  1.0|     1|    2|   1|i am a long term ...|2015-09-23 23:10:31|2015|    9| 23|        341|          4|  Below Average|           3445|\n",
      "|6AxgBCNX_PNTOxmbR...|r3zeYsv1XFBRA4dJp...|gmjsEdUsKpj9Xxu6p...|  5.0|     0|    2|   0|loved this tour! ...|2015-01-03 23:21:18|2015|    1|  3|        804|          2|      Excellent|           3708|\n",
      "|_ZeMknuYdlQcUqng_...|yfFzsLmaWF2d4Sr0U...|LHSTtnW3YHCeUkRDG...|  5.0|     2|    0|   0|amazingly amazing...|2015-08-07 02:29:16|2015|    8|  7|        192|          2|      Excellent|           3492|\n",
      "|ZKvDG2sBvHVdF5oBN...|wSTuiTk-sKNdcFypr...|B5XSoSG3SfvQGtKEG...|  3.0|     1|    1|   0|this easter inste...|2016-03-30 22:46:33|2016|    3| 30|        526|          2|        Average|           3256|\n",
      "|pUycOfUwM8vqX7KjR...|59MxRhNVhU9MYndMk...|gebiRewfieSdtt17P...|  3.0|     0|    0|   0|had a party of 6 ...|2016-07-25 07:31:06|2016|    7| 25|        524|          0|        Average|           3139|\n",
      "|rGQRf8UafX7OTlMNN...|1WHRWwQmZOZDAhp2Q...|uMvVYRgGNXf5boolA...|  5.0|     2|    0|   0|my experience wit...|2015-06-21 14:48:06|2015|    6| 21|       1009|          2|      Excellent|           3539|\n",
      "|l3Wk_mvAog6XANIuG...|ZbqSHbgCjzVAqaa7N...|EQ-TZ2eeD_E0BHuvo...|  4.0|     0|    0|   0|locals recommende...|2015-08-19 14:31:45|2015|    8| 19|        119|          0|      Very Good|           3480|\n",
      "|XW_LfMv0fV21l9c6x...|9OAtfnWag-ajVxRbU...|lj-E32x9_FA7GmUrB...|  4.0|     0|    0|   0|love going here f...|2014-06-27 22:44:01|2014|    6| 27|        242|          0|      Very Good|           3898|\n",
      "|8JFGBuHMoiNDyfcxu...|smOvOajNG0lS4Pq7d...|RZtGWDLCAtuipwaZ-...|  4.0|     0|    0|   0|good food--loved ...|2009-10-14 19:57:14|2009|   10| 14|        175|          0|      Very Good|           5615|\n",
      "|UBp0zWyH60Hmw6Fsa...|4Uh27DgGzsp6PqrH9...|otQS34_MymijPTdNB...|  4.0|     0|    2|   0|the bun makes the...|2011-10-27 17:12:05|2011|   10| 27|        658|          2|      Very Good|           4872|\n",
      "|OAhBYw8IQ6wlfw1ow...|1C2lxzUo1Hyye4RFI...|BVndHaLihEYbr76Z0...|  5.0|     0|    0|   0|great place for b...|2014-10-11 16:22:06|2014|   10| 11|        175|          0|      Excellent|           3792|\n",
      "|oyaMhzBSwfGgemSGu...|Dd1jQj7S-BFGqRbAp...|YtSqYv1Q_pOltsVPS...|  5.0|     0|    0|   0|tremendous servic...|2013-06-24 11:21:25|2013|    6| 24|        276|          0|      Excellent|           4266|\n",
      "|LnGZB0fjfgeVDVz5I...|j2wlzrntrbKwyOcOi...|rBdG_23USc7DletfZ...|  4.0|     1|    0|   0|the hubby and i h...|2014-08-10 19:41:43|2014|    8| 10|        577|          1|      Very Good|           3854|\n",
      "|u2vzZaOqJ2feRshaa...|NDZvyYHTUWWu-kqgQ...|CLEWowfkj-wKYJlQD...|  5.0|     2|    0|   1|i go to blow bar ...|2016-03-07 00:02:18|2016|    3|  7|        393|          3|      Excellent|           3279|\n",
      "|Xs8Z8lmKkosqW5mw_...|IQsF3Rc6IgCzjVV9D...|eFvzHawVJofxSnD7T...|  5.0|     0|    0|   0|my absolute favor...|2014-11-12 15:30:27|2014|   11| 12|        419|          0|      Excellent|           3760|\n",
      "+--------------------+--------------------+--------------------+-----+------+-----+----+--------------------+-------------------+----+-----+---+-----------+-----------+---------------+---------------+\n",
      "only showing top 20 rows\n",
      "\n"
     ]
    }
   ],
   "source": [
    "df.show(20)"
   ]
  },
  {
   "cell_type": "code",
   "execution_count": 10,
   "metadata": {},
   "outputs": [],
   "source": [
    "df.write.format(\"delta\") \\\n",
    "    .option(\"mergeSchema\", \"true\") \\\n",
    "    .mode(\"overwrite\") \\\n",
    "    .partitionBy(\"year\", \"month\") \\\n",
    "    .save(\"D:/Project/delta_lake/silver/reviews\")"
   ]
  }
 ],
 "metadata": {
  "kernelspec": {
   "display_name": "venv",
   "language": "python",
   "name": "python3"
  },
  "language_info": {
   "codemirror_mode": {
    "name": "ipython",
    "version": 3
   },
   "file_extension": ".py",
   "mimetype": "text/x-python",
   "name": "python",
   "nbconvert_exporter": "python",
   "pygments_lexer": "ipython3",
   "version": "3.11.9"
  }
 },
 "nbformat": 4,
 "nbformat_minor": 2
}
