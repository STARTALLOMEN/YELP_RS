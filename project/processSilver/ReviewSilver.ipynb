{
 "cells": [
  {
   "cell_type": "code",
   "execution_count": 1,
   "metadata": {},
   "outputs": [],
   "source": [
    "from pyspark.sql import SparkSession\n",
    "from pyspark.sql.functions import *\n",
    "from pyspark.sql.types import *\n",
    "from pyspark.ml.feature import Imputer\n",
    "import pyspark.sql.functions as F\n",
    "from delta import *"
   ]
  },
  {
   "cell_type": "code",
   "execution_count": 2,
   "metadata": {},
   "outputs": [],
   "source": [
    "builder = SparkSession.builder \\\n",
    "    .appName(\"Reviews to Silver\") \\\n",
    "    .config(\"spark.jars.packages\", \"io.delta:delta-core_2.12:3.1.0\") \\\n",
    "    .config(\"spark.sql.extensions\", \"io.delta.sql.DeltaSparkSessionExtension\") \\\n",
    "    .config(\"spark.sql.catalog.spark_catalog\", \"org.apache.spark.sql.delta.catalog.DeltaCatalog\")\n",
    "\n",
    "spark = configure_spark_with_delta_pip(builder).getOrCreate()"
   ]
  },
  {
   "cell_type": "code",
   "execution_count": 3,
   "metadata": {},
   "outputs": [
    {
     "name": "stdout",
     "output_type": "stream",
     "text": [
      "+--------------------+--------------------+--------------------+-----+------+-----+----+--------------------+-------------------+\n",
      "|           review_id|             user_id|         business_id|stars|useful|funny|cool|                text|               date|\n",
      "+--------------------+--------------------+--------------------+-----+------+-----+----+--------------------+-------------------+\n",
      "|KU_O5udG6zpxOg-Vc...|mh_-eMZ6K5RLWhZyI...|XQfwVwDr-v0ZS3_Cb...|  3.0|     0|    0|   0|If you decide to ...|2018-07-07 22:09:11|\n",
      "|BiTunyQ73aT9WBnpR...|OyoGAe7OKpv6SyGZT...|7ATYjTIgM3jUlt4UM...|  5.0|     1|    0|   1|I've taken a lot ...|2012-01-03 15:28:18|\n",
      "|saUsX_uimxRlCVr67...|8g_iMtfSiwikVnbP2...|YjUWPpI6HXG530lwP...|  3.0|     0|    0|   0|Family diner. Had...|2014-02-05 20:30:30|\n",
      "|AqPFMleE6RsU23_au...|_7bHUi9Uuf5__HHc_...|kxX2SOes4o-D3ZQBk...|  5.0|     1|    0|   1|Wow!  Yummy, diff...|2015-01-04 00:01:03|\n",
      "|Sx8TMOWLNuJBWer-0...|bcjbaE6dDog4jkNY9...|e4Vwtrqf-wpJfwesg...|  4.0|     1|    0|   1|Cute interior and...|2017-01-14 20:54:15|\n",
      "+--------------------+--------------------+--------------------+-----+------+-----+----+--------------------+-------------------+\n",
      "only showing top 5 rows\n",
      "\n"
     ]
    }
   ],
   "source": [
    "def load_reviews_data(spark, path):\n",
    "    schema = StructType([\n",
    "        StructField(\"review_id\", StringType(), True),\n",
    "        StructField(\"user_id\", StringType(), True),\n",
    "        StructField(\"business_id\", StringType(), True),\n",
    "        StructField(\"stars\", DoubleType(), True),\n",
    "        StructField(\"useful\", IntegerType(), True),\n",
    "        StructField(\"funny\", IntegerType(), True),\n",
    "        StructField(\"cool\", IntegerType(), True),\n",
    "        StructField(\"text\", StringType(), True),\n",
    "        StructField(\"date\", StringType(), True)\n",
    "    ])\n",
    "    return spark.read.json(path, schema=schema)\n",
    "\n",
    "df = load_reviews_data(spark, \"D:/Project/delta_lake/bronze/yelp_academic_dataset_review.json\")\n",
    "df.show(5)"
   ]
  },
  {
   "cell_type": "code",
   "execution_count": 4,
   "metadata": {},
   "outputs": [
    {
     "name": "stdout",
     "output_type": "stream",
     "text": [
      "+--------------------+--------------------+--------------------+-----+------+-----+----+--------------------+-------------------+-------------+--------------+-------------+------------+\n",
      "|           review_id|             user_id|         business_id|stars|useful|funny|cool|                text|               date|stars_imputed|useful_imputed|funny_imputed|cool_imputed|\n",
      "+--------------------+--------------------+--------------------+-----+------+-----+----+--------------------+-------------------+-------------+--------------+-------------+------------+\n",
      "|KU_O5udG6zpxOg-Vc...|mh_-eMZ6K5RLWhZyI...|XQfwVwDr-v0ZS3_Cb...|  3.0|     0|    0|   0|If you decide to ...|2018-07-07 22:09:11|          3.0|             0|            0|           0|\n",
      "|BiTunyQ73aT9WBnpR...|OyoGAe7OKpv6SyGZT...|7ATYjTIgM3jUlt4UM...|  5.0|     1|    0|   1|I've taken a lot ...|2012-01-03 15:28:18|          5.0|             1|            0|           1|\n",
      "|saUsX_uimxRlCVr67...|8g_iMtfSiwikVnbP2...|YjUWPpI6HXG530lwP...|  3.0|     0|    0|   0|Family diner. Had...|2014-02-05 20:30:30|          3.0|             0|            0|           0|\n",
      "|AqPFMleE6RsU23_au...|_7bHUi9Uuf5__HHc_...|kxX2SOes4o-D3ZQBk...|  5.0|     1|    0|   1|Wow!  Yummy, diff...|2015-01-04 00:01:03|          5.0|             1|            0|           1|\n",
      "|Sx8TMOWLNuJBWer-0...|bcjbaE6dDog4jkNY9...|e4Vwtrqf-wpJfwesg...|  4.0|     1|    0|   1|Cute interior and...|2017-01-14 20:54:15|          4.0|             1|            0|           1|\n",
      "+--------------------+--------------------+--------------------+-----+------+-----+----+--------------------+-------------------+-------------+--------------+-------------+------------+\n",
      "only showing top 5 rows\n",
      "\n"
     ]
    }
   ],
   "source": [
    "def handle_missing_values(df):\n",
    "    imputer = Imputer(\n",
    "        inputCols=[\"stars\", \"useful\", \"funny\", \"cool\"],\n",
    "        outputCols=[\"stars_imputed\", \"useful_imputed\", \"funny_imputed\", \"cool_imputed\"]\n",
    "    ).setStrategy(\"median\")\n",
    "    \n",
    "    df = imputer.fit(df).transform(df)\n",
    "    \n",
    "    df = df.na.fill({\n",
    "        \"text\": \"No review text provided\",\n",
    "        \"date\": \"1970-01-01\"\n",
    "    })\n",
    "    return df\n",
    "\n",
    "df = handle_missing_values(df)\n",
    "df.show(5)"
   ]
  },
  {
   "cell_type": "code",
   "execution_count": 5,
   "metadata": {},
   "outputs": [
    {
     "name": "stdout",
     "output_type": "stream",
     "text": [
      "+--------------------+--------------------+--------------------+-----+------+-----+----+--------------------+-------------------+-------------+--------------+-------------+------------+----+-----+---+\n",
      "|           review_id|             user_id|         business_id|stars|useful|funny|cool|                text|               date|stars_imputed|useful_imputed|funny_imputed|cool_imputed|year|month|day|\n",
      "+--------------------+--------------------+--------------------+-----+------+-----+----+--------------------+-------------------+-------------+--------------+-------------+------------+----+-----+---+\n",
      "|KU_O5udG6zpxOg-Vc...|mh_-eMZ6K5RLWhZyI...|XQfwVwDr-v0ZS3_Cb...|  3.0|     0|    0|   0|if you decide to ...|2018-07-07 22:09:11|          3.0|             0|            0|           0|2018|    7|  7|\n",
      "|BiTunyQ73aT9WBnpR...|OyoGAe7OKpv6SyGZT...|7ATYjTIgM3jUlt4UM...|  5.0|     1|    0|   1|i've taken a lot ...|2012-01-03 15:28:18|          5.0|             1|            0|           1|2012|    1|  3|\n",
      "|saUsX_uimxRlCVr67...|8g_iMtfSiwikVnbP2...|YjUWPpI6HXG530lwP...|  3.0|     0|    0|   0|family diner. had...|2014-02-05 20:30:30|          3.0|             0|            0|           0|2014|    2|  5|\n",
      "|AqPFMleE6RsU23_au...|_7bHUi9Uuf5__HHc_...|kxX2SOes4o-D3ZQBk...|  5.0|     1|    0|   1|wow!  yummy, diff...|2015-01-04 00:01:03|          5.0|             1|            0|           1|2015|    1|  4|\n",
      "|Sx8TMOWLNuJBWer-0...|bcjbaE6dDog4jkNY9...|e4Vwtrqf-wpJfwesg...|  4.0|     1|    0|   1|cute interior and...|2017-01-14 20:54:15|          4.0|             1|            0|           1|2017|    1| 14|\n",
      "+--------------------+--------------------+--------------------+-----+------+-----+----+--------------------+-------------------+-------------+--------------+-------------+------------+----+-----+---+\n",
      "only showing top 5 rows\n",
      "\n"
     ]
    }
   ],
   "source": [
    "def standardize_data(df):\n",
    "    return df \\\n",
    "        .withColumn(\"text\", trim(lower(col(\"text\")))) \\\n",
    "        .withColumn(\"date\", to_timestamp(col(\"date\"))) \\\n",
    "        .withColumn(\"year\", year(col(\"date\"))) \\\n",
    "        .withColumn(\"month\", month(col(\"date\"))) \\\n",
    "        .withColumn(\"day\", dayofmonth(col(\"date\")))\n",
    "\n",
    "df = standardize_data(df)\n",
    "df.show(5)"
   ]
  },
  {
   "cell_type": "code",
   "execution_count": 6,
   "metadata": {},
   "outputs": [
    {
     "name": "stdout",
     "output_type": "stream",
     "text": [
      "+--------------------+--------------------+--------------------+-----+------+-----+----+--------------------+-------------------+-------------+--------------+-------------+------------+----+-----+---+-----------+-----------+---------------+---------------+\n",
      "|           review_id|             user_id|         business_id|stars|useful|funny|cool|                text|               date|stars_imputed|useful_imputed|funny_imputed|cool_imputed|year|month|day|text_length|total_votes|rating_category|review_age_days|\n",
      "+--------------------+--------------------+--------------------+-----+------+-----+----+--------------------+-------------------+-------------+--------------+-------------+------------+----+-----+---+-----------+-----------+---------------+---------------+\n",
      "|KU_O5udG6zpxOg-Vc...|mh_-eMZ6K5RLWhZyI...|XQfwVwDr-v0ZS3_Cb...|  3.0|     0|    0|   0|if you decide to ...|2018-07-07 22:09:11|          3.0|             0|            0|           0|2018|    7|  7|        513|          0|        Average|           2413|\n",
      "|BiTunyQ73aT9WBnpR...|OyoGAe7OKpv6SyGZT...|7ATYjTIgM3jUlt4UM...|  5.0|     1|    0|   1|i've taken a lot ...|2012-01-03 15:28:18|          5.0|             1|            0|           1|2012|    1|  3|        829|          2|      Excellent|           4790|\n",
      "|saUsX_uimxRlCVr67...|8g_iMtfSiwikVnbP2...|YjUWPpI6HXG530lwP...|  3.0|     0|    0|   0|family diner. had...|2014-02-05 20:30:30|          3.0|             0|            0|           0|2014|    2|  5|        339|          0|        Average|           4026|\n",
      "|AqPFMleE6RsU23_au...|_7bHUi9Uuf5__HHc_...|kxX2SOes4o-D3ZQBk...|  5.0|     1|    0|   1|wow!  yummy, diff...|2015-01-04 00:01:03|          5.0|             1|            0|           1|2015|    1|  4|        243|          2|      Excellent|           3693|\n",
      "|Sx8TMOWLNuJBWer-0...|bcjbaE6dDog4jkNY9...|e4Vwtrqf-wpJfwesg...|  4.0|     1|    0|   1|cute interior and...|2017-01-14 20:54:15|          4.0|             1|            0|           1|2017|    1| 14|        534|          2|      Very Good|           2952|\n",
      "+--------------------+--------------------+--------------------+-----+------+-----+----+--------------------+-------------------+-------------+--------------+-------------+------------+----+-----+---+-----------+-----------+---------------+---------------+\n",
      "only showing top 5 rows\n",
      "\n"
     ]
    }
   ],
   "source": [
    "def feature_engineering(df):\n",
    "    df = df.withColumn(\"text_length\", length(col(\"text\")))\n",
    "    \n",
    "    df = df.withColumn(\"total_votes\", \n",
    "        col(\"useful\") + col(\"funny\") + col(\"cool\"))\n",
    "    \n",
    "    df = df.withColumn(\"rating_category\",\n",
    "        when(col(\"stars\") >= 4.5, \"Excellent\")\n",
    "        .when(col(\"stars\") >= 4.0, \"Very Good\")\n",
    "        .when(col(\"stars\") >= 3.5, \"Good\")\n",
    "        .when(col(\"stars\") >= 3.0, \"Average\")\n",
    "        .otherwise(\"Below Average\"))\n",
    "    \n",
    "    df = df.withColumn(\"review_age_days\", \n",
    "        datediff(current_date(), col(\"date\")))\n",
    "    \n",
    "    return df\n",
    "\n",
    "df = feature_engineering(df)\n",
    "df.show(5)"
   ]
  },
  {
   "cell_type": "code",
   "execution_count": 7,
   "metadata": {},
   "outputs": [
    {
     "name": "stdout",
     "output_type": "stream",
     "text": [
      "+--------------------+--------------------+--------------------+-----+------+-----+----+--------------------+-------------------+-------------+--------------+-------------+------------+----+-----+---+-----------+-----------+---------------+---------------+\n",
      "|           review_id|             user_id|         business_id|stars|useful|funny|cool|                text|               date|stars_imputed|useful_imputed|funny_imputed|cool_imputed|year|month|day|text_length|total_votes|rating_category|review_age_days|\n",
      "+--------------------+--------------------+--------------------+-----+------+-----+----+--------------------+-------------------+-------------+--------------+-------------+------------+----+-----+---+-----------+-----------+---------------+---------------+\n",
      "|KU_O5udG6zpxOg-Vc...|mh_-eMZ6K5RLWhZyI...|XQfwVwDr-v0ZS3_Cb...|  3.0|     0|    0|   0|if you decide to ...|2018-07-07 22:09:11|          3.0|             0|            0|           0|2018|    7|  7|        513|          0|        Average|           2413|\n",
      "|BiTunyQ73aT9WBnpR...|OyoGAe7OKpv6SyGZT...|7ATYjTIgM3jUlt4UM...|  5.0|     1|    0|   1|i've taken a lot ...|2012-01-03 15:28:18|          5.0|             1|            0|           1|2012|    1|  3|        829|          2|      Excellent|           4790|\n",
      "|saUsX_uimxRlCVr67...|8g_iMtfSiwikVnbP2...|YjUWPpI6HXG530lwP...|  3.0|     0|    0|   0|family diner. had...|2014-02-05 20:30:30|          3.0|             0|            0|           0|2014|    2|  5|        339|          0|        Average|           4026|\n",
      "|AqPFMleE6RsU23_au...|_7bHUi9Uuf5__HHc_...|kxX2SOes4o-D3ZQBk...|  5.0|     1|    0|   1|wow!  yummy, diff...|2015-01-04 00:01:03|          5.0|             1|            0|           1|2015|    1|  4|        243|          2|      Excellent|           3693|\n",
      "|Sx8TMOWLNuJBWer-0...|bcjbaE6dDog4jkNY9...|e4Vwtrqf-wpJfwesg...|  4.0|     1|    0|   1|cute interior and...|2017-01-14 20:54:15|          4.0|             1|            0|           1|2017|    1| 14|        534|          2|      Very Good|           2952|\n",
      "+--------------------+--------------------+--------------------+-----+------+-----+----+--------------------+-------------------+-------------+--------------+-------------+------------+----+-----+---+-----------+-----------+---------------+---------------+\n",
      "only showing top 5 rows\n",
      "\n"
     ]
    }
   ],
   "source": [
    "def validate_data(df):\n",
    "    df = df.filter(\n",
    "        (col(\"stars\").between(1, 5)) &\n",
    "        (col(\"useful\") >= 0) &\n",
    "        (col(\"funny\") >= 0) &\n",
    "        (col(\"cool\") >= 0) &\n",
    "        (length(col(\"text\")) > 0)\n",
    "    )\n",
    "    \n",
    "    df = df.filter(\n",
    "        (length(col(\"review_id\")) > 0) &\n",
    "        (length(col(\"business_id\")) > 0) &\n",
    "        (length(col(\"user_id\")) > 0)\n",
    "    )\n",
    "    \n",
    "    return df\n",
    "\n",
    "df = validate_data(df)\n",
    "df.show(5)"
   ]
  },
  {
   "cell_type": "code",
   "execution_count": 8,
   "metadata": {},
   "outputs": [
    {
     "name": "stdout",
     "output_type": "stream",
     "text": [
      "Null Counts:\n",
      "+---------+-------+-----------+-----+------+-----+----+----+----+-------------+--------------+-------------+------------+----+-----+---+-----------+-----------+---------------+---------------+\n",
      "|review_id|user_id|business_id|stars|useful|funny|cool|text|date|stars_imputed|useful_imputed|funny_imputed|cool_imputed|year|month|day|text_length|total_votes|rating_category|review_age_days|\n",
      "+---------+-------+-----------+-----+------+-----+----+----+----+-------------+--------------+-------------+------------+----+-----+---+-----------+-----------+---------------+---------------+\n",
      "|        0|      0|          0|    0|     0|    0|   0|   0|   0|            0|             0|            0|           0|   0|    0|  0|          0|          0|              0|              0|\n",
      "+---------+-------+-----------+-----+------+-----+----+----+----+-------------+--------------+-------------+------------+----+-----+---+-----------+-----------+---------------+---------------+\n",
      "\n",
      "\n",
      "Duplicate Count: 0\n",
      "\n",
      "Value Distributions:\n",
      "+-----------------+------------------+-----------------+------------------+------------------+\n",
      "|       mean_stars|      stddev_stars|      mean_useful|        mean_funny|         mean_cool|\n",
      "+-----------------+------------------+-----------------+------------------+------------------+\n",
      "|3.748584855388379|1.4787038349287753|1.184610047530319|0.3265601138724871|0.4986177224787294|\n",
      "+-----------------+------------------+-----------------+------------------+------------------+\n",
      "\n"
     ]
    }
   ],
   "source": [
    "def quality_checks(df):\n",
    "    null_counts = df.select([sum(col(c).isNull().cast(\"int\")).alias(c) \n",
    "                           for c in df.columns])\n",
    "    \n",
    "    duplicate_count = df.count() - df.dropDuplicates().count()\n",
    "    \n",
    "    value_dist = df.select(\n",
    "        mean(\"stars\").alias(\"mean_stars\"),\n",
    "        stddev(\"stars\").alias(\"stddev_stars\"),\n",
    "        mean(\"useful\").alias(\"mean_useful\"),\n",
    "        mean(\"funny\").alias(\"mean_funny\"),\n",
    "        mean(\"cool\").alias(\"mean_cool\")\n",
    "    )\n",
    "    \n",
    "    print(\"Null Counts:\")\n",
    "    null_counts.show()\n",
    "    print(f\"\\nDuplicate Count: {duplicate_count}\")\n",
    "    print(\"\\nValue Distributions:\")\n",
    "    value_dist.show()\n",
    "    \n",
    "    return df\n",
    "\n",
    "df = quality_checks(df)"
   ]
  },
  {
   "cell_type": "code",
   "execution_count": 9,
   "metadata": {},
   "outputs": [],
   "source": [
    "df.write.format(\"delta\") \\\n",
    "    .option(\"mergeSchema\", \"true\") \\\n",
    "    .mode(\"overwrite\") \\\n",
    "    .partitionBy(\"year\", \"month\") \\\n",
    "    .save(\"D:/Project/delta_lake/silver/reviews\")"
   ]
  }
 ],
 "metadata": {
  "kernelspec": {
   "display_name": "venv",
   "language": "python",
   "name": "python3"
  },
  "language_info": {
   "codemirror_mode": {
    "name": "ipython",
    "version": 3
   },
   "file_extension": ".py",
   "mimetype": "text/x-python",
   "name": "python",
   "nbconvert_exporter": "python",
   "pygments_lexer": "ipython3",
   "version": "3.11.9"
  }
 },
 "nbformat": 4,
 "nbformat_minor": 2
}
