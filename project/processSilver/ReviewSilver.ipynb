{
 "cells": [
  {
   "cell_type": "code",
   "execution_count": null,
   "metadata": {},
   "outputs": [],
   "source": [
    "from pyspark.sql import SparkSession\n",
    "from pyspark.sql.functions import *\n",
    "from pyspark.sql.types import *\n",
    "from pyspark.ml.feature import Imputer\n",
    "import pyspark.sql.functions as F\n",
    "from delta import *"
   ]
  },
  {
   "cell_type": "code",
   "execution_count": null,
   "metadata": {},
   "outputs": [],
   "source": [
    "builder = SparkSession.builder \\\n",
    "    .appName(\"Reviews to Silver\") \\\n",
    "    .config(\"spark.jars.packages\", \"io.delta:delta-core_2.12:3.1.0\") \\\n",
    "    .config(\"spark.sql.extensions\", \"io.delta.sql.DeltaSparkSessionExtension\") \\\n",
    "    .config(\"spark.sql.catalog.spark_catalog\", \"org.apache.spark.sql.delta.catalog.DeltaCatalog\")\n",
    "\n",
    "spark = configure_spark_with_delta_pip(builder).getOrCreate()"
   ]
  },
  {
   "cell_type": "code",
   "execution_count": null,
   "metadata": {},
   "outputs": [],
   "source": [
    "def load_reviews_data(spark, path):\n",
    "    schema = StructType([\n",
    "        StructField(\"review_id\", StringType(), True),\n",
    "        StructField(\"user_id\", StringType(), True),\n",
    "        StructField(\"business_id\", StringType(), True),\n",
    "        StructField(\"stars\", DoubleType(), True),\n",
    "        StructField(\"useful\", IntegerType(), True),\n",
    "        StructField(\"funny\", IntegerType(), True),\n",
    "        StructField(\"cool\", IntegerType(), True),\n",
    "        StructField(\"text\", StringType(), True),\n",
    "        StructField(\"date\", StringType(), True)\n",
    "    ])\n",
    "    return spark.read.json(path, schema=schema)\n",
    "\n",
    "df = load_reviews_data(spark, \"D:/Project/delta_lake/bronze/yelp_academic_dataset_review.json\")\n",
    "df.show(5)"
   ]
  },
  {
   "cell_type": "code",
   "execution_count": null,
   "metadata": {},
   "outputs": [],
   "source": [
    "def handle_missing_values(df):\n",
    "    imputer = Imputer(\n",
    "        inputCols=[\"stars\", \"useful\", \"funny\", \"cool\"],\n",
    "        outputCols=[\"stars_imputed\", \"useful_imputed\", \"funny_imputed\", \"cool_imputed\"]\n",
    "    ).setStrategy(\"median\")\n",
    "    \n",
    "    df = imputer.fit(df).transform(df)\n",
    "    \n",
    "    df = df.na.fill({\n",
    "        \"text\": \"No review text provided\",\n",
    "        \"date\": \"1970-01-01\"\n",
    "    })\n",
    "    return df\n",
    "\n",
    "df = handle_missing_values(df)\n",
    "df.show(5)"
   ]
  },
  {
   "cell_type": "code",
   "execution_count": null,
   "metadata": {},
   "outputs": [],
   "source": [
    "def standardize_data(df):\n",
    "    return df \\\n",
    "        .withColumn(\"text\", trim(lower(col(\"text\")))) \\\n",
    "        .withColumn(\"date\", to_timestamp(col(\"date\"))) \\\n",
    "        .withColumn(\"year\", year(col(\"date\"))) \\\n",
    "        .withColumn(\"month\", month(col(\"date\"))) \\\n",
    "        .withColumn(\"day\", dayofmonth(col(\"date\")))\n",
    "\n",
    "df = standardize_data(df)\n",
    "df.show(5)"
   ]
  },
  {
   "cell_type": "code",
   "execution_count": null,
   "metadata": {},
   "outputs": [],
   "source": [
    "def feature_engineering(df):\n",
    "    df = df.withColumn(\"text_length\", length(col(\"text\")))\n",
    "    \n",
    "    df = df.withColumn(\"total_votes\", \n",
    "        col(\"useful\") + col(\"funny\") + col(\"cool\"))\n",
    "    \n",
    "    df = df.withColumn(\"rating_category\",\n",
    "        when(col(\"stars\") >= 4.5, \"Excellent\")\n",
    "        .when(col(\"stars\") >= 4.0, \"Very Good\")\n",
    "        .when(col(\"stars\") >= 3.5, \"Good\")\n",
    "        .when(col(\"stars\") >= 3.0, \"Average\")\n",
    "        .otherwise(\"Below Average\"))\n",
    "    \n",
    "    df = df.withColumn(\"review_age_days\", \n",
    "        datediff(current_date(), col(\"date\")))\n",
    "    \n",
    "    return df\n",
    "\n",
    "df = feature_engineering(df)\n",
    "df.show(5)"
   ]
  },
  {
   "cell_type": "code",
   "execution_count": null,
   "metadata": {},
   "outputs": [],
   "source": [
    "def validate_data(df):\n",
    "    df = df.filter(\n",
    "        (col(\"stars\").between(1, 5)) &\n",
    "        (col(\"useful\") >= 0) &\n",
    "        (col(\"funny\") >= 0) &\n",
    "        (col(\"cool\") >= 0) &\n",
    "        (length(col(\"text\")) > 0)\n",
    "    )\n",
    "    \n",
    "    df = df.filter(\n",
    "        (length(col(\"review_id\")) > 0) &\n",
    "        (length(col(\"business_id\")) > 0) &\n",
    "        (length(col(\"user_id\")) > 0)\n",
    "    )\n",
    "    \n",
    "    return df\n",
    "\n",
    "df = validate_data(df)\n",
    "df.show(5)"
   ]
  },
  {
   "cell_type": "code",
   "execution_count": null,
   "metadata": {},
   "outputs": [],
   "source": [
    "def quality_checks(df):\n",
    "    null_counts = df.select([sum(col(c).isNull().cast(\"int\")).alias(c) \n",
    "                           for c in df.columns])\n",
    "    \n",
    "    duplicate_count = df.count() - df.dropDuplicates().count()\n",
    "    \n",
    "    value_dist = df.select(\n",
    "        mean(\"stars\").alias(\"mean_stars\"),\n",
    "        stddev(\"stars\").alias(\"stddev_stars\"),\n",
    "        mean(\"useful\").alias(\"mean_useful\"),\n",
    "        mean(\"funny\").alias(\"mean_funny\"),\n",
    "        mean(\"cool\").alias(\"mean_cool\")\n",
    "    )\n",
    "    \n",
    "    print(\"Null Counts:\")\n",
    "    null_counts.show()\n",
    "    print(f\"\\nDuplicate Count: {duplicate_count}\")\n",
    "    print(\"\\nValue Distributions:\")\n",
    "    value_dist.show()\n",
    "    \n",
    "    return df\n",
    "\n",
    "df = quality_checks(df)"
   ]
  },
  {
   "cell_type": "code",
   "execution_count": null,
   "metadata": {},
   "outputs": [],
   "source": [
    "df.write.format(\"delta\") \\\n",
    "    .option(\"mergeSchema\", \"true\") \\\n",
    "    .mode(\"overwrite\") \\\n",
    "    .partitionBy(\"year\", \"month\") \\\n",
    "    .save(\"D:/Project/delta_lake/silver/reviews\")"
   ]
  }
 ],
 "metadata": {
  "kernelspec": {
   "display_name": "venv",
   "language": "python",
   "name": "python3"
  },
  "language_info": {
   "name": "python",
   "version": "3.11.9"
  }
 },
 "nbformat": 4,
 "nbformat_minor": 2
}
