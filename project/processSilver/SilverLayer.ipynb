{
 "cells": [
  {
   "cell_type": "code",
   "execution_count": 1,
   "metadata": {},
   "outputs": [],
   "source": [
    "from pyspark.sql import SparkSession\n",
    "from pyspark.sql.functions import *\n",
    "from pyspark.sql.types import *\n",
    "from pyspark.ml.feature import Imputer\n",
    "import pyspark.sql.functions as F\n",
    "from delta import *\n"
   ]
  },
  {
   "cell_type": "code",
   "execution_count": 2,
   "metadata": {},
   "outputs": [],
   "source": [
    "builder = SparkSession.builder \\\n",
    "    .appName(\"Business to Silver\") \\\n",
    "    .config(\"spark.jars.packages\", \"io.delta:delta-core_2.12:3.1.0\") \\\n",
    "    .config(\"spark.sql.extensions\", \"io.delta.sql.DeltaSparkSessionExtension\") \\\n",
    "    .config(\"spark.sql.catalog.spark_catalog\", \"org.apache.spark.sql.delta.catalog.DeltaCatalog\")\n",
    "\n",
    "spark = configure_spark_with_delta_pip(builder).getOrCreate()"
   ]
  },
  {
   "cell_type": "code",
   "execution_count": 3,
   "metadata": {},
   "outputs": [
    {
     "name": "stdout",
     "output_type": "stream",
     "text": [
      "+--------------------+--------------------+--------------------+-------------+-----+-----------+----------+------------+-----+------------+-------+--------------------+--------------------+--------------------+\n",
      "|         business_id|                name|             address|         city|state|postal_code|  latitude|   longitude|stars|review_count|is_open|          attributes|          categories|               hours|\n",
      "+--------------------+--------------------+--------------------+-------------+-----+-----------+----------+------------+-----+------------+-------+--------------------+--------------------+--------------------+\n",
      "|Pns2l4eNsfO8kk83d...|Abby Rappoport, L...|1616 Chapala St, ...|Santa Barbara|   CA|      93101|34.4266787|-119.7111968|  5.0|           7|      0|{ByAppointmentOnl...|Doctors, Traditio...|                NULL|\n",
      "|mpf3x-BjTdTEA3yCZ...|       The UPS Store|87 Grasso Plaza S...|       Affton|   MO|      63123| 38.551126|  -90.335695|  3.0|          15|      1|{BusinessAcceptsC...|Shipping Centers,...|{Monday -> 0:0-0:...|\n",
      "|tUFrWirKiKi_TAnsV...|              Target|5255 E Broadway Blvd|       Tucson|   AZ|      85711| 32.223236| -110.880452|  3.5|          22|      0|{BikeParking -> T...|Department Stores...|{Monday -> 8:0-22...|\n",
      "|MTSW4McQd7CbVtyjq...|  St Honore Pastries|         935 Race St| Philadelphia|   PA|      19107|39.9555052| -75.1555641|  4.0|          80|      1|{RestaurantsDeliv...|Restaurants, Food...|{Monday -> 7:0-20...|\n",
      "|mWMc6_wTdE0EUBKIG...|Perkiomen Valley ...|       101 Walnut St|   Green Lane|   PA|      18054|40.3381827| -75.4716585|  4.5|          13|      1|{BusinessAcceptsC...|Brewpubs, Breweri...|{Wednesday -> 14:...|\n",
      "+--------------------+--------------------+--------------------+-------------+-----+-----------+----------+------------+-----+------------+-------+--------------------+--------------------+--------------------+\n",
      "only showing top 5 rows\n",
      "\n"
     ]
    }
   ],
   "source": [
    "def load_business_data(spark, path):\n",
    "    schema = StructType([\n",
    "        StructField(\"business_id\", StringType(), True),\n",
    "        StructField(\"name\", StringType(), True),\n",
    "        StructField(\"address\", StringType(), True),\n",
    "        StructField(\"city\", StringType(), True),\n",
    "        StructField(\"state\", StringType(), True),\n",
    "        StructField(\"postal_code\", StringType(), True),\n",
    "        StructField(\"latitude\", DoubleType(), True),\n",
    "        StructField(\"longitude\", DoubleType(), True),\n",
    "        StructField(\"stars\", DoubleType(), True),\n",
    "        StructField(\"review_count\", IntegerType(), True),\n",
    "        StructField(\"is_open\", IntegerType(), True),\n",
    "        StructField(\"attributes\", MapType(StringType(), StringType()), True),\n",
    "        StructField(\"categories\", StringType(), True),\n",
    "        StructField(\"hours\", MapType(StringType(), StringType()), True)\n",
    "    ])\n",
    "    return spark.read.json(path, schema=schema)\n",
    "\n",
    "df = load_business_data(spark, \"D:/Project/delta_lake/bronze/yelp_academic_dataset_business.json\")\n",
    "df.show(5)"
   ]
  },
  {
   "cell_type": "code",
   "execution_count": 4,
   "metadata": {},
   "outputs": [
    {
     "name": "stdout",
     "output_type": "stream",
     "text": [
      "+--------------------+--------------------+--------------------+-------------+-----+-----------+----------+------------+-----+------------+-------+--------------------+--------------------+--------------------+-------------+--------------------+\n",
      "|         business_id|                name|             address|         city|state|postal_code|  latitude|   longitude|stars|review_count|is_open|          attributes|          categories|               hours|stars_imputed|review_count_imputed|\n",
      "+--------------------+--------------------+--------------------+-------------+-----+-----------+----------+------------+-----+------------+-------+--------------------+--------------------+--------------------+-------------+--------------------+\n",
      "|Pns2l4eNsfO8kk83d...|Abby Rappoport, L...|1616 Chapala St, ...|Santa Barbara|   CA|      93101|34.4266787|-119.7111968|  5.0|           7|      0|{ByAppointmentOnl...|Doctors, Traditio...|                NULL|          5.0|                   7|\n",
      "|mpf3x-BjTdTEA3yCZ...|       The UPS Store|87 Grasso Plaza S...|       Affton|   MO|      63123| 38.551126|  -90.335695|  3.0|          15|      1|{BusinessAcceptsC...|Shipping Centers,...|{Monday -> 0:0-0:...|          3.0|                  15|\n",
      "|tUFrWirKiKi_TAnsV...|              Target|5255 E Broadway Blvd|       Tucson|   AZ|      85711| 32.223236| -110.880452|  3.5|          22|      0|{BikeParking -> T...|Department Stores...|{Monday -> 8:0-22...|          3.5|                  22|\n",
      "|MTSW4McQd7CbVtyjq...|  St Honore Pastries|         935 Race St| Philadelphia|   PA|      19107|39.9555052| -75.1555641|  4.0|          80|      1|{RestaurantsDeliv...|Restaurants, Food...|{Monday -> 7:0-20...|          4.0|                  80|\n",
      "|mWMc6_wTdE0EUBKIG...|Perkiomen Valley ...|       101 Walnut St|   Green Lane|   PA|      18054|40.3381827| -75.4716585|  4.5|          13|      1|{BusinessAcceptsC...|Brewpubs, Breweri...|{Wednesday -> 14:...|          4.5|                  13|\n",
      "+--------------------+--------------------+--------------------+-------------+-----+-----------+----------+------------+-----+------------+-------+--------------------+--------------------+--------------------+-------------+--------------------+\n",
      "only showing top 5 rows\n",
      "\n"
     ]
    }
   ],
   "source": [
    "def handle_missing_values(df):\n",
    "    imputer = Imputer(\n",
    "        inputCols=[\"stars\", \"review_count\"],\n",
    "        outputCols=[\"stars_imputed\", \"review_count_imputed\"]\n",
    "    ).setStrategy(\"median\")\n",
    "    \n",
    "    df = imputer.fit(df).transform(df)\n",
    "    \n",
    "    df = df.na.fill({\n",
    "        \"is_open\": 0,\n",
    "        \"name\": \"Unknown\",\n",
    "        \"city\": \"Unknown\",\n",
    "        \"state\": \"Unknown\",\n",
    "        \"categories\": \"Uncategorized\"\n",
    "    })\n",
    "    return df\n",
    "\n",
    "df = handle_missing_values(df)\n",
    "df.show(5)"
   ]
  },
  {
   "cell_type": "code",
   "execution_count": 5,
   "metadata": {},
   "outputs": [
    {
     "name": "stdout",
     "output_type": "stream",
     "text": [
      "+--------------------+--------------------+--------------------+--------+-----+-----------+-------------+--------------+-----+------------+-------+--------------------+--------------------+--------------------+-------------+--------------------+\n",
      "|         business_id|                name|             address|    city|state|postal_code|     latitude|     longitude|stars|review_count|is_open|          attributes|          categories|               hours|stars_imputed|review_count_imputed|\n",
      "+--------------------+--------------------+--------------------+--------+-----+-----------+-------------+--------------+-----+------------+-------+--------------------+--------------------+--------------------+-------------+--------------------+\n",
      "|2vUErjw9pnsSwR5fG...|Abington Neurolog...|1151 Old York Roa...|Abington|   PA|      19001|40.1162277794|-75.1205835432|  1.5|           7|      1|{BusinessAcceptsC...|Neurologist, Heal...|{Monday -> 0:0-0:...|          1.5|                   7|\n",
      "|-gg96o-MxRQ7s_NOy...|Abington Pediatri...|    1047 Old York Rd|Abington|   PA|      19001|   40.1125514|   -75.1226581|  3.5|          20|      1|{ByAppointmentOnl...|Health & Medical,...|{Monday -> 8:0-20...|          3.5|                  20|\n",
      "|afV_jsKOe0fWky2Ke...|Bryan Stuckert Pl...|      2310 Heston St|Abington|   PA|      19001|   40.1222822|   -75.1334451|  5.0|          11|      1|                NULL|Plumbing, Home Se...|                NULL|          5.0|                  11|\n",
      "|MxNVMwWRoqhSYujo0...|CareSTAT Urgent Care|    1468 Old York Rd|Abington|   PA|      19001|   40.1238507|   -75.1177265|  2.5|          28|      0|{ByAppointmentOnl...|Urgent Care, Emer...|{Monday -> 8:0-20...|          2.5|                  28|\n",
      "|sSpavSvNjMcA7MVyW...|  Corner Bakery Cafe|    1423 Old York Rd|Abington|   PA|      19001|   40.1229394|   -75.1160853|  3.5|          19|      0|{BusinessAcceptsC...|Breakfast & Brunc...|{Monday -> 6:30-2...|          3.5|                  19|\n",
      "+--------------------+--------------------+--------------------+--------+-----+-----------+-------------+--------------+-----+------------+-------+--------------------+--------------------+--------------------+-------------+--------------------+\n",
      "only showing top 5 rows\n",
      "\n"
     ]
    }
   ],
   "source": [
    "def remove_duplicates(df):\n",
    "    df = df.dropDuplicates()\n",
    "    df = df.dropDuplicates([\"business_id\"])\n",
    "    return df\n",
    "\n",
    "df = df.dropDuplicates(subset=[col for col in df.columns if df.schema[col].dataType != MapType(StringType(), StringType())])\n",
    "df.show(5)"
   ]
  },
  {
   "cell_type": "code",
   "execution_count": 6,
   "metadata": {},
   "outputs": [
    {
     "name": "stdout",
     "output_type": "stream",
     "text": [
      "+--------------------+--------------------+--------------------+--------+-----+-----------+-------------+--------------+-----+------------+-------+--------------------+--------------------+--------------------+-------------+--------------------+\n",
      "|         business_id|                name|             address|    city|state|postal_code|     latitude|     longitude|stars|review_count|is_open|          attributes|          categories|               hours|stars_imputed|review_count_imputed|\n",
      "+--------------------+--------------------+--------------------+--------+-----+-----------+-------------+--------------+-----+------------+-------+--------------------+--------------------+--------------------+-------------+--------------------+\n",
      "|2vUErjw9pnsSwR5fG...|abington neurolog...|1151 Old York Roa...|abington|   PA|      19001|40.1162277794|-75.1205835432|  1.5|           7|      1|{BusinessAcceptsC...|neurologist, heal...|{Monday -> 0:0-0:...|          1.5|                   7|\n",
      "|-gg96o-MxRQ7s_NOy...|abington pediatri...|    1047 Old York Rd|abington|   PA|      19001|   40.1125514|   -75.1226581|  3.5|          20|      1|{ByAppointmentOnl...|health & medical,...|{Monday -> 8:0-20...|          3.5|                  20|\n",
      "|afV_jsKOe0fWky2Ke...|bryan stuckert pl...|      2310 Heston St|abington|   PA|      19001|   40.1222822|   -75.1334451|  5.0|          11|      1|                NULL|plumbing, home se...|                NULL|          5.0|                  11|\n",
      "|MxNVMwWRoqhSYujo0...|carestat urgent care|    1468 Old York Rd|abington|   PA|      19001|   40.1238507|   -75.1177265|  2.5|          28|      0|{ByAppointmentOnl...|urgent care, emer...|{Monday -> 8:0-20...|          2.5|                  28|\n",
      "|sSpavSvNjMcA7MVyW...|  corner bakery cafe|    1423 Old York Rd|abington|   PA|      19001|   40.1229394|   -75.1160853|  3.5|          19|      0|{BusinessAcceptsC...|breakfast & brunc...|{Monday -> 6:30-2...|          3.5|                  19|\n",
      "+--------------------+--------------------+--------------------+--------+-----+-----------+-------------+--------------+-----+------------+-------+--------------------+--------------------+--------------------+-------------+--------------------+\n",
      "only showing top 5 rows\n",
      "\n"
     ]
    }
   ],
   "source": [
    "def standardize_data(df):\n",
    "    return df \\\n",
    "        .withColumn(\"name\", trim(lower(col(\"name\")))) \\\n",
    "        .withColumn(\"city\", trim(lower(col(\"city\")))) \\\n",
    "        .withColumn(\"state\", trim(upper(col(\"state\")))) \\\n",
    "        .withColumn(\"categories\", trim(lower(col(\"categories\")))) \\\n",
    "        .withColumn(\"postal_code\", regexp_replace(\"postal_code\", \"[^0-9]\", \"\"))\n",
    "\n",
    "df = standardize_data(df)\n",
    "df.show(5)"
   ]
  },
  {
   "cell_type": "code",
   "execution_count": 7,
   "metadata": {},
   "outputs": [
    {
     "name": "stdout",
     "output_type": "stream",
     "text": [
      "+--------------------+--------------------+--------------------+--------+-----+-----------+-------------+--------------+-----+------------+-------+--------------------+--------------------+--------------------+-------------+--------------------+\n",
      "|         business_id|                name|             address|    city|state|postal_code|     latitude|     longitude|stars|review_count|is_open|          attributes|          categories|               hours|stars_imputed|review_count_imputed|\n",
      "+--------------------+--------------------+--------------------+--------+-----+-----------+-------------+--------------+-----+------------+-------+--------------------+--------------------+--------------------+-------------+--------------------+\n",
      "|2vUErjw9pnsSwR5fG...|abington neurolog...|1151 Old York Roa...|abington|   PA|      19001|40.1162277794|-75.1205835432|  1.5|           7|      1|{BusinessAcceptsC...|neurologist, heal...|{Monday -> 0:0-0:...|          1.5|                   7|\n",
      "|-gg96o-MxRQ7s_NOy...|abington pediatri...|    1047 Old York Rd|abington|   PA|      19001|   40.1125514|   -75.1226581|  3.5|          20|      1|{ByAppointmentOnl...|health & medical,...|{Monday -> 8:0-20...|          3.5|                  20|\n",
      "|afV_jsKOe0fWky2Ke...|bryan stuckert pl...|      2310 Heston St|abington|   PA|      19001|   40.1222822|   -75.1334451|  5.0|          11|      1|                NULL|plumbing, home se...|                NULL|          5.0|                  11|\n",
      "|MxNVMwWRoqhSYujo0...|carestat urgent care|    1468 Old York Rd|abington|   PA|      19001|   40.1238507|   -75.1177265|  2.5|          28|      0|{ByAppointmentOnl...|urgent care, emer...|{Monday -> 8:0-20...|          2.5|                  28|\n",
      "|sSpavSvNjMcA7MVyW...|  corner bakery cafe|    1423 Old York Rd|abington|   PA|      19001|   40.1229394|   -75.1160853|  3.5|          19|      0|{BusinessAcceptsC...|breakfast & brunc...|{Monday -> 6:30-2...|          3.5|                  19|\n",
      "+--------------------+--------------------+--------------------+--------+-----+-----------+-------------+--------------+-----+------------+-------+--------------------+--------------------+--------------------+-------------+--------------------+\n",
      "only showing top 5 rows\n",
      "\n"
     ]
    }
   ],
   "source": [
    "def handle_outliers(df):\n",
    "    stats = df.select([\n",
    "        percentile_approx(\"stars\", 0.25).alias(\"q1_stars\"),\n",
    "        percentile_approx(\"stars\", 0.75).alias(\"q3_stars\"),\n",
    "        percentile_approx(\"review_count\", 0.25).alias(\"q1_reviews\"),\n",
    "        percentile_approx(\"review_count\", 0.75).alias(\"q3_reviews\")\n",
    "    ]).collect()[0]\n",
    "    \n",
    "    iqr_stars = stats[\"q3_stars\"] - stats[\"q1_stars\"]\n",
    "    iqr_reviews = stats[\"q3_reviews\"] - stats[\"q1_reviews\"]\n",
    "    \n",
    "    return df.filter(\n",
    "        (col(\"stars\").between(\n",
    "            stats[\"q1_stars\"] - 1.5 * iqr_stars,\n",
    "            stats[\"q3_stars\"] + 1.5 * iqr_stars\n",
    "        )) &\n",
    "        (col(\"review_count\").between(\n",
    "            stats[\"q1_reviews\"] - 1.5 * iqr_reviews,\n",
    "            stats[\"q3_reviews\"] + 1.5 * iqr_reviews\n",
    "        ))\n",
    "    )\n",
    "\n",
    "df = handle_outliers(df)\n",
    "df.show(5)"
   ]
  },
  {
   "cell_type": "code",
   "execution_count": 8,
   "metadata": {},
   "outputs": [],
   "source": [
    "def feature_engineering(df):\n",
    "    df = df.withColumn(\"categories_array\", split(col(\"categories\"), \",\"))\n",
    "    \n",
    "    df = df.withColumn(\"price_range\",\n",
    "        when(col(\"attributes.RestaurantsPriceRange2\") == \"1\", \"Low\")\n",
    "        .when(col(\"attributes.RestaurantsPriceRange2\") == \"2\", \"Medium\")\n",
    "        .when(col(\"attributes.RestaurantsPriceRange2\") == \"3\", \"High\")\n",
    "        .when(col(\"attributes.RestaurantsPriceRange2\") == \"4\", \"Very High\")\n",
    "        .otherwise(\"Unknown\")\n",
    "    )\n",
    "    \n",
    "    df = df.withColumn(\"business_status\", \n",
    "        when(col(\"is_open\") == 1, \"Active\")\n",
    "        .otherwise(\"Closed\")\n",
    "    )\n",
    "    \n",
    "    df = df.withColumn(\"rating_category\",\n",
    "        when(col(\"stars\") >= 4.5, \"Excellent\")\n",
    "        .when(col(\"stars\") >= 4.0, \"Very Good\")\n",
    "        .when(col(\"stars\") >= 3.5, \"Good\")\n",
    "        .when(col(\"stars\") >= 3.0, \"Average\")\n",
    "        .otherwise(\"Poor\")\n",
    "    )\n",
    "    return df"
   ]
  },
  {
   "cell_type": "code",
   "execution_count": 9,
   "metadata": {},
   "outputs": [
    {
     "name": "stdout",
     "output_type": "stream",
     "text": [
      "+--------------------+--------------------+--------------------+--------+-----+-----------+-------------+--------------+-----+------------+-------+--------------------+--------------------+--------------------+-------------+--------------------+\n",
      "|         business_id|                name|             address|    city|state|postal_code|     latitude|     longitude|stars|review_count|is_open|          attributes|          categories|               hours|stars_imputed|review_count_imputed|\n",
      "+--------------------+--------------------+--------------------+--------+-----+-----------+-------------+--------------+-----+------------+-------+--------------------+--------------------+--------------------+-------------+--------------------+\n",
      "|2vUErjw9pnsSwR5fG...|abington neurolog...|1151 Old York Roa...|abington|   PA|      19001|40.1162277794|-75.1205835432|  1.5|           7|      1|{BusinessAcceptsC...|neurologist, heal...|{Monday -> 0:0-0:...|          1.5|                   7|\n",
      "|-gg96o-MxRQ7s_NOy...|abington pediatri...|    1047 Old York Rd|abington|   PA|      19001|   40.1125514|   -75.1226581|  3.5|          20|      1|{ByAppointmentOnl...|health & medical,...|{Monday -> 8:0-20...|          3.5|                  20|\n",
      "|afV_jsKOe0fWky2Ke...|bryan stuckert pl...|      2310 Heston St|abington|   PA|      19001|   40.1222822|   -75.1334451|  5.0|          11|      1|                NULL|plumbing, home se...|                NULL|          5.0|                  11|\n",
      "|MxNVMwWRoqhSYujo0...|carestat urgent care|    1468 Old York Rd|abington|   PA|      19001|   40.1238507|   -75.1177265|  2.5|          28|      0|{ByAppointmentOnl...|urgent care, emer...|{Monday -> 8:0-20...|          2.5|                  28|\n",
      "|sSpavSvNjMcA7MVyW...|  corner bakery cafe|    1423 Old York Rd|abington|   PA|      19001|   40.1229394|   -75.1160853|  3.5|          19|      0|{BusinessAcceptsC...|breakfast & brunc...|{Monday -> 6:30-2...|          3.5|                  19|\n",
      "+--------------------+--------------------+--------------------+--------+-----+-----------+-------------+--------------+-----+------------+-------+--------------------+--------------------+--------------------+-------------+--------------------+\n",
      "only showing top 5 rows\n",
      "\n"
     ]
    }
   ],
   "source": [
    "def validate_data(df):\n",
    "    df = df.filter(\n",
    "        (col(\"stars\").between(1, 5)) &\n",
    "        (col(\"latitude\").between(-90, 90)) &\n",
    "        (col(\"longitude\").between(-180, 180)) &\n",
    "        (col(\"review_count\") >= 0)\n",
    "    )\n",
    "    \n",
    "    df = df.filter(\n",
    "        (length(col(\"business_id\")) > 0) &\n",
    "        (length(col(\"postal_code\")) == 5)\n",
    "    )\n",
    "    return df\n",
    "\n",
    "df = validate_data(df)\n",
    "df.show(5)"
   ]
  },
  {
   "cell_type": "code",
   "execution_count": 10,
   "metadata": {},
   "outputs": [],
   "source": [
    "def quality_checks(df):\n",
    "    null_counts = df.select([sum(col(c).isNull().cast(\"int\")).alias(c) \n",
    "                           for c in df.columns])\n",
    "    \n",
    "    duplicate_count = df.count() - df.dropDuplicates().count()\n",
    "    \n",
    "    value_dist = df.select(\n",
    "        mean(\"stars\").alias(\"mean_stars\"),\n",
    "        stddev(\"stars\").alias(\"stddev_stars\"),\n",
    "        mean(\"review_count\").alias(\"mean_reviews\"),\n",
    "        stddev(\"review_count\").alias(\"stddev_reviews\")\n",
    "    )\n",
    "    \n",
    "    print(\"Null Counts:\")\n",
    "    null_counts.show()\n",
    "    print(f\"\\nDuplicate Count: {duplicate_count}\")\n",
    "    print(\"\\nValue Distributions:\")\n",
    "    value_dist.show()\n",
    "    return df\n",
    "\n",
    "# Remove duplicate rows based on all columns except 'attributes' and 'hours'\n",
    "df_deduplicated = df.dropDuplicates([col for col in df.columns if df.schema[col].dataType != MapType(StringType(), StringType())])\n",
    "\n",
    "# # Apply quality checks on the deduplicated DataFrame\n",
    "# df_checked = quality_checks(df_deduplicated.drop(\"attributes\", \"hours\"))\n",
    "\n",
    "# Reassign the result back to df\n",
    "df = df_deduplicated"
   ]
  },
  {
   "cell_type": "code",
   "execution_count": 12,
   "metadata": {},
   "outputs": [],
   "source": [
    "df.write.format(\"delta\") \\\n",
    "    .option(\"mergeSchema\", \"true\") \\\n",
    "    .mode(\"overwrite\") \\\n",
    "    .partitionBy(\"state\") \\\n",
    "    .save(\"D:/Project/delta_lake/silver/business\")"
   ]
  },
  {
   "cell_type": "code",
   "execution_count": 13,
   "metadata": {},
   "outputs": [],
   "source": [
    "# Read business data from delta lake\n",
    "business_df = spark.read.format(\"delta\").load(\"D:/Project/delta_lake/silver/business\")\n"
   ]
  },
  {
   "cell_type": "code",
   "execution_count": 14,
   "metadata": {},
   "outputs": [
    {
     "name": "stdout",
     "output_type": "stream",
     "text": [
      "+--------------------+--------------------+--------------------+-----+-----+-----------+-------------+--------------+-----+------------+-------+--------------------+-------------+--------------------+--------------------+--------------------+\n",
      "|         business_id|                name|             address| city|state|postal_code|     latitude|     longitude|stars|review_count|is_open|          categories|stars_imputed|review_count_imputed|          attributes|               hours|\n",
      "+--------------------+--------------------+--------------------+-----+-----+-----------+-------------+--------------+-----+------------+-------+--------------------+-------------+--------------------+--------------------+--------------------+\n",
      "|WQYiPwm4iHCaJhyUl...| argosy casino alton|          1 Piasa St|alton|   IL|      62002|   38.8888296|-90.1868203282|  2.5|          20|      1|casinos, restaura...|          2.5|                  20|{GoodForDancing -...|{Monday -> 9:0-2:...|\n",
      "|7AjGUHCmGHQfE9cxu...|         auto butler|1706 Homer M Adam...|alton|   IL|      62002|    38.919034|    -90.164935|  1.5|          15|      1|car wash, automotive|          1.5|                  15|{BusinessAcceptsC...|                NULL|\n",
      "|QQR8GS9vdp7f918qm...|          catdaddy's|        203 W 3rd St|alton|   IL|      62002|   38.8911026|    -90.187564|  4.5|          10|      1|dive bars, sports...|          4.5|                  10|{OutdoorSeating -...|{Monday -> 17:0-0...|\n",
      "|3tArzjOVr6fhfh20_...|          china king|1837 Homer Adams ...|alton|   IL|      62002|   38.9162098|   -90.1623004|  3.5|          19|      1|restaurants, chinese|          3.5|                  19|{RestaurantsGoodF...|                NULL|\n",
      "|vcNYhPd7G8p3AtcFG...|      chinese buffet|2610 Homer M Adam...|alton|   IL|      62002|    38.917294|    -90.146428|  3.5|          34|      1|chinese, sushi ba...|          3.5|                  34|{RestaurantsAttir...|{Monday -> 10:30-...|\n",
      "|PVBqXp0NFpx4gUObO...|         comfort inn|      11 CrossRds Ct|alton|   IL|      62002|    38.902984|    -90.131768|  3.0|          10|      1|hotels & travel, ...|          3.0|                  10|{BusinessAcceptsC...|{Monday -> 0:0-0:...|\n",
      "|tbywjhakyNMRix9Uu...|don & penny's res...|        306 State St|alton|   IL|      62002|   38.8914945|   -90.1887672|  3.5|           7|      1|italian, cajun/cr...|          3.5|                   7|{RestaurantsTakeO...|{Tuesday -> 16:30...|\n",
      "|PE9YtD9t7emZ7K_-e...|   franks restaurant|    2611 College Ave|alton|   IL|      62002|   38.9031226|   -90.1472379|  3.5|           8|      0|american (new), r...|          3.5|                   8|{GoodForKids -> T...|                NULL|\n",
      "|hhNS9XW6cJHcb8myg...|       hickory grove|     201 E Center Dr|alton|   IL|      62002|38.9213679654|-90.1738254315|  4.0|           6|      1|restaurants, amer...|          4.0|                   6|{BusinessParking ...|{Monday -> 7:0-21...|\n",
      "|kwLQOE8IiKmx_ftzv...|     jack in the box|101 Homer M Adams...|alton|   IL|      62002|    38.921601|   -90.1789005|  3.5|           6|      1|fast food, tacos,...|          3.5|                   6|{NoiseLevel -> 'a...|{Monday -> 6:0-0:...|\n",
      "|MebTj2fKmOQOD9K1a...|little caesars pizza| 1601 Washington Ave|alton|   IL|      62002|   38.9012466|   -90.1494354|  1.5|           5|      1|  restaurants, pizza|          1.5|                   5|{RestaurantsPrice...|                NULL|\n",
      "|vsM7RsJNrP6ukSgy1...|          mcdonald's|      717 E Broadway|alton|   IL|      62002|   38.8892222|   -90.1743183|  1.5|          16|      0|coffee & tea, bur...|          1.5|                  16|{RestaurantsAttir...|{Monday -> 0:0-0:...|\n",
      "|hCcvBkEKLs0lYoMXf...|mini corral hambu...|        1500 Main St|alton|   IL|      62002|    38.900361|     -90.14844|  4.5|          60|      0|burgers, restaurants|          4.5|                  60|{WiFi -> 'no', Re...|                NULL|\n",
      "|X9ZFzUiG3gla1OfFF...|    my just desserts|       31 E Broadway|alton|   IL|      62002|    38.889879|   -90.1845302|  4.0|          74|      1|sandwiches, ameri...|          4.0|                  74|{RestaurantsTakeO...|{Monday -> 0:0-0:...|\n",
      "|XWOa8by51Zfw_l9Id...|popeyes louisiana...|2390 Homer M Adam...|alton|   IL|      62002|   38.9164571|    -90.152269|  2.5|          23|      1|chicken wings, re...|          2.5|                  23|{Alcohol -> u'non...|{Monday -> 10:30-...|\n",
      "|2L2G2hfs8QKfJfK1i...|quality buick gmc...|1620 E Homer Adam...|alton|   IL|      62002|   38.9202965|    -90.167183|  3.5|           7|      1|body shops, autom...|          3.5|                   7|{BusinessAcceptsC...|{Monday -> 8:30-2...|\n",
      "|4j3fiLcoIf73_hNfi...|ted's motorcycle ...|     4103 Humbert Rd|alton|   IL|      62002|   38.9363149|   -90.1562877|  4.0|           8|      1|motorcycle repair...|          4.0|                   8|{BusinessAcceptsC...|{Tuesday -> 10:0-...|\n",
      "|Mx7DSCpZgXSUAMW7b...|the perfect 10 pu...|     180 E Center Dr|alton|   IL|      62002|38.9216711192|-90.1735826843|  3.5|          33|      0|steakhouses, rest...|          3.5|                  33|{RestaurantsPrice...|{Monday -> 11:0-2...|\n",
      "|_3I8v4W8ap_XK4Pew...|valvoline instant...|205 Homer Adams Pkwy|alton|   IL|      62002|    38.919885|    -90.172283|  4.5|           8|      1|auto repair, oil ...|          4.5|                   8|{BusinessAcceptsC...|{Monday -> 0:0-0:...|\n",
      "|xCvd7YQ4nGbULAI6n...|   willies tire shop|     2715 E Broadway|alton|   IL|      62002|   38.8870568|   -90.1453667|  5.0|           5|      1|   automotive, tires|          5.0|                   5|{BusinessAcceptsC...|                NULL|\n",
      "+--------------------+--------------------+--------------------+-----+-----+-----------+-------------+--------------+-----+------------+-------+--------------------+-------------+--------------------+--------------------+--------------------+\n",
      "only showing top 20 rows\n",
      "\n",
      "root\n",
      " |-- business_id: string (nullable = true)\n",
      " |-- name: string (nullable = true)\n",
      " |-- address: string (nullable = true)\n",
      " |-- city: string (nullable = true)\n",
      " |-- state: string (nullable = true)\n",
      " |-- postal_code: string (nullable = true)\n",
      " |-- latitude: double (nullable = true)\n",
      " |-- longitude: double (nullable = true)\n",
      " |-- stars: double (nullable = true)\n",
      " |-- review_count: integer (nullable = true)\n",
      " |-- is_open: integer (nullable = true)\n",
      " |-- categories: string (nullable = true)\n",
      " |-- stars_imputed: double (nullable = true)\n",
      " |-- review_count_imputed: integer (nullable = true)\n",
      " |-- attributes: map (nullable = true)\n",
      " |    |-- key: string\n",
      " |    |-- value: string (valueContainsNull = true)\n",
      " |-- hours: map (nullable = true)\n",
      " |    |-- key: string\n",
      " |    |-- value: string (valueContainsNull = true)\n",
      "\n"
     ]
    }
   ],
   "source": [
    "# Display first few rows\n",
    "business_df.show()\n",
    "\n",
    "# Get schema information\n",
    "business_df.printSchema()\n"
   ]
  }
 ],
 "metadata": {
  "kernelspec": {
   "display_name": "venv",
   "language": "python",
   "name": "python3"
  },
  "language_info": {
   "codemirror_mode": {
    "name": "ipython",
    "version": 3
   },
   "file_extension": ".py",
   "mimetype": "text/x-python",
   "name": "python",
   "nbconvert_exporter": "python",
   "pygments_lexer": "ipython3",
   "version": "3.11.9"
  }
 },
 "nbformat": 4,
 "nbformat_minor": 2
}
