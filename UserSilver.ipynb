{
 "cells": [
  {
   "cell_type": "code",
   "execution_count": 1,
   "metadata": {},
   "outputs": [],
   "source": [
    "from pyspark.sql import SparkSession\n",
    "from pyspark.sql.functions import *\n",
    "from pyspark.sql.types import *\n",
    "from pyspark.ml.feature import Imputer\n",
    "import pyspark.sql.functions as F\n",
    "from pyspark.sql.window import Window\n",
    "from delta import *\n"
   ]
  },
  {
   "cell_type": "code",
   "execution_count": 2,
   "metadata": {},
   "outputs": [],
   "source": [
    "builder = SparkSession.builder \\\n",
    "    .appName(\"Users to Silver\") \\\n",
    "    .config(\"spark.jars.packages\", \"io.delta:delta-core_2.12:3.1.0\") \\\n",
    "    .config(\"spark.sql.extensions\", \"io.delta.sql.DeltaSparkSessionExtension\") \\\n",
    "    .config(\"spark.driver.memory\", \"6g\") \\\n",
    "    .config(\"spark.sql.catalog.spark_catalog\", \"org.apache.spark.sql.delta.catalog.DeltaCatalog\")\n",
    "\n",
    "spark = configure_spark_with_delta_pip(builder).getOrCreate()\n"
   ]
  },
  {
   "cell_type": "code",
   "execution_count": 3,
   "metadata": {},
   "outputs": [
    {
     "name": "stdout",
     "output_type": "stream",
     "text": [
      "+--------------------+------+------------+-------------------+------+-----+-----+--------------------+--------------------+----+-------------+--------------+---------------+------------------+---------------+---------------+---------------+----------------+---------------+----------------+-----------------+-----------------+\n",
      "|             user_id|  name|review_count|      yelping_since|useful|funny| cool|               elite|             friends|fans|average_stars|compliment_hot|compliment_more|compliment_profile|compliment_cute|compliment_list|compliment_note|compliment_plain|compliment_cool|compliment_funny|compliment_writer|compliment_photos|\n",
      "+--------------------+------+------------+-------------------+------+-----+-----+--------------------+--------------------+----+-------------+--------------+---------------+------------------+---------------+---------------+---------------+----------------+---------------+----------------+-----------------+-----------------+\n",
      "|qVc8ODYU5SZjKXVBg...|Walker|         585|2007-01-25 16:47:26|  7217| 1259| 5994|                2007|NSCy54eWehBJyZdG2...| 267|         3.91|           250|             65|                55|             56|             18|            232|             844|            467|             467|              239|              180|\n",
      "|j14WgRoU_-2ZE1aw1...|Daniel|        4333|2009-01-25 04:35:42| 43091|13066|27281|2009,2010,2011,20...|ueRPE0CX75ePGMqOF...|3138|         3.74|          1145|            264|               184|            157|            251|           1847|            7054|           3131|            3131|             1521|             1946|\n",
      "|2WnXYQFK0hXEoTxPt...| Steph|         665|2008-07-25 10:41:00|  2086| 1010| 1003|2009,2010,2011,20...|LuO3Bn4f3rlhyHIaN...|  52|         3.32|            89|             13|                10|             17|              3|             66|              96|            119|             119|               35|               18|\n",
      "|SZDeASXq7o05mMNLs...|  Gwen|         224|2005-11-29 04:38:33|   512|  330|  299|      2009,2010,2011|enx1vVPnfdNUdPho6...|  28|         4.27|            24|              4|                 1|              6|              2|             12|              16|             26|              26|               10|                9|\n",
      "|hA5lMy-EnncsH4JoR...| Karen|          79|2007-01-05 19:40:59|    29|   15|    7|                    |PBK4q9KEEBHhFvSXC...|   1|         3.54|             1|              1|                 0|              0|              0|              1|               1|              0|               0|                0|                0|\n",
      "+--------------------+------+------------+-------------------+------+-----+-----+--------------------+--------------------+----+-------------+--------------+---------------+------------------+---------------+---------------+---------------+----------------+---------------+----------------+-----------------+-----------------+\n",
      "only showing top 5 rows\n",
      "\n"
     ]
    }
   ],
   "source": [
    "def load_user_data(spark, path):\n",
    "    schema = StructType([\n",
    "        StructField(\"user_id\", StringType(), True),\n",
    "        StructField(\"name\", StringType(), True),\n",
    "        StructField(\"review_count\", IntegerType(), True),\n",
    "        StructField(\"yelping_since\", StringType(), True),\n",
    "        StructField(\"useful\", IntegerType(), True),\n",
    "        StructField(\"funny\", IntegerType(), True),\n",
    "        StructField(\"cool\", IntegerType(), True),\n",
    "        StructField(\"elite\", StringType(), True),\n",
    "        StructField(\"friends\", StringType(), True),\n",
    "        StructField(\"fans\", IntegerType(), True),\n",
    "        StructField(\"average_stars\", DoubleType(), True),\n",
    "        StructField(\"compliment_hot\", IntegerType(), True),\n",
    "        StructField(\"compliment_more\", IntegerType(), True),\n",
    "        StructField(\"compliment_profile\", IntegerType(), True),\n",
    "        StructField(\"compliment_cute\", IntegerType(), True),\n",
    "        StructField(\"compliment_list\", IntegerType(), True),\n",
    "        StructField(\"compliment_note\", IntegerType(), True),\n",
    "        StructField(\"compliment_plain\", IntegerType(), True),\n",
    "        StructField(\"compliment_cool\", IntegerType(), True),\n",
    "        StructField(\"compliment_funny\", IntegerType(), True),\n",
    "        StructField(\"compliment_writer\", IntegerType(), True),\n",
    "        StructField(\"compliment_photos\", IntegerType(), True)\n",
    "    ])\n",
    "    return spark.read.json(path, schema=schema)\n",
    "\n",
    "df = load_user_data(spark, \"D:/Project/delta_lake/bronze/yelp_academic_dataset_user.json\")\n",
    "df.show(5)\n"
   ]
  },
  {
   "cell_type": "code",
   "execution_count": 4,
   "metadata": {},
   "outputs": [
    {
     "name": "stdout",
     "output_type": "stream",
     "text": [
      "+--------------------+------+------------+-------------------+------+-----+-----+--------------------+--------------------+----+-------------+--------------+---------------+------------------+---------------+---------------+---------------+----------------+---------------+----------------+-----------------+-----------------+--------------------+--------------+-------------+------------+------------+---------------------+----------------------+-----------------------+--------------------------+-----------------------+-----------------------+-----------------------+------------------------+-----------------------+------------------------+-------------------------+-------------------------+\n",
      "|             user_id|  name|review_count|      yelping_since|useful|funny| cool|               elite|             friends|fans|average_stars|compliment_hot|compliment_more|compliment_profile|compliment_cute|compliment_list|compliment_note|compliment_plain|compliment_cool|compliment_funny|compliment_writer|compliment_photos|review_count_imputed|useful_imputed|funny_imputed|cool_imputed|fans_imputed|average_stars_imputed|compliment_hot_imputed|compliment_more_imputed|compliment_profile_imputed|compliment_cute_imputed|compliment_list_imputed|compliment_note_imputed|compliment_plain_imputed|compliment_cool_imputed|compliment_funny_imputed|compliment_writer_imputed|compliment_photos_imputed|\n",
      "+--------------------+------+------------+-------------------+------+-----+-----+--------------------+--------------------+----+-------------+--------------+---------------+------------------+---------------+---------------+---------------+----------------+---------------+----------------+-----------------+-----------------+--------------------+--------------+-------------+------------+------------+---------------------+----------------------+-----------------------+--------------------------+-----------------------+-----------------------+-----------------------+------------------------+-----------------------+------------------------+-------------------------+-------------------------+\n",
      "|qVc8ODYU5SZjKXVBg...|Walker|         585|2007-01-25 16:47:26|  7217| 1259| 5994|                2007|NSCy54eWehBJyZdG2...| 267|         3.91|           250|             65|                55|             56|             18|            232|             844|            467|             467|              239|              180|                 585|          7217|         1259|        5994|         267|                 3.91|                   250|                     65|                        55|                     56|                     18|                    232|                     844|                    467|                     467|                      239|                      180|\n",
      "|j14WgRoU_-2ZE1aw1...|Daniel|        4333|2009-01-25 04:35:42| 43091|13066|27281|2009,2010,2011,20...|ueRPE0CX75ePGMqOF...|3138|         3.74|          1145|            264|               184|            157|            251|           1847|            7054|           3131|            3131|             1521|             1946|                4333|         43091|        13066|       27281|        3138|                 3.74|                  1145|                    264|                       184|                    157|                    251|                   1847|                    7054|                   3131|                    3131|                     1521|                     1946|\n",
      "|2WnXYQFK0hXEoTxPt...| Steph|         665|2008-07-25 10:41:00|  2086| 1010| 1003|2009,2010,2011,20...|LuO3Bn4f3rlhyHIaN...|  52|         3.32|            89|             13|                10|             17|              3|             66|              96|            119|             119|               35|               18|                 665|          2086|         1010|        1003|          52|                 3.32|                    89|                     13|                        10|                     17|                      3|                     66|                      96|                    119|                     119|                       35|                       18|\n",
      "|SZDeASXq7o05mMNLs...|  Gwen|         224|2005-11-29 04:38:33|   512|  330|  299|      2009,2010,2011|enx1vVPnfdNUdPho6...|  28|         4.27|            24|              4|                 1|              6|              2|             12|              16|             26|              26|               10|                9|                 224|           512|          330|         299|          28|                 4.27|                    24|                      4|                         1|                      6|                      2|                     12|                      16|                     26|                      26|                       10|                        9|\n",
      "|hA5lMy-EnncsH4JoR...| Karen|          79|2007-01-05 19:40:59|    29|   15|    7|                    |PBK4q9KEEBHhFvSXC...|   1|         3.54|             1|              1|                 0|              0|              0|              1|               1|              0|               0|                0|                0|                  79|            29|           15|           7|           1|                 3.54|                     1|                      1|                         0|                      0|                      0|                      1|                       1|                      0|                       0|                        0|                        0|\n",
      "+--------------------+------+------------+-------------------+------+-----+-----+--------------------+--------------------+----+-------------+--------------+---------------+------------------+---------------+---------------+---------------+----------------+---------------+----------------+-----------------+-----------------+--------------------+--------------+-------------+------------+------------+---------------------+----------------------+-----------------------+--------------------------+-----------------------+-----------------------+-----------------------+------------------------+-----------------------+------------------------+-------------------------+-------------------------+\n",
      "only showing top 5 rows\n",
      "\n"
     ]
    }
   ],
   "source": [
    "def handle_missing_values(df):\n",
    "    numeric_cols = [\"review_count\", \"useful\", \"funny\", \"cool\", \"fans\", \"average_stars\"] + \\\n",
    "                  [col for col in df.columns if col.startswith(\"compliment_\")]\n",
    "    \n",
    "    imputer = Imputer(\n",
    "        inputCols=numeric_cols,\n",
    "        outputCols=[f\"{col}_imputed\" for col in numeric_cols]\n",
    "    ).setStrategy(\"median\")\n",
    "    \n",
    "    df = imputer.fit(df).transform(df)\n",
    "    \n",
    "    df = df.na.fill({\n",
    "        \"name\": \"Unknown\",\n",
    "        \"yelping_since\": \"1970-01-01\",\n",
    "        \"elite\": \"\",\n",
    "        \"friends\": \"\"\n",
    "    })\n",
    "    return df\n",
    "\n",
    "df = handle_missing_values(df)\n",
    "df.show(5)\n"
   ]
  },
  {
   "cell_type": "code",
   "execution_count": 5,
   "metadata": {},
   "outputs": [
    {
     "name": "stdout",
     "output_type": "stream",
     "text": [
      "+--------------------+------+------------+-------------------+------+-----+-----+--------------------+--------------------+----+-------------+--------------+---------------+------------------+---------------+---------------+---------------+----------------+---------------+----------------+-----------------+-----------------+--------------------+--------------+-------------+------------+------------+---------------------+----------------------+-----------------------+--------------------------+-----------------------+-----------------------+-----------------------+------------------------+-----------------------+------------------------+-------------------------+-------------------------+----------------+--------------------+-----------------+--------------------+-------------+\n",
      "|             user_id|  name|review_count|      yelping_since|useful|funny| cool|               elite|             friends|fans|average_stars|compliment_hot|compliment_more|compliment_profile|compliment_cute|compliment_list|compliment_note|compliment_plain|compliment_cool|compliment_funny|compliment_writer|compliment_photos|review_count_imputed|useful_imputed|funny_imputed|cool_imputed|fans_imputed|average_stars_imputed|compliment_hot_imputed|compliment_more_imputed|compliment_profile_imputed|compliment_cute_imputed|compliment_list_imputed|compliment_note_imputed|compliment_plain_imputed|compliment_cool_imputed|compliment_funny_imputed|compliment_writer_imputed|compliment_photos_imputed|account_age_days|         elite_years|elite_years_count|       friends_array|friends_count|\n",
      "+--------------------+------+------------+-------------------+------+-----+-----+--------------------+--------------------+----+-------------+--------------+---------------+------------------+---------------+---------------+---------------+----------------+---------------+----------------+-----------------+-----------------+--------------------+--------------+-------------+------------+------------+---------------------+----------------------+-----------------------+--------------------------+-----------------------+-----------------------+-----------------------+------------------------+-----------------------+------------------------+-------------------------+-------------------------+----------------+--------------------+-----------------+--------------------+-------------+\n",
      "|qVc8ODYU5SZjKXVBg...|Walker|         585|2007-01-25 16:47:26|  7217| 1259| 5994|                2007|NSCy54eWehBJyZdG2...| 267|         3.91|           250|             65|                55|             56|             18|            232|             844|            467|             467|              239|              180|                 585|          7217|         1259|        5994|         267|                 3.91|                   250|                     65|                        55|                     56|                     18|                    232|                     844|                    467|                     467|                      239|                      180|            6594|              [2007]|                1|[NSCy54eWehBJyZdG...|        14995|\n",
      "|j14WgRoU_-2ZE1aw1...|Daniel|        4333|2009-01-25 04:35:42| 43091|13066|27281|2009,2010,2011,20...|ueRPE0CX75ePGMqOF...|3138|         3.74|          1145|            264|               184|            157|            251|           1847|            7054|           3131|            3131|             1521|             1946|                4333|         43091|        13066|       27281|        3138|                 3.74|                  1145|                    264|                       184|                    157|                    251|                   1847|                    7054|                   3131|                    3131|                     1521|                     1946|            5863|[2009, 2010, 2011...|               14|[ueRPE0CX75ePGMqO...|         4646|\n",
      "|2WnXYQFK0hXEoTxPt...| Steph|         665|2008-07-25 10:41:00|  2086| 1010| 1003|2009,2010,2011,20...|LuO3Bn4f3rlhyHIaN...|  52|         3.32|            89|             13|                10|             17|              3|             66|              96|            119|             119|               35|               18|                 665|          2086|         1010|        1003|          52|                 3.32|                    89|                     13|                        10|                     17|                      3|                     66|                      96|                    119|                     119|                       35|                       18|            6047|[2009, 2010, 2011...|                5|[LuO3Bn4f3rlhyHIa...|          381|\n",
      "|SZDeASXq7o05mMNLs...|  Gwen|         224|2005-11-29 04:38:33|   512|  330|  299|      2009,2010,2011|enx1vVPnfdNUdPho6...|  28|         4.27|            24|              4|                 1|              6|              2|             12|              16|             26|              26|               10|                9|                 224|           512|          330|         299|          28|                 4.27|                    24|                      4|                         1|                      6|                      2|                     12|                      16|                     26|                      26|                       10|                        9|            7016|  [2009, 2010, 2011]|                3|[enx1vVPnfdNUdPho...|          131|\n",
      "|hA5lMy-EnncsH4JoR...| Karen|          79|2007-01-05 19:40:59|    29|   15|    7|                    |PBK4q9KEEBHhFvSXC...|   1|         3.54|             1|              1|                 0|              0|              0|              1|               1|              0|               0|                0|                0|                  79|            29|           15|           7|           1|                 3.54|                     1|                      1|                         0|                      0|                      0|                      1|                       1|                      0|                       0|                        0|                        0|            6614|                  []|                1|[PBK4q9KEEBHhFvSX...|           27|\n",
      "+--------------------+------+------------+-------------------+------+-----+-----+--------------------+--------------------+----+-------------+--------------+---------------+------------------+---------------+---------------+---------------+----------------+---------------+----------------+-----------------+-----------------+--------------------+--------------+-------------+------------+------------+---------------------+----------------------+-----------------------+--------------------------+-----------------------+-----------------------+-----------------------+------------------------+-----------------------+------------------------+-------------------------+-------------------------+----------------+--------------------+-----------------+--------------------+-------------+\n",
      "only showing top 5 rows\n",
      "\n"
     ]
    }
   ],
   "source": [
    "def transform_user_data(df):\n",
    "    df = df.withColumn(\"yelping_since\", to_timestamp(col(\"yelping_since\"))) \\\n",
    "        .withColumn(\"account_age_days\", datediff(current_date(), col(\"yelping_since\"))) \\\n",
    "        .withColumn(\"elite_years\", split(col(\"elite\"), \",\")) \\\n",
    "        .withColumn(\"elite_years_count\", size(col(\"elite_years\"))) \\\n",
    "        .withColumn(\"friends_array\", split(col(\"friends\"), \",\")) \\\n",
    "        .withColumn(\"friends_count\", size(col(\"friends_array\")))\n",
    "    \n",
    "    return df\n",
    "\n",
    "df = transform_user_data(df)\n",
    "df.show(5)\n"
   ]
  },
  {
   "cell_type": "code",
   "execution_count": 6,
   "metadata": {},
   "outputs": [
    {
     "name": "stdout",
     "output_type": "stream",
     "text": [
      "+--------------------+------+------------+-------------------+------+-----+-----+--------------------+--------------------+----+-------------+--------------+---------------+------------------+---------------+---------------+---------------+----------------+---------------+----------------+-----------------+-----------------+--------------------+--------------+-------------+------------+------------+---------------------+----------------------+-----------------------+--------------------------+-----------------------+-----------------------+-----------------------+------------------------+-----------------------+------------------------+-------------------------+-------------------------+----------------+--------------------+-----------------+--------------------+-------------+-----------------+-------------------+-----------+---------------+\n",
      "|             user_id|  name|review_count|      yelping_since|useful|funny| cool|               elite|             friends|fans|average_stars|compliment_hot|compliment_more|compliment_profile|compliment_cute|compliment_list|compliment_note|compliment_plain|compliment_cool|compliment_funny|compliment_writer|compliment_photos|review_count_imputed|useful_imputed|funny_imputed|cool_imputed|fans_imputed|average_stars_imputed|compliment_hot_imputed|compliment_more_imputed|compliment_profile_imputed|compliment_cute_imputed|compliment_list_imputed|compliment_note_imputed|compliment_plain_imputed|compliment_cool_imputed|compliment_funny_imputed|compliment_writer_imputed|compliment_photos_imputed|account_age_days|         elite_years|elite_years_count|       friends_array|friends_count|total_compliments|   engagement_score|user_status|rating_behavior|\n",
      "+--------------------+------+------------+-------------------+------+-----+-----+--------------------+--------------------+----+-------------+--------------+---------------+------------------+---------------+---------------+---------------+----------------+---------------+----------------+-----------------+-----------------+--------------------+--------------+-------------+------------+------------+---------------------+----------------------+-----------------------+--------------------------+-----------------------+-----------------------+-----------------------+------------------------+-----------------------+------------------------+-------------------------+-------------------------+----------------+--------------------+-----------------+--------------------+-------------+-----------------+-------------------+-----------+---------------+\n",
      "|qVc8ODYU5SZjKXVBg...|Walker|         585|2007-01-25 16:47:26|  7217| 1259| 5994|                2007|NSCy54eWehBJyZdG2...| 267|         3.91|           250|             65|                55|             56|             18|            232|             844|            467|             467|              239|              180|                 585|          7217|         1259|        5994|         267|                 3.91|                   250|                     65|                        55|                     56|                     18|                    232|                     844|                    467|                     467|                      239|                      180|            6594|              [2007]|                1|[NSCy54eWehBJyZdG...|        14995|             5746|  2.403245374582954|      Elite|        Neutral|\n",
      "|j14WgRoU_-2ZE1aw1...|Daniel|        4333|2009-01-25 04:35:42| 43091|13066|27281|2009,2010,2011,20...|ueRPE0CX75ePGMqOF...|3138|         3.74|          1145|            264|               184|            157|            251|           1847|            7054|           3131|            3131|             1521|             1946|                4333|         43091|        13066|       27281|        3138|                 3.74|                  1145|                    264|                       184|                    157|                    251|                   1847|                    7054|                   3131|                    3131|                     1521|                     1946|            5863|[2009, 2010, 2011...|               14|[ueRPE0CX75ePGMqO...|         4646|            41262|  2.066689408152823|      Elite|        Neutral|\n",
      "|2WnXYQFK0hXEoTxPt...| Steph|         665|2008-07-25 10:41:00|  2086| 1010| 1003|2009,2010,2011,20...|LuO3Bn4f3rlhyHIaN...|  52|         3.32|            89|             13|                10|             17|              3|             66|              96|            119|             119|               35|               18|                 665|          2086|         1010|        1003|          52|                 3.32|                    89|                     13|                        10|                     17|                      3|                     66|                      96|                    119|                     119|                       35|                       18|            6047|[2009, 2010, 2011...|                5|[LuO3Bn4f3rlhyHIa...|          381|             1170|0.18157764180585415|      Elite|        Neutral|\n",
      "|SZDeASXq7o05mMNLs...|  Gwen|         224|2005-11-29 04:38:33|   512|  330|  299|      2009,2010,2011|enx1vVPnfdNUdPho6...|  28|         4.27|            24|              4|                 1|              6|              2|             12|              16|             26|              26|               10|                9|                 224|           512|          330|         299|          28|                 4.27|                    24|                      4|                         1|                      6|                      2|                     12|                      16|                     26|                      26|                       10|                        9|            7016|  [2009, 2010, 2011]|                3|[enx1vVPnfdNUdPho...|          131|              272|0.05458950969213227|      Elite|       Positive|\n",
      "|hA5lMy-EnncsH4JoR...| Karen|          79|2007-01-05 19:40:59|    29|   15|    7|                    |PBK4q9KEEBHhFvSXC...|   1|         3.54|             1|              1|                 0|              0|              0|              1|               1|              0|               0|                0|                0|                  79|            29|           15|           7|           1|                 3.54|                     1|                      1|                         0|                      0|                      0|                      1|                       1|                      0|                       0|                        0|                        0|            6614|                  []|                1|[PBK4q9KEEBHhFvSX...|           27|                8|0.01617780465678863|      Elite|        Neutral|\n",
      "+--------------------+------+------------+-------------------+------+-----+-----+--------------------+--------------------+----+-------------+--------------+---------------+------------------+---------------+---------------+---------------+----------------+---------------+----------------+-----------------+-----------------+--------------------+--------------+-------------+------------+------------+---------------------+----------------------+-----------------------+--------------------------+-----------------------+-----------------------+-----------------------+------------------------+-----------------------+------------------------+-------------------------+-------------------------+----------------+--------------------+-----------------+--------------------+-------------+-----------------+-------------------+-----------+---------------+\n",
      "only showing top 5 rows\n",
      "\n"
     ]
    }
   ],
   "source": [
    "def feature_engineering(df):\n",
    "    # Tính tổng số compliment không dùng reduce\n",
    "    compliment_cols = [c for c in df.columns if c.startswith(\"compliment_\")]\n",
    "    total_compliments_expr = F.lit(0)\n",
    "    for c in compliment_cols:\n",
    "        total_compliments_expr = total_compliments_expr + col(c)\n",
    "    df = df.withColumn(\"total_compliments\", total_compliments_expr)\n",
    "    \n",
    "    # Tính điểm engagement dựa trên review, fans và số lượng bạn bè\n",
    "    df = df.withColumn(\"engagement_score\", \n",
    "                       (col(\"review_count\") + col(\"fans\") + col(\"friends_count\")) / col(\"account_age_days\"))\n",
    "    \n",
    "    # Xác định trạng thái người dùng dựa trên điều kiện\n",
    "    df = df.withColumn(\"user_status\",\n",
    "        when(size(col(\"elite_years\")) > 0, \"Elite\")\n",
    "        .when(col(\"fans\") > 10, \"Popular\")\n",
    "        .when(col(\"review_count\") > 50, \"Active\")\n",
    "        .otherwise(\"Regular\"))\n",
    "    \n",
    "    # Phân loại hành vi đánh giá\n",
    "    df = df.withColumn(\"rating_behavior\",\n",
    "        when(col(\"average_stars\") >= 4.0, \"Positive\")\n",
    "        .when(col(\"average_stars\") <= 2.0, \"Critical\")\n",
    "        .otherwise(\"Neutral\"))\n",
    "    \n",
    "    return df\n",
    "\n",
    "\n",
    "df = feature_engineering(df)\n",
    "df.show(5)\n"
   ]
  },
  {
   "cell_type": "code",
   "execution_count": 7,
   "metadata": {},
   "outputs": [
    {
     "name": "stdout",
     "output_type": "stream",
     "text": [
      "+--------------------+------+------------+-------------------+------+-----+-----+--------------------+--------------------+----+-------------+--------------+---------------+------------------+---------------+---------------+---------------+----------------+---------------+----------------+-----------------+-----------------+--------------------+--------------+-------------+------------+------------+---------------------+----------------------+-----------------------+--------------------------+-----------------------+-----------------------+-----------------------+------------------------+-----------------------+------------------------+-------------------------+-------------------------+----------------+--------------------+-----------------+--------------------+-------------+-----------------+-------------------+-----------+---------------+\n",
      "|             user_id|  name|review_count|      yelping_since|useful|funny| cool|               elite|             friends|fans|average_stars|compliment_hot|compliment_more|compliment_profile|compliment_cute|compliment_list|compliment_note|compliment_plain|compliment_cool|compliment_funny|compliment_writer|compliment_photos|review_count_imputed|useful_imputed|funny_imputed|cool_imputed|fans_imputed|average_stars_imputed|compliment_hot_imputed|compliment_more_imputed|compliment_profile_imputed|compliment_cute_imputed|compliment_list_imputed|compliment_note_imputed|compliment_plain_imputed|compliment_cool_imputed|compliment_funny_imputed|compliment_writer_imputed|compliment_photos_imputed|account_age_days|         elite_years|elite_years_count|       friends_array|friends_count|total_compliments|   engagement_score|user_status|rating_behavior|\n",
      "+--------------------+------+------------+-------------------+------+-----+-----+--------------------+--------------------+----+-------------+--------------+---------------+------------------+---------------+---------------+---------------+----------------+---------------+----------------+-----------------+-----------------+--------------------+--------------+-------------+------------+------------+---------------------+----------------------+-----------------------+--------------------------+-----------------------+-----------------------+-----------------------+------------------------+-----------------------+------------------------+-------------------------+-------------------------+----------------+--------------------+-----------------+--------------------+-------------+-----------------+-------------------+-----------+---------------+\n",
      "|qVc8ODYU5SZjKXVBg...|Walker|         585|2007-01-25 16:47:26|  7217| 1259| 5994|                2007|NSCy54eWehBJyZdG2...| 267|         3.91|           250|             65|                55|             56|             18|            232|             844|            467|             467|              239|              180|                 585|          7217|         1259|        5994|         267|                 3.91|                   250|                     65|                        55|                     56|                     18|                    232|                     844|                    467|                     467|                      239|                      180|            6594|              [2007]|                1|[NSCy54eWehBJyZdG...|        14995|             5746|  2.403245374582954|      Elite|        Neutral|\n",
      "|j14WgRoU_-2ZE1aw1...|Daniel|        4333|2009-01-25 04:35:42| 43091|13066|27281|2009,2010,2011,20...|ueRPE0CX75ePGMqOF...|3138|         3.74|          1145|            264|               184|            157|            251|           1847|            7054|           3131|            3131|             1521|             1946|                4333|         43091|        13066|       27281|        3138|                 3.74|                  1145|                    264|                       184|                    157|                    251|                   1847|                    7054|                   3131|                    3131|                     1521|                     1946|            5863|[2009, 2010, 2011...|               14|[ueRPE0CX75ePGMqO...|         4646|            41262|  2.066689408152823|      Elite|        Neutral|\n",
      "|2WnXYQFK0hXEoTxPt...| Steph|         665|2008-07-25 10:41:00|  2086| 1010| 1003|2009,2010,2011,20...|LuO3Bn4f3rlhyHIaN...|  52|         3.32|            89|             13|                10|             17|              3|             66|              96|            119|             119|               35|               18|                 665|          2086|         1010|        1003|          52|                 3.32|                    89|                     13|                        10|                     17|                      3|                     66|                      96|                    119|                     119|                       35|                       18|            6047|[2009, 2010, 2011...|                5|[LuO3Bn4f3rlhyHIa...|          381|             1170|0.18157764180585415|      Elite|        Neutral|\n",
      "|SZDeASXq7o05mMNLs...|  Gwen|         224|2005-11-29 04:38:33|   512|  330|  299|      2009,2010,2011|enx1vVPnfdNUdPho6...|  28|         4.27|            24|              4|                 1|              6|              2|             12|              16|             26|              26|               10|                9|                 224|           512|          330|         299|          28|                 4.27|                    24|                      4|                         1|                      6|                      2|                     12|                      16|                     26|                      26|                       10|                        9|            7016|  [2009, 2010, 2011]|                3|[enx1vVPnfdNUdPho...|          131|              272|0.05458950969213227|      Elite|       Positive|\n",
      "|hA5lMy-EnncsH4JoR...| Karen|          79|2007-01-05 19:40:59|    29|   15|    7|                    |PBK4q9KEEBHhFvSXC...|   1|         3.54|             1|              1|                 0|              0|              0|              1|               1|              0|               0|                0|                0|                  79|            29|           15|           7|           1|                 3.54|                     1|                      1|                         0|                      0|                      0|                      1|                       1|                      0|                       0|                        0|                        0|            6614|                  []|                1|[PBK4q9KEEBHhFvSX...|           27|                8|0.01617780465678863|      Elite|        Neutral|\n",
      "+--------------------+------+------------+-------------------+------+-----+-----+--------------------+--------------------+----+-------------+--------------+---------------+------------------+---------------+---------------+---------------+----------------+---------------+----------------+-----------------+-----------------+--------------------+--------------+-------------+------------+------------+---------------------+----------------------+-----------------------+--------------------------+-----------------------+-----------------------+-----------------------+------------------------+-----------------------+------------------------+-------------------------+-------------------------+----------------+--------------------+-----------------+--------------------+-------------+-----------------+-------------------+-----------+---------------+\n",
      "only showing top 5 rows\n",
      "\n"
     ]
    }
   ],
   "source": [
    "def validate_data(df):\n",
    "    df = df.filter(\n",
    "        (col(\"average_stars\").between(1, 5)) &\n",
    "        (col(\"review_count\") >= 0) &\n",
    "        (col(\"fans\") >= 0) &\n",
    "        (length(col(\"user_id\")) > 0)\n",
    "    )\n",
    "    \n",
    "    numeric_cols = [\"useful\", \"funny\", \"cool\"] + \\\n",
    "                  [col for col in df.columns if col.startswith(\"compliment_\")]\n",
    "    \n",
    "    for col_name in numeric_cols:\n",
    "        df = df.filter(col(col_name) >= 0)\n",
    "    \n",
    "    return df\n",
    "\n",
    "df = validate_data(df)\n",
    "df.show(5)\n"
   ]
  },
  {
   "cell_type": "code",
   "execution_count": 8,
   "metadata": {},
   "outputs": [
    {
     "name": "stdout",
     "output_type": "stream",
     "text": [
      "Null Counts:\n",
      "+-------+----+------------+-------------+------+-----+----+-----+-------+----+-------------+--------------+---------------+------------------+---------------+---------------+---------------+----------------+---------------+----------------+-----------------+-----------------+--------------------+--------------+-------------+------------+------------+---------------------+----------------------+-----------------------+--------------------------+-----------------------+-----------------------+-----------------------+------------------------+-----------------------+------------------------+-------------------------+-------------------------+----------------+-----------+-----------------+-------------+-------------+-----------------+----------------+-----------+---------------+\n",
      "|user_id|name|review_count|yelping_since|useful|funny|cool|elite|friends|fans|average_stars|compliment_hot|compliment_more|compliment_profile|compliment_cute|compliment_list|compliment_note|compliment_plain|compliment_cool|compliment_funny|compliment_writer|compliment_photos|review_count_imputed|useful_imputed|funny_imputed|cool_imputed|fans_imputed|average_stars_imputed|compliment_hot_imputed|compliment_more_imputed|compliment_profile_imputed|compliment_cute_imputed|compliment_list_imputed|compliment_note_imputed|compliment_plain_imputed|compliment_cool_imputed|compliment_funny_imputed|compliment_writer_imputed|compliment_photos_imputed|account_age_days|elite_years|elite_years_count|friends_array|friends_count|total_compliments|engagement_score|user_status|rating_behavior|\n",
      "+-------+----+------------+-------------+------+-----+----+-----+-------+----+-------------+--------------+---------------+------------------+---------------+---------------+---------------+----------------+---------------+----------------+-----------------+-----------------+--------------------+--------------+-------------+------------+------------+---------------------+----------------------+-----------------------+--------------------------+-----------------------+-----------------------+-----------------------+------------------------+-----------------------+------------------------+-------------------------+-------------------------+----------------+-----------+-----------------+-------------+-------------+-----------------+----------------+-----------+---------------+\n",
      "|      0|   0|           0|            0|     0|    0|   0|    0|      0|   0|            0|             0|              0|                 0|              0|              0|              0|               0|              0|               0|                0|                0|                   0|             0|            0|           0|           0|                    0|                     0|                      0|                         0|                      0|                      0|                      0|                       0|                      0|                       0|                        0|                        0|               0|          0|                0|            0|            0|                0|               0|          0|              0|\n",
      "+-------+----+------------+-------------+------+-----+----+-----+-------+----+-------------+--------------+---------------+------------------+---------------+---------------+---------------+----------------+---------------+----------------+-----------------+-----------------+--------------------+--------------+-------------+------------+------------+---------------------+----------------------+-----------------------+--------------------------+-----------------------+-----------------------+-----------------------+------------------------+-----------------------+------------------------+-------------------------+-------------------------+----------------+-----------+-----------------+-------------+-------------+-----------------+----------------+-----------+---------------+\n",
      "\n",
      "\n",
      "User Statistics:\n",
      "+------------------+------------------+----------------+------------------+------------------+\n",
      "|       avg_reviews|          avg_fans|      avg_rating|   avg_compliments|       avg_friends|\n",
      "+------------------+------------------+----------------+------------------+------------------+\n",
      "|23.394409267683386|1.4657404282012598|3.63049415035087|29.746218239677408|53.375011381374385|\n",
      "+------------------+------------------+----------------+------------------+------------------+\n",
      "\n",
      "\n",
      "User Status Distribution:\n",
      "+-----------+----------+\n",
      "|user_status|user_count|\n",
      "+-----------+----------+\n",
      "|      Elite|   1987897|\n",
      "+-----------+----------+\n",
      "\n"
     ]
    }
   ],
   "source": [
    "def quality_checks(df):\n",
    "    null_counts = df.select([sum(col(c).isNull().cast(\"int\")).alias(c) \n",
    "                           for c in df.columns])\n",
    "    \n",
    "    user_stats = df.select(\n",
    "        mean(\"review_count\").alias(\"avg_reviews\"),\n",
    "        mean(\"fans\").alias(\"avg_fans\"),\n",
    "        mean(\"average_stars\").alias(\"avg_rating\"),\n",
    "        mean(\"total_compliments\").alias(\"avg_compliments\"),\n",
    "        mean(\"friends_count\").alias(\"avg_friends\")\n",
    "    )\n",
    "    \n",
    "    status_dist = df.groupBy(\"user_status\") \\\n",
    "        .agg(count(\"*\").alias(\"user_count\")) \\\n",
    "        .orderBy(\"user_status\")\n",
    "    \n",
    "    print(\"Null Counts:\")\n",
    "    null_counts.show()\n",
    "    print(\"\\nUser Statistics:\")\n",
    "    user_stats.show()\n",
    "    print(\"\\nUser Status Distribution:\")\n",
    "    status_dist.show()\n",
    "    \n",
    "    return df\n",
    "\n",
    "df = quality_checks(df)\n"
   ]
  },
  {
   "cell_type": "code",
   "execution_count": 9,
   "metadata": {},
   "outputs": [],
   "source": [
    "df = df.repartition(200)"
   ]
  },
  {
   "cell_type": "code",
   "execution_count": null,
   "metadata": {},
   "outputs": [],
   "source": [
    "try:\n",
    "    df.write.format(\"delta\") \\\n",
    "        .option(\"mergeSchema\", \"true\") \\\n",
    "        .mode(\"overwrite\") \\\n",
    "        .partitionBy(\"rating_behavior\") \\\n",
    "        .save(\"D:/Project/delta_lake/silver/users\")\n",
    "except Exception as e:\n",
    "    print(\"Error while writing Delta table:\", e)\n"
   ]
  }
 ],
 "metadata": {
  "kernelspec": {
   "display_name": "venv",
   "language": "python",
   "name": "python3"
  },
  "language_info": {
   "codemirror_mode": {
    "name": "ipython",
    "version": 3
   },
   "file_extension": ".py",
   "mimetype": "text/x-python",
   "name": "python",
   "nbconvert_exporter": "python",
   "pygments_lexer": "ipython3",
   "version": "3.11.9"
  }
 },
 "nbformat": 4,
 "nbformat_minor": 2
}
